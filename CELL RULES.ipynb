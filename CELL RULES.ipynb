{
 "cells": [
  {
   "cell_type": "code",
   "execution_count": 4,
   "metadata": {},
   "outputs": [],
   "source": [
    "import pandas as pd\n",
    "import numpy as np"
   ]
  },
  {
   "cell_type": "code",
   "execution_count": 5,
   "metadata": {},
   "outputs": [],
   "source": [
    "df = pd.read_excel('C:/Users/ScMa9004/Documents/Panel/NEW PANEL/FMCG_CIG_BEER.xlsx', sheet_name = 'index + mcellname')"
   ]
  },
  {
   "cell_type": "code",
   "execution_count": 6,
   "metadata": {},
   "outputs": [],
   "source": [
    "df['new_mcell_name'] = df['new_mcell_name'].str.replace('Rostov-na-Donu', 'Rostov na Donu')\n",
    "df['new_mcell_name'] = df['new_mcell_name'].str.replace('Ulan-Ude', 'Ulan Ude')\n",
    "df['new_mcell_name'] = df['new_mcell_name'].str.replace('Komsomolsk-na-Amure', 'Komsomolsk na Amure')"
   ]
  },
  {
   "cell_type": "code",
   "execution_count": 7,
   "metadata": {},
   "outputs": [],
   "source": [
    "def parser(mcell):\n",
    "    if mcell.split('-')[0] in ['CNT', 'FST', 'VOL', 'URL', 'NWT', 'STH', 'MSO', 'SIB']:\n",
    "        area = [mcell.split('-')[0]]\n",
    "        if 'RR' in mcell.split('-')[-1]:\n",
    "            ccodes = []\n",
    "            subreg = list(map(int, mcell.split('-')[1].split('|')))\n",
    "            types = ['OSU', 'OLA', 'OME', 'OSM', 'OPV', 'OMM', 'OMS']\n",
    "            pgr = list(mcell.split('-')[2].split('|'))\n",
    "            ds = list(mcell.split('-')[3].split('|'))\n",
    "            hip = []\n",
    "            ndx = [mcell.split('-')[-1]]\n",
    "            NO_city = []\n",
    "            ttr = ['MT', 'TT']\n",
    "        else:\n",
    "            ccodes = []\n",
    "            subreg = list(map(int, mcell.split('-')[1].split('|')))\n",
    "            #if ('IML' in mcell.split('-')[2]) | ('IMS' in mcell.split('-')[2]):\n",
    "            #    types = ['OKS', 'ONS', 'OPV', 'OSM']\n",
    "            #else:\n",
    "            types = list(mcell.split('-')[2].split('|'))\n",
    "            pgr = list(map(int, mcell.split('-')[3].split('|')))\n",
    "            ttr = list(mcell.split('-')[4].split('|'))\n",
    "            try:\n",
    "                NO_city = list(map(int, mcell.split('-')[5].replace('(', '').replace(')', '').split('&')))\n",
    "            except:\n",
    "                NO_city = []\n",
    "            hip = []\n",
    "            ndx = [mcell.split('-')[-1]]\n",
    "            ds = []\n",
    "    else:\n",
    "        if '|' in mcell.split('-')[0]:\n",
    "            area = [mcell.split('-')[0] + ' ' + mcell.split('-')[1]]\n",
    "        else:\n",
    "            area = [mcell.split('-')[1]]\n",
    "        ccodes = list(map(int, mcell.split('-')[0].split('|')))\n",
    "        subreg = []\n",
    "        types = list(mcell.split('-')[2].split('|'))\n",
    "        if ('Y' in mcell.split('-')[3]) | ('N' in mcell.split('-')[3]):\n",
    "            ttr = ['TT']\n",
    "            hip = list(mcell.split('-')[3])\n",
    "        else:\n",
    "            ttr = list(mcell.split('-')[3].split('|'))\n",
    "            hip = []\n",
    "        NO_city = []\n",
    "        pgr = []\n",
    "        ndx = [mcell.split('-')[-1]]\n",
    "        ds = []\n",
    "    return(area, ccodes, subreg, types, pgr, ttr, NO_city, hip, ds, ndx)"
   ]
  },
  {
   "cell_type": "code",
   "execution_count": 8,
   "metadata": {},
   "outputs": [],
   "source": [
    "res = pd.DataFrame(columns = ['index', 'area', 'ccodes', 'subreg', 'types', 'pgr', 'ttr', 'NO_city', 'hip', 'ds', 'ndx'])"
   ]
  },
  {
   "cell_type": "code",
   "execution_count": 9,
   "metadata": {},
   "outputs": [],
   "source": [
    "for i in df.index:\n",
    "    res.loc[i, 'index'] = df['index'][i]\n",
    "    a = parser(df['new_mcell_name'][i])\n",
    "    res.loc[i, 'area'] = a[0]\n",
    "    res.loc[i, 'ccodes'] = a[1]\n",
    "    res.loc[i, 'subreg'] = a[2]\n",
    "    res.loc[i, 'types'] = a[3]\n",
    "    res.loc[i, 'pgr'] = a[4]\n",
    "    res.loc[i, 'ttr'] = a[5]\n",
    "    res.loc[i, 'NO_city'] = a[6]\n",
    "    res.loc[i, 'hip'] = a[7]\n",
    "    res.loc[i, 'ds'] = a[8]\n",
    "    res.loc[i, 'ndx'] = a[9]"
   ]
  },
  {
   "cell_type": "code",
   "execution_count": 10,
   "metadata": {},
   "outputs": [],
   "source": [
    "res = res.set_index('index')"
   ]
  },
  {
   "cell_type": "code",
   "execution_count": 11,
   "metadata": {},
   "outputs": [],
   "source": [
    "cell_rules = pd.DataFrame(columns = ['index', 'RULE_DESCRIPTION', 'RULE_TYPE', 'ATTRIBUTE_ID', 'OPERATOR', 'VALUE', \n",
    "                                     'OPENBRACE', 'CLOSEBRACE', 'CONDITION'])"
   ]
  },
  {
   "cell_type": "code",
   "execution_count": 12,
   "metadata": {
    "scrolled": true
   },
   "outputs": [],
   "source": [
    "CELL_AREA = res[['area', 'ccodes', 'subreg', 'pgr', 'ds', 'NO_city']].astype('str').drop_duplicates()"
   ]
  },
  {
   "cell_type": "code",
   "execution_count": 13,
   "metadata": {},
   "outputs": [],
   "source": [
    "k = -1\n",
    "for i, j in CELL_AREA.iterrows():\n",
    "    RULE_DESCRIPTION = j['area'].replace('[', '').replace(']', '').replace(\"'\", \"\")\n",
    "    if j['ccodes'] != '[]':\n",
    "        k += 1\n",
    "        cell_rules.loc[k, 'ATTRIBUTE_ID'] = 20125\n",
    "        if len(j['ccodes'].split(',')) == 1:\n",
    "            cell_rules.loc[k, 'OPERATOR'] = '='\n",
    "        else:\n",
    "            cell_rules.loc[k, 'OPERATOR'] = 'IN'\n",
    "        cell_rules.loc[k, 'VALUE'] = j['ccodes'].replace('[', '').replace(']', '').replace(', ', '|')\n",
    "    else:\n",
    "        ##########subreg###########\n",
    "        k += 1\n",
    "        RULE_DESCRIPTION += ' ' + j['subreg'].replace('[', '').replace(']', '').replace(\"'\", \"\").replace(', ', '|')\n",
    "        cell_rules.loc[k, 'ATTRIBUTE_ID'] = 1001023\n",
    "        if len(j['subreg'].split(',')) == 1:\n",
    "            cell_rules.loc[k, 'OPERATOR'] = '='\n",
    "        else:\n",
    "            cell_rules.loc[k, 'OPERATOR'] = 'IN'\n",
    "        cell_rules.loc[k, 'VALUE'] = j['subreg'].replace('[', '').replace(']', '').replace(', ', '|')\n",
    "        cell_rules.loc[k, 'CONDITION'] = 'AND'\n",
    "        ##########pgr##############\n",
    "        k += 1\n",
    "        RULE_DESCRIPTION += ' ' + j['pgr'].replace('[', '').replace(']', '').replace(\"'\", \"\").replace(', ', '|')\n",
    "        cell_rules.loc[k, 'ATTRIBUTE_ID'] = 1001022\n",
    "        if len(j['pgr'].replace('[', '').replace(']', '').replace(', ', '|').replace(\"'\", \"\").split('|')) == 1:\n",
    "            cell_rules.loc[k, 'OPERATOR'] = '='\n",
    "        else:\n",
    "            cell_rules.loc[k, 'OPERATOR'] = 'IN'\n",
    "        cell_rules.loc[k, 'VALUE'] = j['pgr'].replace('[', '').replace(']', '').replace(', ', '|').replace(\"'\", \"\")\n",
    "        ##########distance_strata###\n",
    "        if j['ds'] != '[]':\n",
    "            cell_rules.loc[k, 'CONDITION'] = 'AND'\n",
    "            k += 1\n",
    "            RULE_DESCRIPTION += ' ' + j['ds'].replace('[', '').replace(']', '').replace(\"'\", \"\")\n",
    "            cell_rules.loc[k, 'ATTRIBUTE_ID'] = 21118\n",
    "            cell_rules.loc[k, 'OPERATOR'] = '='\n",
    "            cell_rules.loc[k, 'VALUE'] = int(j['ds'].replace('[', '').replace(']', '').replace(\"'\", \"\"))\n",
    "        ##########NO_city###\n",
    "        if j['NO_city'] != '[]':\n",
    "            RULE_DESCRIPTION += ' NO ' + j['NO_city'].replace('[', '').replace(']', '').replace(\"'\", \"\").replace(', ', '&')\n",
    "#            cell_rules.loc[k, 'CONDITION'] = 'AND'    #########################################\n",
    "            for n in range(len(j['NO_city'].replace('[', '').replace(']', '').split(','))):\n",
    "                cell_rules.loc[k, 'CONDITION'] = 'AND'\n",
    "                k += 1\n",
    "                cell_rules.loc[k, 'ATTRIBUTE_ID'] = 20125\n",
    "                cell_rules.loc[k, 'OPERATOR'] = '!='\n",
    "                cell_rules.loc[k, 'VALUE'] = int(j['NO_city'].replace('[', '').replace(']', '').split(',')[n])\n",
    "    cell_rules.loc[k, 'RULE_DESCRIPTION'] = RULE_DESCRIPTION\n",
    "    cell_rules.loc[k, 'index'] = i\n",
    "cell_rules['RULE_DESCRIPTION'] = cell_rules['RULE_DESCRIPTION'].bfill()\n",
    "cell_rules['index'] = cell_rules['index'].bfill()\n",
    "cell_rules['RULE_TYPE'] = 'CELL_AREA'"
   ]
  },
  {
   "cell_type": "code",
   "execution_count": 14,
   "metadata": {
    "scrolled": true
   },
   "outputs": [],
   "source": [
    "cell_area = cell_rules"
   ]
  },
  {
   "cell_type": "code",
   "execution_count": 15,
   "metadata": {},
   "outputs": [],
   "source": [
    "cell_rules = pd.DataFrame(columns = ['index', 'RULE_DESCRIPTION', 'RULE_TYPE', 'ATTRIBUTE_ID', 'OPERATOR', 'VALUE', \n",
    "                                     'OPENBRACE', 'CLOSEBRACE', 'CONDITION'])"
   ]
  },
  {
   "cell_type": "code",
   "execution_count": 16,
   "metadata": {
    "scrolled": true
   },
   "outputs": [],
   "source": [
    "CELL_STORE = res[['types', 'ttr', 'hip']].astype('str').drop_duplicates()"
   ]
  },
  {
   "cell_type": "code",
   "execution_count": 17,
   "metadata": {
    "scrolled": true
   },
   "outputs": [],
   "source": [
    "k = -1\n",
    "for i, j in CELL_STORE.iterrows():\n",
    "    ##########types###########\n",
    "    k += 1\n",
    "    RULE_DESCRIPTION = j['types'].replace('[', '').replace(']', '').replace(\"'\", \"\").replace(', ', '|')\n",
    "    cell_rules.loc[k, 'ATTRIBUTE_ID'] = 6\n",
    "    if 'IML' in j['types']:\n",
    "        cell_rules.loc[k, 'OPERATOR'] = 'IN'\n",
    "        cell_rules.loc[k, 'VALUE'] = 'ONS|OKS|OPV|OSM'\n",
    "        cell_rules.loc[k, 'CONDITION'] = 'AND'\n",
    "        k += 1\n",
    "        RULE_DESCRIPTION = j['types'].replace('[', '').replace(']', '').replace(\"'\", \"\")\n",
    "        cell_rules.loc[k, 'ATTRIBUTE_ID'] = 15\n",
    "        cell_rules.loc[k, 'OPERATOR'] = '>'\n",
    "        cell_rules.loc[k, 'VALUE'] = 12\n",
    "        cell_rules.loc[k, 'CONDITION'] = 'AND'\n",
    "    elif 'IMS' in j['types']:\n",
    "        cell_rules.loc[k, 'OPERATOR'] = 'IN'\n",
    "        cell_rules.loc[k, 'VALUE'] = 'ONS|OKS|OPV|OSM'\n",
    "        cell_rules.loc[k, 'CONDITION'] = 'AND'\n",
    "        k += 1\n",
    "        RULE_DESCRIPTION = j['types'].replace('[', '').replace(']', '').replace(\"'\", \"\")\n",
    "        cell_rules.loc[k, 'ATTRIBUTE_ID'] = 15\n",
    "        cell_rules.loc[k, 'OPERATOR'] = '<='\n",
    "        cell_rules.loc[k, 'VALUE'] = 12\n",
    "        cell_rules.loc[k, 'CONDITION'] = 'AND'\n",
    "    else:\n",
    "        if len(j['types'].split(',')) == 1:\n",
    "            cell_rules.loc[k, 'OPERATOR'] = '='\n",
    "        else:\n",
    "            cell_rules.loc[k, 'OPERATOR'] = 'IN'\n",
    "        cell_rules.loc[k, 'VALUE'] = j['types'].replace('[', '').replace(']', '').replace(', ', '|').replace(\"'\", \"\")\n",
    "        cell_rules.loc[k, 'CONDITION'] = 'AND'\n",
    "    ##########ttr##############\n",
    "    k += 1\n",
    "    RULE_DESCRIPTION += ' ' + j['ttr'].replace('[', '').replace(']', '').replace(', ', '|').replace(\"'\", \"\")\n",
    "    cell_rules.loc[k, 'ATTRIBUTE_ID'] = 24\n",
    "    if len(j['ttr'].split(',')) == 1:\n",
    "        cell_rules.loc[k, 'OPERATOR'] = '='\n",
    "    else:\n",
    "        cell_rules.loc[k, 'OPERATOR'] = 'IN'\n",
    "    cell_rules.loc[k, 'VALUE'] = j['ttr'].replace('[', '').replace(']', '').replace(', ', '|').replace(\"'\", \"\")\n",
    "    ##########hip###\n",
    "    if j['hip'] != '[]':\n",
    "        cell_rules.loc[k, 'CONDITION'] = 'AND'\n",
    "        k += 1\n",
    "        RULE_DESCRIPTION += ' ' + j['hip'].replace('[', '').replace(']', '').replace(\"'\", \"\")\n",
    "        cell_rules.loc[k, 'ATTRIBUTE_ID'] = 9227\n",
    "        cell_rules.loc[k, 'OPERATOR'] = '='\n",
    "        cell_rules.loc[k, 'VALUE'] = j['hip'].replace('[', '').replace(']', '').replace(\"'\", \"\")\n",
    "    ######RULE_DESCRIPTION########\n",
    "    cell_rules.loc[k, 'RULE_DESCRIPTION'] = RULE_DESCRIPTION\n",
    "    cell_rules.loc[k, 'index'] = i\n",
    "cell_rules['RULE_DESCRIPTION'] = cell_rules['RULE_DESCRIPTION'].bfill()\n",
    "cell_rules['index'] = cell_rules['index'].bfill()\n",
    "cell_rules['RULE_TYPE'] = 'CELL_STORE'"
   ]
  },
  {
   "cell_type": "code",
   "execution_count": 18,
   "metadata": {},
   "outputs": [],
   "source": [
    "cell_store = cell_rules"
   ]
  },
  {
   "cell_type": "code",
   "execution_count": 19,
   "metadata": {},
   "outputs": [],
   "source": [
    "cell_rules = pd.DataFrame(columns = ['index', 'RULE_DESCRIPTION', 'RULE_TYPE', 'ATTRIBUTE_ID', 'OPERATOR', 'VALUE', \n",
    "                                     'OPENBRACE', 'CLOSEBRACE', 'CONDITION'])"
   ]
  },
  {
   "cell_type": "code",
   "execution_count": 20,
   "metadata": {},
   "outputs": [],
   "source": [
    "MICRO_CELL = res.astype('str')"
   ]
  },
  {
   "cell_type": "code",
   "execution_count": 21,
   "metadata": {},
   "outputs": [],
   "source": [
    "k = -1\n",
    "for i, j in MICRO_CELL.iterrows():\n",
    "    if j['ccodes'] != '[]':\n",
    "        k += 1\n",
    "        cell_rules.loc[k, 'ATTRIBUTE_ID'] = 20125\n",
    "        if len(j['ccodes'].split(',')) == 1:\n",
    "            cell_rules.loc[k, 'OPERATOR'] = '='\n",
    "        else:\n",
    "            cell_rules.loc[k, 'OPERATOR'] = 'IN'\n",
    "        cell_rules.loc[k, 'VALUE'] = j['ccodes'].replace('[', '').replace(']', '').replace(', ', '|')\n",
    "    else:\n",
    "        #subreg\n",
    "        k += 1\n",
    "        cell_rules.loc[k, 'ATTRIBUTE_ID'] = 1001023\n",
    "        if len(j['subreg'].split(',')) == 1:\n",
    "            cell_rules.loc[k, 'OPERATOR'] = '='\n",
    "        else:\n",
    "            cell_rules.loc[k, 'OPERATOR'] = 'IN'\n",
    "        cell_rules.loc[k, 'VALUE'] = j['subreg'].replace('[', '').replace(']', '').replace(', ', '|')\n",
    "        cell_rules.loc[k, 'CONDITION'] = 'AND'\n",
    "        #pgr\n",
    "        k += 1\n",
    "        cell_rules.loc[k, 'ATTRIBUTE_ID'] = 1001022\n",
    "        if len(j['pgr'].replace('[', '').replace(']', '').replace(', ', '|').replace(\"'\", \"\").split('|')) == 1:\n",
    "            cell_rules.loc[k, 'OPERATOR'] = '='\n",
    "        else:\n",
    "            cell_rules.loc[k, 'OPERATOR'] = 'IN'\n",
    "        cell_rules.loc[k, 'VALUE'] = j['pgr'].replace('[', '').replace(']', '').replace(', ', '|').replace(\"'\", \"\")\n",
    "        #distance_strata\n",
    "        if j['ds'] != '[]':\n",
    "            cell_rules.loc[k, 'CONDITION'] = 'AND'\n",
    "            k += 1\n",
    "            cell_rules.loc[k, 'ATTRIBUTE_ID'] = 21118\n",
    "            cell_rules.loc[k, 'OPERATOR'] = '='\n",
    "            cell_rules.loc[k, 'VALUE'] = int(j['ds'].replace('[', '').replace(']', '').replace(\"'\", \"\"))\n",
    "        #NO_city\n",
    "        if j['NO_city'] != '[]':\n",
    "#            cell_rules.loc[k, 'CONDITION'] = 'AND'\n",
    "            for n in range(len(j['NO_city'].replace('[', '').replace(']', '').split(','))):\n",
    "                cell_rules.loc[k, 'CONDITION'] = 'AND' \n",
    "                k += 1\n",
    "                cell_rules.loc[k, 'ATTRIBUTE_ID'] = 20125\n",
    "                cell_rules.loc[k, 'OPERATOR'] = '!='\n",
    "                cell_rules.loc[k, 'VALUE'] = int(j['NO_city'].replace('[', '').replace(']', '').split(',')[n])\n",
    "    cell_rules.loc[k, 'CONDITION'] = 'AND'\n",
    "    k += 1\n",
    "    cell_rules.loc[k, 'ATTRIBUTE_ID'] = 6\n",
    "    if 'IML' in j['types']:\n",
    "        cell_rules.loc[k, 'OPERATOR'] = 'IN'\n",
    "        cell_rules.loc[k, 'VALUE'] = 'ONS|OKS|OPV|OSM'\n",
    "        cell_rules.loc[k, 'CONDITION'] = 'AND'\n",
    "        k += 1\n",
    "        cell_rules.loc[k, 'ATTRIBUTE_ID'] = 15\n",
    "        cell_rules.loc[k, 'OPERATOR'] = '>'\n",
    "        cell_rules.loc[k, 'VALUE'] = 12\n",
    "        cell_rules.loc[k, 'CONDITION'] = 'AND'\n",
    "    elif 'IMS' in j['types']:\n",
    "        cell_rules.loc[k, 'OPERATOR'] = 'IN'\n",
    "        cell_rules.loc[k, 'VALUE'] = 'ONS|OKS|OPV|OSM'\n",
    "        cell_rules.loc[k, 'CONDITION'] = 'AND'\n",
    "        k += 1\n",
    "        cell_rules.loc[k, 'ATTRIBUTE_ID'] = 15\n",
    "        cell_rules.loc[k, 'OPERATOR'] = '<='\n",
    "        cell_rules.loc[k, 'VALUE'] = 12\n",
    "        cell_rules.loc[k, 'CONDITION'] = 'AND'\n",
    "    else:\n",
    "        if len(j['types'].split(',')) == 1:\n",
    "            cell_rules.loc[k, 'OPERATOR'] = '='\n",
    "        else:\n",
    "            cell_rules.loc[k, 'OPERATOR'] = 'IN'\n",
    "        cell_rules.loc[k, 'VALUE'] = j['types'].replace('[', '').replace(']', '').replace(', ', '|').replace(\"'\", \"\")\n",
    "        cell_rules.loc[k, 'CONDITION'] = 'AND'\n",
    "    #ttr\n",
    "    k += 1\n",
    "    cell_rules.loc[k, 'ATTRIBUTE_ID'] = 24\n",
    "    if len(j['ttr'].split(',')) == 1:\n",
    "        cell_rules.loc[k, 'OPERATOR'] = '='\n",
    "    else:\n",
    "        cell_rules.loc[k, 'OPERATOR'] = 'IN'\n",
    "    cell_rules.loc[k, 'VALUE'] = j['ttr'].replace('[', '').replace(']', '').replace(', ', '|').replace(\"'\", \"\")\n",
    "    #hip\n",
    "    if j['hip'] != '[]':\n",
    "        cell_rules.loc[k, 'CONDITION'] = 'AND'\n",
    "        k += 1\n",
    "        cell_rules.loc[k, 'ATTRIBUTE_ID'] = 9227\n",
    "        cell_rules.loc[k, 'OPERATOR'] = '='\n",
    "        cell_rules.loc[k, 'VALUE'] = j['hip'].replace('[', '').replace(']', '').replace(\"'\", \"\")  \n",
    "    #NOTNEEDCHA NEEDCCODE RUCHA\n",
    "    cell_rules.loc[k, 'CONDITION'] = 'AND'\n",
    "    k += 1\n",
    "    cell_rules.loc[k, 'ATTRIBUTE_ID'] = 21113\n",
    "    cell_rules.loc[k, 'OPERATOR'] = '='\n",
    "    cell_rules.loc[k, 'VALUE'] = 1\n",
    "    cell_rules.loc[k, 'CONDITION'] = 'AND'\n",
    "    k += 1\n",
    "    cell_rules.loc[k, 'ATTRIBUTE_ID'] = 1001033\n",
    "    cell_rules.loc[k, 'OPERATOR'] = '='\n",
    "    cell_rules.loc[k, 'VALUE'] = 'OTHER'\n",
    "    cell_rules.loc[k, 'CONDITION'] = 'AND'\n",
    "    k += 1\n",
    "    cell_rules.loc[k, 'ATTRIBUTE_ID'] = 21114\n",
    "    cell_rules.loc[k, 'OPERATOR'] = '='\n",
    "    cell_rules.loc[k, 'VALUE'] = 1\n",
    "    #HL CIG BEER\n",
    "    if  ((3999 < i) & (i < 6000)) | ((10000 < i) & (i < 11000)):\n",
    "        cell_rules.loc[k, 'CONDITION'] = 'AND'\n",
    "        k += 1\n",
    "        cell_rules.loc[k, 'ATTRIBUTE_ID'] = 8517\n",
    "        cell_rules.loc[k, 'OPERATOR'] = '='\n",
    "        cell_rules.loc[k, 'VALUE'] = 1\n",
    "    if  ((5999 < i) & (i < 7000)) | (11000 < i):\n",
    "        cell_rules.loc[k, 'CONDITION'] = 'AND'\n",
    "        k += 1\n",
    "        cell_rules.loc[k, 'ATTRIBUTE_ID'] = 8514\n",
    "        cell_rules.loc[k, 'OPERATOR'] = '='\n",
    "        cell_rules.loc[k, 'VALUE'] = 1\n",
    "    #sms service\n",
    "    if  10000 <= i:\n",
    "        cell_rules.loc[k, 'CONDITION'] = 'AND'\n",
    "        k += 1\n",
    "        cell_rules.loc[k, 'ATTRIBUTE_ID'] = 39413\n",
    "        cell_rules.loc[k, 'OPERATOR'] = '='\n",
    "        cell_rules.loc[k, 'VALUE'] = 1    \n",
    "    cell_rules.loc[k, 'index'] = i\n",
    "cell_rules['index'] = cell_rules['index'].bfill()\n",
    "cell_rules['RULE_TYPE'] = 'MICRO_CELL'"
   ]
  },
  {
   "cell_type": "code",
   "execution_count": 22,
   "metadata": {},
   "outputs": [],
   "source": [
    "for i in df.index:\n",
    "    cell_rules.loc[cell_rules['index'] == df['index'][i], 'RULE_DESCRIPTION'] = df['new_mcell_name'][i]"
   ]
  },
  {
   "cell_type": "code",
   "execution_count": 23,
   "metadata": {},
   "outputs": [],
   "source": [
    "res = cell_rules.append(cell_store, sort = False).append(cell_area, sort = False)"
   ]
  },
  {
   "cell_type": "code",
   "execution_count": 24,
   "metadata": {},
   "outputs": [],
   "source": [
    "res = res[['RULE_DESCRIPTION', 'RULE_TYPE', 'ATTRIBUTE_ID', 'OPERATOR', 'VALUE', 'OPENBRACE', 'CLOSEBRACE', 'CONDITION']]"
   ]
  },
  {
   "cell_type": "code",
   "execution_count": 25,
   "metadata": {},
   "outputs": [],
   "source": [
    "res.to_csv('rules_maxim.csv', sep = ',', index = False)"
   ]
  },
  {
   "cell_type": "code",
   "execution_count": 26,
   "metadata": {},
   "outputs": [],
   "source": [
    "res.to_excel('rules_maxim.xlsx', index = False)"
   ]
  },
  {
   "cell_type": "markdown",
   "metadata": {},
   "source": [
    "# UAT"
   ]
  },
  {
   "cell_type": "code",
   "execution_count": 29,
   "metadata": {},
   "outputs": [],
   "source": [
    "res_uat = res[['RULE_DESCRIPTION', 'RULE_TYPE', 'ATTRIBUTE_ID', 'OPERATOR', 'VALUE', 'OPENBRACE', 'CLOSEBRACE', 'CONDITION']]"
   ]
  },
  {
   "cell_type": "code",
   "execution_count": 30,
   "metadata": {
    "scrolled": true
   },
   "outputs": [],
   "source": [
    "res_uat.loc[res_uat['ATTRIBUTE_ID'] == 20125, 'ATTRIBUTE_ID'] = 20566\n",
    "res_uat.loc[res_uat['ATTRIBUTE_ID'] == 21118, 'ATTRIBUTE_ID'] = 203051\n",
    "res_uat.loc[res_uat['ATTRIBUTE_ID'] == 9227, 'ATTRIBUTE_ID'] = 173184\n",
    "res_uat.loc[res_uat['ATTRIBUTE_ID'] == 8517, 'ATTRIBUTE_ID'] = 128036\n",
    "res_uat.loc[res_uat['ATTRIBUTE_ID'] == 8514, 'ATTRIBUTE_ID'] = 128032\n",
    "res_uat.loc[res_uat['ATTRIBUTE_ID'] == 21113, 'ATTRIBUTE_ID'] = 203046\n",
    "res_uat.loc[res_uat['ATTRIBUTE_ID'] == 1001033, 'ATTRIBUTE_ID'] = 173163\n",
    "res_uat.loc[res_uat['ATTRIBUTE_ID'] == 21114, 'ATTRIBUTE_ID'] = 203047"
   ]
  },
  {
   "cell_type": "code",
   "execution_count": 31,
   "metadata": {
    "scrolled": true
   },
   "outputs": [],
   "source": [
    "res_uat['RULE_DESCRIPTION'] = 'max_max ' + res_uat['RULE_DESCRIPTION'] "
   ]
  },
  {
   "cell_type": "code",
   "execution_count": 32,
   "metadata": {},
   "outputs": [],
   "source": [
    "res_uat.to_csv('rules_maxim_uat.csv', sep = ',', index = False)"
   ]
  },
  {
   "cell_type": "code",
   "execution_count": 33,
   "metadata": {},
   "outputs": [],
   "source": [
    "res_uat.to_excel('rules_maxim_uat.xlsx', index = False)"
   ]
  },
  {
   "cell_type": "code",
   "execution_count": null,
   "metadata": {},
   "outputs": [],
   "source": []
  }
 ],
 "metadata": {
  "kernelspec": {
   "display_name": "Python 3",
   "language": "python",
   "name": "python3"
  },
  "language_info": {
   "codemirror_mode": {
    "name": "ipython",
    "version": 3
   },
   "file_extension": ".py",
   "mimetype": "text/x-python",
   "name": "python",
   "nbconvert_exporter": "python",
   "pygments_lexer": "ipython3",
   "version": "3.7.4"
  }
 },
 "nbformat": 4,
 "nbformat_minor": 2
}
