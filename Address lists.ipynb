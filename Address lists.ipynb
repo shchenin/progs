{
 "cells": [
  {
   "cell_type": "code",
   "execution_count": 1,
   "metadata": {},
   "outputs": [],
   "source": [
    "import pandas as pd\n",
    "import numpy as np"
   ]
  },
  {
   "cell_type": "code",
   "execution_count": 2,
   "metadata": {},
   "outputs": [],
   "source": [
    "kf = pd.read_excel('C:/Users/ScMa9004/Documents/RI/RIEXPORT_31.01 (1).xlsx')"
   ]
  },
  {
   "cell_type": "code",
   "execution_count": 8,
   "metadata": {},
   "outputs": [],
   "source": [
    "sf = pd.read_excel('C:/Users/ScMa9004/Documents/Справочник OPS_регион_QCT_2.2020.xlsx', sheet_name = 'данные')"
   ]
  },
  {
   "cell_type": "code",
   "execution_count": 4,
   "metadata": {},
   "outputs": [],
   "source": [
    "def address_lists(kf, sf):\n",
    "    \n",
    "    kf = kf[kf['Stage'] == 'SELECTION'].reset_index(drop = True)\n",
    "    \n",
    "    kf['FMCG'] = np.nan\n",
    "    kf['CIG'] = np.nan\n",
    "    kf['BEER'] = np.nan\n",
    "    kf['EXXON'] = np.nan\n",
    "    kf['BST'] = np.nan\n",
    "    kf['hip'] = np.nan\n",
    "    kf['Cluster'] = np.nan\n",
    "    kf['QCT'] = np.nan\n",
    "    \n",
    "    kf['FMCG'] = kf['BatchID'][kf['Index'] == 1000296]\n",
    "    kf['CIG'] = kf['BatchID'][kf['Index'] == 1000334]\n",
    "    kf['BEER'] = kf['BatchID'][kf['Index'] == 1000328]\n",
    "    kf['EXXON'] = kf['BatchID'][kf['Index'] == 1001395]\n",
    "    \n",
    "    kf.loc[kf['FMCG'].notna(), 'BST'] = 1\n",
    "    kf.loc[kf['CIG'].notna(), 'BST'] = 3\n",
    "    kf.loc[kf['BEER'].notna(), 'BST'] = 4\n",
    "    kf.loc[kf['EXXON'].notna(), 'BST'] = 5\n",
    "    #kf.loc[kf['STORETYPE'] == 'EOS', 'BST'] = 6\n",
    "    \n",
    "    dup = pd.DataFrame()\n",
    "    dup = kf[kf['GSRID'].duplicated(keep = False)]\n",
    "    wf = pd.DataFrame()\n",
    "    kf = kf[kf['GSRID'].isin(kf['GSRID'].drop_duplicates(keep = False))]\n",
    "    \n",
    "    for i in dup['GSRID'].unique():\n",
    "        wf = dup[dup['GSRID'] == i]\n",
    "        wf = wf.sort_values(by=['BST']).reset_index(drop = True)\n",
    "        if 5 in wf['BST'].values:\n",
    "            wf = wf.fillna(method='ffill')\n",
    "            wf.loc[1, 'BST'] = 502\n",
    "            kf = kf.append(wf.loc[1], ignore_index=True)\n",
    "        else:\n",
    "            wf = wf.fillna(method='bfill')\n",
    "            if 1 not in wf['BST'].values:\n",
    "                wf.loc[0, 'BST'] = 501\n",
    "            kf = kf.append(wf.loc[0], ignore_index=True)\n",
    "    \n",
    "    for i in kf.index:\n",
    "        kf.loc[i, 'Cluster'] = sf['ops'][sf['ccode'] == kf['CityCode'][i]].unique().item()\n",
    "        kf.loc[i, 'QCT'] = sf['qct_name_NEW'][sf['ccode'] == kf['CityCode'][i]].unique().item()\n",
    "        kf.loc[i, 'PROVINCE'] = sf['region'][sf['ccode'] == kf['CityCode'][i]].unique().item()   \n",
    "\n",
    "####это удалить когда будет площадь и авторизованность добавлена в DFFU\n",
    "        if 'Large Impulse stores' in kf['Cell Name'][i]:\n",
    "            kf.loc[i, 'hip'] = 'IML'\n",
    "        if 'Small Impulse stores' in kf['Cell Name'][i]:\n",
    "            kf.loc[i, 'hip'] = 'IMS'\n",
    "        if 'CDLself' in kf['Cell Name'][i] or 'SRVself' in kf['Cell Name'][i]:\n",
    "            kf.loc[i, 'hip'] = 1\n",
    "    \n",
    "    kf.loc[kf['hip'].isna() & kf['DA_STORE_TYPE'].isin(['CDL', 'SRV', 'SPS', 'OPS']), 'hip'] = 0\n",
    "####        \n",
    "    kf = kf[['GSRID', 'SMPSEQ', 'FMCG', 'BEER', 'CIG', 'EXXON', 'Store Name', 'STORE_ADDRESS_DA', 'DA_STORE_TYPE', 'BST', 'Trade Type',\\\n",
    "             'hip', 'City/Regency', 'CityCode', 'Cluster', 'QCT', 'PROVINCE']]\n",
    "                \n",
    "    return kf"
   ]
  },
  {
   "cell_type": "code",
   "execution_count": 5,
   "metadata": {},
   "outputs": [],
   "source": [
    "kf = address_lists(kf, sf)"
   ]
  },
  {
   "cell_type": "code",
   "execution_count": 6,
   "metadata": {},
   "outputs": [],
   "source": [
    "df = pd.DataFrame()\n",
    "df = kf[kf['SMPSEQ'] == 1].reset_index(drop = True)"
   ]
  },
  {
   "cell_type": "code",
   "execution_count": 7,
   "metadata": {
    "scrolled": true
   },
   "outputs": [],
   "source": [
    "with pd.ExcelWriter('Адресные списки.xlsx') as writer:\n",
    "    df.to_excel(writer, sheet_name='основные адреса', index = False)\n",
    "    kf.to_excel(writer, sheet_name='альтернативные адреса', index = False)"
   ]
  },
  {
   "cell_type": "code",
   "execution_count": null,
   "metadata": {},
   "outputs": [],
   "source": []
  }
 ],
 "metadata": {
  "kernelspec": {
   "display_name": "Python 3",
   "language": "python",
   "name": "python3"
  },
  "language_info": {
   "codemirror_mode": {
    "name": "ipython",
    "version": 3
   },
   "file_extension": ".py",
   "mimetype": "text/x-python",
   "name": "python",
   "nbconvert_exporter": "python",
   "pygments_lexer": "ipython3",
   "version": "3.7.4"
  }
 },
 "nbformat": 4,
 "nbformat_minor": 2
}
