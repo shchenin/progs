{
 "cells": [
  {
   "cell_type": "code",
   "execution_count": 1,
   "metadata": {},
   "outputs": [],
   "source": [
    "import os, shutil"
   ]
  },
  {
   "cell_type": "code",
   "execution_count": 2,
   "metadata": {},
   "outputs": [],
   "source": [
    "cat1611 = open('C:/Maxim/!Precipitation/1611.txt', 'r')\n",
    "c1611 = cat1611.readlines()\n",
    "cat1611.close()"
   ]
  },
  {
   "cell_type": "markdown",
   "metadata": {},
   "source": [
    "# Эта функция делает папку dd"
   ]
  },
  {
   "cell_type": "code",
   "execution_count": 3,
   "metadata": {},
   "outputs": [],
   "source": [
    "def dd(cat):\n",
    "    try:\n",
    "        os.mkdir('C:/Maxim/!Precipitation/dd_' + str(len(cat)))\n",
    "    except:\n",
    "        shutil.rmtree('C:/Maxim/!Precipitation/dd_' + str(len(cat)), ignore_errors=True)\n",
    "        os.mkdir('C:/Maxim/!Precipitation/dd_' + str(len(cat)))\n",
    "    for i in range(len(cat)):\n",
    "        if not str:\n",
    "            break\n",
    "        k = cat[i].split()[1]\n",
    "        n = k\n",
    "        if len(n) < 5:\n",
    "            n = '0' + n\n",
    "        res = open('C:/Maxim/!Precipitation/dd_' + str(len(cat)) + '/'  + k, 'w')\n",
    "        a = open('E:/ghcnd_all/' + cat[i].split()[0] + '.dly', 'r')\n",
    "        aa = a.readlines()\n",
    "        a.close()\n",
    "        for j in range(len(aa)):\n",
    "            if not str:\n",
    "                break\n",
    "            if aa[j][17:21] == 'PRCP':\n",
    "                res.write(aa[j])          \n",
    "        res.close()"
   ]
  },
  {
   "cell_type": "code",
   "execution_count": 4,
   "metadata": {
    "scrolled": true
   },
   "outputs": [],
   "source": [
    "dd(c1611)"
   ]
  },
  {
   "cell_type": "markdown",
   "metadata": {},
   "source": [
    "# Эта функция нужна чтобы знать сколько дней в месяце"
   ]
  },
  {
   "cell_type": "code",
   "execution_count": 3,
   "metadata": {},
   "outputs": [],
   "source": [
    "def N_day(x, y):\n",
    "    if x == '01' or x == '03' or x == '05' or x == '07' or x == '08' or x == '10' or x == '12':\n",
    "        dm = 31\n",
    "    elif x == '04' or x == '06' or x == '09' or x == '11':\n",
    "        dm = 30\n",
    "    else:\n",
    "        if y % 4 != 0 or (y % 100 == 0 and y % 400 != 0):\n",
    "            dm = 28\n",
    "        else:\n",
    "            dm = 29\n",
    "    return dm   "
   ]
  },
  {
   "cell_type": "markdown",
   "metadata": {},
   "source": [
    "# Эта функция из dd делает df (df то же самое, что mm)"
   ]
  },
  {
   "cell_type": "code",
   "execution_count": 8,
   "metadata": {},
   "outputs": [],
   "source": [
    "def df(cat):\n",
    "    try:\n",
    "        os.mkdir('C:/Maxim/!Precipitation/df_' + str(len(cat)))\n",
    "    except:\n",
    "        shutil.rmtree('C:/Maxim/!Precipitation/df_' + str(len(cat)), ignore_errors=True)\n",
    "        os.mkdir('C:/Maxim/!Precipitation/df_' + str(len(cat)))\n",
    "    for i in range(len(cat)):\n",
    "        file = open('C:/Maxim/!Precipitation/dd_' + str(len(cat)) + '/' + cat[i].split()[1], 'r')\n",
    "        f = file.readlines()\n",
    "        file.close()\n",
    "        res = open('C:/Maxim/!Precipitation/df_' + str(len(cat)) + '/' + cat[i].split()[1], 'w')\n",
    "        res.write('iREC _iWMO YYYY MM _PRCP _ND ND0 NDТ ND1 MFLAG SFLAG QFLAG' + '\\n')\n",
    "        iREC = 0\n",
    "        for j in range(len(f)):\n",
    "            dm = N_day(f[j][15:17], int(f[j][11:15]))          #подсчет количества дней в месяце\n",
    "            c1 = 21                                            #константы для позиций\n",
    "            c2 = 26\n",
    "            c3 = 27\n",
    "            c4 = 28\n",
    "            g = 0                                               \n",
    "            PRCP = 0\n",
    "            t = 0                                              #количество случаев с: -9999 + QFLAG + SFLAG[Q/S]\n",
    "            tcheck = True\n",
    "            NDT = 0\n",
    "            ND1 = 0\n",
    "            ND0 = 0\n",
    "            M = []\n",
    "            S = []   \n",
    "            Q = []\n",
    "            while g != dm:\n",
    "                mm = c1 + g * 8\n",
    "                mf = c2 + g * 8\n",
    "                qf = c3 + g * 8\n",
    "                sf = c4 + g * 8\n",
    "                summ = int(f[j][mm:mf])\n",
    "                if summ == 0:\n",
    "                    ND0 += 1\n",
    "                elif summ == -9999:\n",
    "                    t += 1\n",
    "                    tcheck = False\n",
    "                    summ = 0\n",
    "                mflag = f[j][mf:mf + 1]\n",
    "                if mflag == 'T':\n",
    "                    NDT += 1\n",
    "                else:\n",
    "                    if mflag == ' ':\n",
    "                        mflag = 'S'\n",
    "                    M.append(mflag)\n",
    "                sflag = f[j][sf:sf + 1]\n",
    "                if sflag == 'Q' or sflag == 'S':\n",
    "                    S.append(sflag)\n",
    "                    summ = 0\n",
    "                    if tcheck:\n",
    "                        t += 1\n",
    "                        tcheck = False\n",
    "                qflag = f[j][qf:qf + 1]\n",
    "                if qflag != ' ':\n",
    "                    Q.append(qflag)\n",
    "                    summ = 0\n",
    "                    if tcheck:\n",
    "                        t += 1 \n",
    "                        tcheck = False\n",
    "                if summ > 0:\n",
    "                    ND1 += 1\n",
    "                g += 1\n",
    "                PRCP += summ\n",
    "                tcheck = True\n",
    "            iREC += 1\n",
    "            ND0 -= NDT\n",
    "            M = set(M)\n",
    "            MMM = ''\n",
    "            for v in M:\n",
    "                MMM += v\n",
    "            S = set(S)\n",
    "            SSS = ''\n",
    "            for o in S:\n",
    "                SSS += o\n",
    "            Q = set(Q)\n",
    "            QQQ = ''\n",
    "            for z in Q:\n",
    "                QQQ += z\n",
    "            if t > 3:\n",
    "                PRCP = -9999\n",
    "            ND = dm - t\n",
    "            res.write('{:>4}'.format(iREC) + '{:>6}'.format(cat[i].split()[1]) + '{:>5}'.format(f[j][11:15]) + '{:>3}'.format(f[j][15:17])\\\n",
    "                      + '{:>6}'.format(PRCP) + '{:>4}'.format(ND) +'{:>4}'.format(ND0) + '{:>4}'.format(NDT) + '{:>4}'.format(ND1)\\\n",
    "                      + '{:>6}'.format(SSS) + '{:>6}'.format(MMM) + '{:>6}'.format(QQQ) + '\\n')\n",
    "        res.close()    "
   ]
  },
  {
   "cell_type": "code",
   "execution_count": 9,
   "metadata": {
    "scrolled": true
   },
   "outputs": [],
   "source": [
    "df(c1611)"
   ]
  },
  {
   "cell_type": "markdown",
   "metadata": {},
   "source": [
    "# Эта функция делает df с периодом 1901-2018 и доп. столбцами"
   ]
  },
  {
   "cell_type": "code",
   "execution_count": 4,
   "metadata": {},
   "outputs": [],
   "source": [
    "def df_dop(cat):\n",
    "    try:\n",
    "        os.mkdir('C:/Maxim/!Precipitation/df_dop' + str(len(cat)))\n",
    "    except:\n",
    "        shutil.rmtree('C:/Maxim/!Precipitation/df_dop' + str(len(cat)), ignore_errors=True)\n",
    "        os.mkdir('C:/Maxim/!Precipitation/df_dop' + str(len(cat)))\n",
    "    for i in range(len(cat)):\n",
    "        file = open('C:/Maxim/!Precipitation/dd_' + str(len(cat)) + '/' + cat[i].split()[1], 'r')\n",
    "        f = file.readlines()\n",
    "        file.close()\n",
    "        res = open('C:/Maxim/!Precipitation/df_dop' + str(len(cat)) + '/' + cat[i].split()[1], 'w')\n",
    "        res.write('iREC _iWMO YYYY MM _summ _PRCP NDr _ND ND0 NDТ ND1 MFLAG SFLAG QFLAG' + '\\n')\n",
    "        iREC = 0\n",
    "        zyear = 1900\n",
    "        months = ['01', '02', '03', '04', '05', '06', '07', '08', '09', '10', '11', '12']\n",
    "        for y in range(118):\n",
    "            zyear += 1\n",
    "            for m in months:\n",
    "                iREC += 1\n",
    "                existencecheck = True\n",
    "                for j in range(len(f)):                    \n",
    "                    if int(f[j][11:15]) == zyear and str(f[j][15:17]) == m: \n",
    "                        existencecheck = False\n",
    "                        dm = N_day(f[j][15:17], int(f[j][11:15]))          #подсчет количества дней в месяце\n",
    "                        c1 = 21                                            #константы для позиций\n",
    "                        c2 = 26\n",
    "                        c3 = 27\n",
    "                        c4 = 28\n",
    "                        g = 0                                               \n",
    "                        PRCP = 0\n",
    "                        EYa = 0\n",
    "                        t = 0                                              #количество случаев с: -9999 + QFLAG + SFLAG[Q/S]\n",
    "                        tcheck = True\n",
    "                        NDT = 0\n",
    "                        ND1 = 0\n",
    "                        ND0 = 0\n",
    "                        M = []\n",
    "                        S = []   \n",
    "                        Q = []\n",
    "                        while g != dm:\n",
    "                            mm = c1 + g * 8\n",
    "                            mf = c2 + g * 8\n",
    "                            qf = c3 + g * 8\n",
    "                            sf = c4 + g * 8\n",
    "                            summ = int(f[j][mm:mf])\n",
    "                            if summ > 0:\n",
    "                                EYa += summ\n",
    "                            if summ == 0:\n",
    "                                ND0 += 1\n",
    "                            elif summ == -9999:\n",
    "                                t += 1\n",
    "                                tcheck = False\n",
    "                                summ = 0\n",
    "                            mflag = f[j][mf:mf + 1]\n",
    "                            if mflag == 'T':\n",
    "                                NDT += 1\n",
    "                            else:\n",
    "                                if mflag == ' ':\n",
    "                                    mflag = 'S'\n",
    "                                M.append(mflag)\n",
    "                            sflag = f[j][sf:sf + 1]\n",
    "                            if sflag == 'Q' or sflag == 'S':\n",
    "                                S.append(sflag)\n",
    "                                summ = 0\n",
    "                                if tcheck:\n",
    "                                    t += 1\n",
    "                                    tcheck = False\n",
    "                            qflag = f[j][qf:qf + 1]\n",
    "                            if qflag != ' ':\n",
    "                                Q.append(qflag)\n",
    "                                summ = 0\n",
    "                                if tcheck:\n",
    "                                    t += 1 \n",
    "                                    tcheck = False\n",
    "                            if summ > 0:\n",
    "                                ND1 += 1\n",
    "                            g += 1\n",
    "                            PRCP += summ\n",
    "                            tcheck = True\n",
    "                        ND0 -= NDT\n",
    "                        M = set(M)\n",
    "                        MMM = ''\n",
    "                        for v in M:\n",
    "                            MMM += v\n",
    "                        S = set(S)\n",
    "                        SSS = ''\n",
    "                        for o in S:\n",
    "                            SSS += o\n",
    "                        Q = set(Q)\n",
    "                        QQQ = ''\n",
    "                        for z in Q:\n",
    "                            QQQ += z\n",
    "                        if t > 3:\n",
    "                            PRCP = -9999\n",
    "                        NDr = dm - t    \n",
    "                        res.write('{:>4}'.format(iREC) + '{:>6}'.format(cat[i].split()[1]) + '{:>5}'.format(f[j][11:15]) + '{:>3}'.format(f[j][15:17])\\\n",
    "                                  + '{:>6}'.format(EYa) + '{:>6}'.format(PRCP) + '{:>4}'.format(NDr) + '{:>4}'.format(dm) + '{:>4}'.format(ND0)\\\n",
    "                                  + '{:>4}'.format(NDT) + '{:>4}'.format(ND1) + '{:>6}'.format(SSS) + '{:>6}'.format(MMM) + '{:>6}'.format(QQQ) + '\\n')              \n",
    "                if existencecheck:\n",
    "                    res.write('{:>4}'.format(iREC) + '{:>6}'.format(cat[i].split()[1]) + '{:>5}'.format(zyear) + '{:>3}'.format(m)\\\n",
    "                              + '{:>6}'.format('-9999') + '{:>6}'.format('-9999') + '{:>4}'.format('0') + '\\n')\n",
    "        res.close()    "
   ]
  },
  {
   "cell_type": "code",
   "execution_count": null,
   "metadata": {
    "scrolled": true
   },
   "outputs": [],
   "source": [
    "df_dop(c1611)"
   ]
  },
  {
   "cell_type": "code",
   "execution_count": null,
   "metadata": {},
   "outputs": [],
   "source": []
  },
  {
   "cell_type": "code",
   "execution_count": null,
   "metadata": {},
   "outputs": [],
   "source": []
  },
  {
   "cell_type": "code",
   "execution_count": null,
   "metadata": {},
   "outputs": [],
   "source": []
  },
  {
   "cell_type": "markdown",
   "metadata": {},
   "source": [
    "# Общий каталог для 1709(1456 + 253) и 1611(1456 + 155)"
   ]
  },
  {
   "cell_type": "code",
   "execution_count": 2,
   "metadata": {},
   "outputs": [],
   "source": [
    "import pandas as pd\n",
    "import numpy as np"
   ]
  },
  {
   "cell_type": "code",
   "execution_count": 222,
   "metadata": {},
   "outputs": [],
   "source": [
    "res = open('C:/Maxim/!Precipitation/catalog1611', 'w')\n",
    "ghcnd = open('C:/Maxim/!Precipitation/ghcnd-stations.txt', 'r')\n",
    "gh = ghcnd.readlines()\n",
    "ghcnd.close()"
   ]
  },
  {
   "cell_type": "code",
   "execution_count": 224,
   "metadata": {},
   "outputs": [],
   "source": [
    "for i in range(len(c1611)):\n",
    "    if not str:\n",
    "        break\n",
    "    df = pd.read_fwf('C:/Maxim/!Precipitation/df_1611/' + c1611[i].split()[1])\n",
    "    res.write(str(c1611[i].split()[1]) + ',' +\\\n",
    "              str(df['YYYY'][df['_PRCP'] != -9999].min()) + ',' +\\\n",
    "              str(df['YYYY'][df['_PRCP'] != -9999].max()) + ',' +\\\n",
    "              str((df['_PRCP'] != -9999).sum()) + ',' +\\\n",
    "              str(df['YYYY'][df['_PRCP'] != -9999].unique().size) + '\\n')\n",
    "res.close()"
   ]
  },
  {
   "cell_type": "code",
   "execution_count": 3,
   "metadata": {
    "scrolled": true
   },
   "outputs": [],
   "source": [
    "df1611 = pd.read_table('C:/Maxim/!Precipitation/catalog1611', sep = ',', header = None)"
   ]
  },
  {
   "cell_type": "code",
   "execution_count": 4,
   "metadata": {},
   "outputs": [],
   "source": [
    "df1611 = df1611.rename(index=str, columns={0:'iWMO', 1:'YB', 2:'YL', 3:'nm', 4:'ny'})"
   ]
  },
  {
   "cell_type": "code",
   "execution_count": 5,
   "metadata": {},
   "outputs": [
    {
     "data": {
      "text/html": [
       "<div>\n",
       "<style scoped>\n",
       "    .dataframe tbody tr th:only-of-type {\n",
       "        vertical-align: middle;\n",
       "    }\n",
       "\n",
       "    .dataframe tbody tr th {\n",
       "        vertical-align: top;\n",
       "    }\n",
       "\n",
       "    .dataframe thead th {\n",
       "        text-align: right;\n",
       "    }\n",
       "</style>\n",
       "<table border=\"1\" class=\"dataframe\">\n",
       "  <thead>\n",
       "    <tr style=\"text-align: right;\">\n",
       "      <th></th>\n",
       "      <th>iWMO</th>\n",
       "      <th>YB</th>\n",
       "      <th>YL</th>\n",
       "      <th>nm</th>\n",
       "      <th>ny</th>\n",
       "    </tr>\n",
       "  </thead>\n",
       "  <tbody>\n",
       "    <tr>\n",
       "      <th>0</th>\n",
       "      <td>1001</td>\n",
       "      <td>1922.0</td>\n",
       "      <td>2019.0</td>\n",
       "      <td>1143</td>\n",
       "      <td>98</td>\n",
       "    </tr>\n",
       "    <tr>\n",
       "      <th>1</th>\n",
       "      <td>1008</td>\n",
       "      <td>1975.0</td>\n",
       "      <td>2004.0</td>\n",
       "      <td>297</td>\n",
       "      <td>30</td>\n",
       "    </tr>\n",
       "    <tr>\n",
       "      <th>2</th>\n",
       "      <td>1025</td>\n",
       "      <td>1964.0</td>\n",
       "      <td>2019.0</td>\n",
       "      <td>642</td>\n",
       "      <td>56</td>\n",
       "    </tr>\n",
       "    <tr>\n",
       "      <th>3</th>\n",
       "      <td>1028</td>\n",
       "      <td>1920.0</td>\n",
       "      <td>2019.0</td>\n",
       "      <td>1118</td>\n",
       "      <td>96</td>\n",
       "    </tr>\n",
       "    <tr>\n",
       "      <th>4</th>\n",
       "      <td>1065</td>\n",
       "      <td>2004.0</td>\n",
       "      <td>2019.0</td>\n",
       "      <td>163</td>\n",
       "      <td>16</td>\n",
       "    </tr>\n",
       "  </tbody>\n",
       "</table>\n",
       "</div>"
      ],
      "text/plain": [
       "   iWMO      YB      YL    nm  ny\n",
       "0  1001  1922.0  2019.0  1143  98\n",
       "1  1008  1975.0  2004.0   297  30\n",
       "2  1025  1964.0  2019.0   642  56\n",
       "3  1028  1920.0  2019.0  1118  96\n",
       "4  1065  2004.0  2019.0   163  16"
      ]
     },
     "execution_count": 5,
     "metadata": {},
     "output_type": "execute_result"
    }
   ],
   "source": [
    "df1611.head()"
   ]
  },
  {
   "cell_type": "code",
   "execution_count": 15,
   "metadata": {},
   "outputs": [],
   "source": [
    "df1709 = pd.read_fwf('C:/Maxim/!Precipitation/r1709-series/!data/k1709f')"
   ]
  },
  {
   "cell_type": "code",
   "execution_count": 16,
   "metadata": {},
   "outputs": [],
   "source": [
    "dfsi = pd.read_excel('C:/Maxim/!Precipitation/stations+inventory.xlsx', sheet_name = '1611', header = None)"
   ]
  },
  {
   "cell_type": "code",
   "execution_count": 17,
   "metadata": {},
   "outputs": [],
   "source": [
    "dfsi = dfsi.rename(index=str, columns={0:'fname', 1:'fi', 2:'la', 3:'hh', 4:'YBghcn', 5:'YLghcn', 6:'sname', 7:'gsn', 8:'hcn', 9:'iWMO'})"
   ]
  },
  {
   "cell_type": "code",
   "execution_count": 18,
   "metadata": {},
   "outputs": [],
   "source": [
    "dfres = pd.DataFrame()"
   ]
  },
  {
   "cell_type": "code",
   "execution_count": 19,
   "metadata": {},
   "outputs": [],
   "source": [
    "dfres = df1611.merge(dfsi)"
   ]
  },
  {
   "cell_type": "code",
   "execution_count": 20,
   "metadata": {},
   "outputs": [],
   "source": [
    "df1709 = df1709.rename(index=str, columns= {'__iWMO':'iWMO'})"
   ]
  },
  {
   "cell_type": "code",
   "execution_count": 21,
   "metadata": {},
   "outputs": [],
   "source": [
    "dfres = dfres.merge(df1709)"
   ]
  },
  {
   "cell_type": "code",
   "execution_count": 201,
   "metadata": {},
   "outputs": [],
   "source": [
    "dfres.to_excel(\"catalog_final.xlsx\")"
   ]
  },
  {
   "cell_type": "code",
   "execution_count": null,
   "metadata": {},
   "outputs": [],
   "source": []
  },
  {
   "cell_type": "markdown",
   "metadata": {},
   "source": [
    "Каталог для 155"
   ]
  },
  {
   "cell_type": "code",
   "execution_count": 6,
   "metadata": {},
   "outputs": [],
   "source": [
    "df155 = pd.read_excel('C:/Maxim/!Precipitation/stations+inventory.xlsx', sheet_name = '155', header = None)"
   ]
  },
  {
   "cell_type": "code",
   "execution_count": 9,
   "metadata": {},
   "outputs": [
    {
     "data": {
      "text/html": [
       "<div>\n",
       "<style scoped>\n",
       "    .dataframe tbody tr th:only-of-type {\n",
       "        vertical-align: middle;\n",
       "    }\n",
       "\n",
       "    .dataframe tbody tr th {\n",
       "        vertical-align: top;\n",
       "    }\n",
       "\n",
       "    .dataframe thead th {\n",
       "        text-align: right;\n",
       "    }\n",
       "</style>\n",
       "<table border=\"1\" class=\"dataframe\">\n",
       "  <thead>\n",
       "    <tr style=\"text-align: right;\">\n",
       "      <th></th>\n",
       "      <th>fname</th>\n",
       "      <th>fi</th>\n",
       "      <th>la</th>\n",
       "      <th>hh</th>\n",
       "      <th>YBghcn</th>\n",
       "      <th>YLghcn</th>\n",
       "      <th>sname</th>\n",
       "      <th>gsn</th>\n",
       "      <th>hcn</th>\n",
       "      <th>iWMO</th>\n",
       "    </tr>\n",
       "  </thead>\n",
       "  <tbody>\n",
       "    <tr>\n",
       "      <th>0</th>\n",
       "      <td>USW00023051</td>\n",
       "      <td>36.4486</td>\n",
       "      <td>-103.1539</td>\n",
       "      <td>1511.8</td>\n",
       "      <td>1896</td>\n",
       "      <td>2019</td>\n",
       "      <td>M CLAYTON MUNI AIR PK</td>\n",
       "      <td>GSN</td>\n",
       "      <td>HCN</td>\n",
       "      <td>72360</td>\n",
       "    </tr>\n",
       "    <tr>\n",
       "      <th>1</th>\n",
       "      <td>USC00237963</td>\n",
       "      <td>40.2472</td>\n",
       "      <td>-93.7158</td>\n",
       "      <td>266.7</td>\n",
       "      <td>1957</td>\n",
       "      <td>2019</td>\n",
       "      <td>O SPICKARD 7 W</td>\n",
       "      <td>NaN</td>\n",
       "      <td>HCN</td>\n",
       "      <td>72540</td>\n",
       "    </tr>\n",
       "    <tr>\n",
       "      <th>2</th>\n",
       "      <td>USW00013899</td>\n",
       "      <td>30.4781</td>\n",
       "      <td>-87.1869</td>\n",
       "      <td>34.1</td>\n",
       "      <td>1948</td>\n",
       "      <td>2019</td>\n",
       "      <td>L PENSACOLA RGNL AP</td>\n",
       "      <td>NaN</td>\n",
       "      <td>HCN</td>\n",
       "      <td>72222</td>\n",
       "    </tr>\n",
       "    <tr>\n",
       "      <th>3</th>\n",
       "      <td>USW00014778</td>\n",
       "      <td>41.2433</td>\n",
       "      <td>-76.9217</td>\n",
       "      <td>158.5</td>\n",
       "      <td>1948</td>\n",
       "      <td>2019</td>\n",
       "      <td>A WILLIAMSPORT</td>\n",
       "      <td>NaN</td>\n",
       "      <td>HCN</td>\n",
       "      <td>72514</td>\n",
       "    </tr>\n",
       "    <tr>\n",
       "      <th>4</th>\n",
       "      <td>USW00024027</td>\n",
       "      <td>41.5944</td>\n",
       "      <td>-109.0528</td>\n",
       "      <td>2054.7</td>\n",
       "      <td>1948</td>\n",
       "      <td>2019</td>\n",
       "      <td>Y ROCK SPRINGS AP</td>\n",
       "      <td>NaN</td>\n",
       "      <td>HCN</td>\n",
       "      <td>72574</td>\n",
       "    </tr>\n",
       "  </tbody>\n",
       "</table>\n",
       "</div>"
      ],
      "text/plain": [
       "         fname       fi        la      hh  YBghcn  YLghcn  \\\n",
       "0  USW00023051  36.4486 -103.1539  1511.8    1896    2019   \n",
       "1  USC00237963  40.2472  -93.7158   266.7    1957    2019   \n",
       "2  USW00013899  30.4781  -87.1869    34.1    1948    2019   \n",
       "3  USW00014778  41.2433  -76.9217   158.5    1948    2019   \n",
       "4  USW00024027  41.5944 -109.0528  2054.7    1948    2019   \n",
       "\n",
       "                   sname  gsn  hcn   iWMO  \n",
       "0  M CLAYTON MUNI AIR PK  GSN  HCN  72360  \n",
       "1         O SPICKARD 7 W  NaN  HCN  72540  \n",
       "2    L PENSACOLA RGNL AP  NaN  HCN  72222  \n",
       "3         A WILLIAMSPORT  NaN  HCN  72514  \n",
       "4      Y ROCK SPRINGS AP  NaN  HCN  72574  "
      ]
     },
     "execution_count": 9,
     "metadata": {},
     "output_type": "execute_result"
    }
   ],
   "source": [
    "df155.head()"
   ]
  },
  {
   "cell_type": "code",
   "execution_count": 8,
   "metadata": {},
   "outputs": [],
   "source": [
    "df155 = df155.rename(index=str, columns={0:'fname', 1:'fi', 2:'la', 3:'hh', 4:'YBghcn', 5:'YLghcn', 6:'sname', 7:'gsn', 8:'hcn', 9:'iWMO'})"
   ]
  },
  {
   "cell_type": "code",
   "execution_count": 11,
   "metadata": {},
   "outputs": [],
   "source": [
    "df155 = df155.merge(df1611)"
   ]
  },
  {
   "cell_type": "code",
   "execution_count": 12,
   "metadata": {},
   "outputs": [],
   "source": [
    "df155.to_excel(\"catalog_final_155.xlsx\")"
   ]
  },
  {
   "cell_type": "code",
   "execution_count": null,
   "metadata": {},
   "outputs": [],
   "source": []
  },
  {
   "cell_type": "markdown",
   "metadata": {},
   "source": [
    "Каталог для 1709 - 1456 = 253"
   ]
  },
  {
   "cell_type": "code",
   "execution_count": 23,
   "metadata": {},
   "outputs": [
    {
     "data": {
      "text/plain": [
       "Index(['iWMO', 'YB', 'YL', 'nm', 'ny', 'fname', 'fi', 'la', 'hh', 'YBghcn',\n",
       "       'YLghcn', 'sname', 'gsn', 'hcn', '__NN', '___fi', '____la', '___hh',\n",
       "       '__yB', '__yE', '_Name______________ _Country__________'],\n",
       "      dtype='object')"
      ]
     },
     "execution_count": 23,
     "metadata": {},
     "output_type": "execute_result"
    }
   ],
   "source": [
    "dfres.columns"
   ]
  },
  {
   "cell_type": "code",
   "execution_count": 24,
   "metadata": {},
   "outputs": [
    {
     "data": {
      "text/plain": [
       "Index(['__NN', 'iWMO', '___fi', '____la', '___hh', '__yB', '__yE',\n",
       "       '_Name______________ _Country__________'],\n",
       "      dtype='object')"
      ]
     },
     "execution_count": 24,
     "metadata": {},
     "output_type": "execute_result"
    }
   ],
   "source": [
    "df1709.columns"
   ]
  },
  {
   "cell_type": "code",
   "execution_count": 27,
   "metadata": {},
   "outputs": [],
   "source": [
    "df1709 = df1709.set_index('__NN')\n",
    "dfres = dfres.set_index('__NN')"
   ]
  },
  {
   "cell_type": "code",
   "execution_count": 30,
   "metadata": {},
   "outputs": [],
   "source": [
    "a = df1709['iWMO'] - dfres['iWMO']"
   ]
  },
  {
   "cell_type": "code",
   "execution_count": 33,
   "metadata": {},
   "outputs": [],
   "source": [
    "a = a != 0"
   ]
  },
  {
   "cell_type": "code",
   "execution_count": 38,
   "metadata": {},
   "outputs": [],
   "source": [
    "a = a[a == True]"
   ]
  },
  {
   "cell_type": "code",
   "execution_count": 40,
   "metadata": {},
   "outputs": [],
   "source": []
  },
  {
   "cell_type": "code",
   "execution_count": 43,
   "metadata": {},
   "outputs": [],
   "source": [
    "a = a.reset_index()"
   ]
  },
  {
   "cell_type": "code",
   "execution_count": 52,
   "metadata": {},
   "outputs": [],
   "source": [
    "df1709 = df1709.reset_index()"
   ]
  },
  {
   "cell_type": "code",
   "execution_count": 58,
   "metadata": {},
   "outputs": [],
   "source": [
    "a = a.drop(columns=['iWMO'])"
   ]
  },
  {
   "cell_type": "code",
   "execution_count": 59,
   "metadata": {
    "scrolled": true
   },
   "outputs": [
    {
     "data": {
      "text/html": [
       "<div>\n",
       "<style scoped>\n",
       "    .dataframe tbody tr th:only-of-type {\n",
       "        vertical-align: middle;\n",
       "    }\n",
       "\n",
       "    .dataframe tbody tr th {\n",
       "        vertical-align: top;\n",
       "    }\n",
       "\n",
       "    .dataframe thead th {\n",
       "        text-align: right;\n",
       "    }\n",
       "</style>\n",
       "<table border=\"1\" class=\"dataframe\">\n",
       "  <thead>\n",
       "    <tr style=\"text-align: right;\">\n",
       "      <th></th>\n",
       "      <th>__NN</th>\n",
       "    </tr>\n",
       "  </thead>\n",
       "  <tbody>\n",
       "    <tr>\n",
       "      <th>0</th>\n",
       "      <td>9.0</td>\n",
       "    </tr>\n",
       "    <tr>\n",
       "      <th>1</th>\n",
       "      <td>12.0</td>\n",
       "    </tr>\n",
       "    <tr>\n",
       "      <th>2</th>\n",
       "      <td>13.0</td>\n",
       "    </tr>\n",
       "    <tr>\n",
       "      <th>3</th>\n",
       "      <td>14.0</td>\n",
       "    </tr>\n",
       "    <tr>\n",
       "      <th>4</th>\n",
       "      <td>40.0</td>\n",
       "    </tr>\n",
       "  </tbody>\n",
       "</table>\n",
       "</div>"
      ],
      "text/plain": [
       "   __NN\n",
       "0   9.0\n",
       "1  12.0\n",
       "2  13.0\n",
       "3  14.0\n",
       "4  40.0"
      ]
     },
     "execution_count": 59,
     "metadata": {},
     "output_type": "execute_result"
    }
   ],
   "source": [
    "a.head()"
   ]
  },
  {
   "cell_type": "code",
   "execution_count": 60,
   "metadata": {
    "scrolled": true
   },
   "outputs": [
    {
     "data": {
      "text/html": [
       "<div>\n",
       "<style scoped>\n",
       "    .dataframe tbody tr th:only-of-type {\n",
       "        vertical-align: middle;\n",
       "    }\n",
       "\n",
       "    .dataframe tbody tr th {\n",
       "        vertical-align: top;\n",
       "    }\n",
       "\n",
       "    .dataframe thead th {\n",
       "        text-align: right;\n",
       "    }\n",
       "</style>\n",
       "<table border=\"1\" class=\"dataframe\">\n",
       "  <thead>\n",
       "    <tr style=\"text-align: right;\">\n",
       "      <th></th>\n",
       "      <th>index</th>\n",
       "      <th>__NN</th>\n",
       "      <th>iWMO</th>\n",
       "      <th>___fi</th>\n",
       "      <th>____la</th>\n",
       "      <th>___hh</th>\n",
       "      <th>__yB</th>\n",
       "      <th>__yE</th>\n",
       "      <th>_Name______________ _Country__________</th>\n",
       "    </tr>\n",
       "  </thead>\n",
       "  <tbody>\n",
       "    <tr>\n",
       "      <th>0</th>\n",
       "      <td>0</td>\n",
       "      <td>1.0</td>\n",
       "      <td>1001.0</td>\n",
       "      <td>70.9</td>\n",
       "      <td>-8.7</td>\n",
       "      <td>10.0</td>\n",
       "      <td>1921.0</td>\n",
       "      <td>2018.0</td>\n",
       "      <td>JAN MAYEN           NORWAY</td>\n",
       "    </tr>\n",
       "    <tr>\n",
       "      <th>1</th>\n",
       "      <td>1</td>\n",
       "      <td>2.0</td>\n",
       "      <td>1008.0</td>\n",
       "      <td>78.3</td>\n",
       "      <td>15.5</td>\n",
       "      <td>28.0</td>\n",
       "      <td>1975.0</td>\n",
       "      <td>2018.0</td>\n",
       "      <td>SVALBARD LUFTHAVN   NORWAY</td>\n",
       "    </tr>\n",
       "    <tr>\n",
       "      <th>2</th>\n",
       "      <td>2</td>\n",
       "      <td>3.0</td>\n",
       "      <td>1025.0</td>\n",
       "      <td>69.7</td>\n",
       "      <td>19.0</td>\n",
       "      <td>10.0</td>\n",
       "      <td>1951.0</td>\n",
       "      <td>2018.0</td>\n",
       "      <td>TROMSO/LANGNES      NORWAY</td>\n",
       "    </tr>\n",
       "    <tr>\n",
       "      <th>3</th>\n",
       "      <td>3</td>\n",
       "      <td>4.0</td>\n",
       "      <td>1028.0</td>\n",
       "      <td>74.5</td>\n",
       "      <td>19.0</td>\n",
       "      <td>16.0</td>\n",
       "      <td>1920.0</td>\n",
       "      <td>2018.0</td>\n",
       "      <td>BJOERNOEYA          NORWAY</td>\n",
       "    </tr>\n",
       "    <tr>\n",
       "      <th>4</th>\n",
       "      <td>4</td>\n",
       "      <td>5.0</td>\n",
       "      <td>1065.0</td>\n",
       "      <td>69.5</td>\n",
       "      <td>25.5</td>\n",
       "      <td>129.0</td>\n",
       "      <td>1895.0</td>\n",
       "      <td>2015.0</td>\n",
       "      <td>KARASJOK            NORWAY</td>\n",
       "    </tr>\n",
       "  </tbody>\n",
       "</table>\n",
       "</div>"
      ],
      "text/plain": [
       "   index  __NN    iWMO  ___fi  ____la  ___hh    __yB    __yE  \\\n",
       "0      0   1.0  1001.0   70.9    -8.7   10.0  1921.0  2018.0   \n",
       "1      1   2.0  1008.0   78.3    15.5   28.0  1975.0  2018.0   \n",
       "2      2   3.0  1025.0   69.7    19.0   10.0  1951.0  2018.0   \n",
       "3      3   4.0  1028.0   74.5    19.0   16.0  1920.0  2018.0   \n",
       "4      4   5.0  1065.0   69.5    25.5  129.0  1895.0  2015.0   \n",
       "\n",
       "  _Name______________ _Country__________  \n",
       "0             JAN MAYEN           NORWAY  \n",
       "1             SVALBARD LUFTHAVN   NORWAY  \n",
       "2             TROMSO/LANGNES      NORWAY  \n",
       "3             BJOERNOEYA          NORWAY  \n",
       "4             KARASJOK            NORWAY  "
      ]
     },
     "execution_count": 60,
     "metadata": {},
     "output_type": "execute_result"
    }
   ],
   "source": [
    "df1709.head()"
   ]
  },
  {
   "cell_type": "code",
   "execution_count": 62,
   "metadata": {},
   "outputs": [],
   "source": [
    "a = df1709.merge(a)"
   ]
  },
  {
   "cell_type": "code",
   "execution_count": 63,
   "metadata": {},
   "outputs": [],
   "source": [
    "a.to_excel(\"catalog_final_253.xlsx\")"
   ]
  },
  {
   "cell_type": "code",
   "execution_count": null,
   "metadata": {},
   "outputs": [],
   "source": []
  },
  {
   "cell_type": "code",
   "execution_count": null,
   "metadata": {},
   "outputs": [],
   "source": []
  },
  {
   "cell_type": "code",
   "execution_count": null,
   "metadata": {},
   "outputs": [],
   "source": []
  },
  {
   "cell_type": "code",
   "execution_count": 10,
   "metadata": {},
   "outputs": [],
   "source": [
    "dfcountry = pd.read_fwf('C:/Maxim/!Precipitation/1.txt', widths=[20, 20], header = None)"
   ]
  },
  {
   "cell_type": "code",
   "execution_count": 12,
   "metadata": {},
   "outputs": [],
   "source": [
    "dfcountry.to_excel(\"catalog_country.xlsx\")"
   ]
  },
  {
   "cell_type": "code",
   "execution_count": null,
   "metadata": {},
   "outputs": [],
   "source": []
  },
  {
   "cell_type": "markdown",
   "metadata": {},
   "source": [
    "# Каталог и файлы для 415"
   ]
  },
  {
   "cell_type": "code",
   "execution_count": 3,
   "metadata": {},
   "outputs": [],
   "source": [
    "df = pd.read_excel('C:/Users/igce/progs/catalog_final_SHCH.xlsx')"
   ]
  },
  {
   "cell_type": "code",
   "execution_count": 4,
   "metadata": {},
   "outputs": [],
   "source": [
    "k = df['iWMO'][df['ii_415'].notna()]"
   ]
  },
  {
   "cell_type": "code",
   "execution_count": 5,
   "metadata": {},
   "outputs": [],
   "source": [
    "p = k.values"
   ]
  },
  {
   "cell_type": "code",
   "execution_count": 32,
   "metadata": {},
   "outputs": [],
   "source": [
    "os.mkdir('C:/Maxim/!Precipitation/df_415')"
   ]
  },
  {
   "cell_type": "code",
   "execution_count": 35,
   "metadata": {},
   "outputs": [],
   "source": [
    "for i in p:\n",
    "    try:\n",
    "        shutil.move('C:/Maxim/!Precipitation/df_1611/' + str(i), 'C:/Maxim/!Precipitation/df_415')\n",
    "    except:\n",
    "        continue   "
   ]
  },
  {
   "cell_type": "code",
   "execution_count": null,
   "metadata": {},
   "outputs": [],
   "source": []
  },
  {
   "cell_type": "code",
   "execution_count": null,
   "metadata": {},
   "outputs": [],
   "source": []
  },
  {
   "cell_type": "code",
   "execution_count": 70,
   "metadata": {},
   "outputs": [
    {
     "name": "stdout",
     "output_type": "stream",
     "text": [
      "1001\n",
      "1025\n"
     ]
    }
   ],
   "source": [
    "for i in p:\n",
    "    if not os.path.isfile('C:/Maxim/!Precipitation/df_415/' + str(i)):\n",
    "        print(i)"
   ]
  },
  {
   "cell_type": "code",
   "execution_count": null,
   "metadata": {},
   "outputs": [],
   "source": []
  }
 ],
 "metadata": {
  "kernelspec": {
   "display_name": "Python 3",
   "language": "python",
   "name": "python3"
  },
  "language_info": {
   "codemirror_mode": {
    "name": "ipython",
    "version": 3
   },
   "file_extension": ".py",
   "mimetype": "text/x-python",
   "name": "python",
   "nbconvert_exporter": "python",
   "pygments_lexer": "ipython3",
   "version": "3.7.1"
  }
 },
 "nbformat": 4,
 "nbformat_minor": 2
}
