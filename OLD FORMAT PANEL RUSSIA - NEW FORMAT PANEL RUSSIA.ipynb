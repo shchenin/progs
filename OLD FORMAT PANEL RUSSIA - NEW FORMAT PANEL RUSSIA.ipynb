{
 "cells": [
  {
   "cell_type": "code",
   "execution_count": 695,
   "metadata": {},
   "outputs": [],
   "source": [
    "import pandas as pd\n",
    "import numpy as np"
   ]
  },
  {
   "cell_type": "code",
   "execution_count": 696,
   "metadata": {},
   "outputs": [],
   "source": [
    "pr = pd.read_excel('C:/Users/ScMa9004/Documents/Итоги визита/314/Panel Russia_for 314.xlsx',\n",
    "                   sheet_name = 'Panel', \n",
    "                   skiprows = 2)"
   ]
  },
  {
   "cell_type": "code",
   "execution_count": 697,
   "metadata": {},
   "outputs": [],
   "source": [
    "rules = pd.read_excel('C:/Users/ScMa9004/Documents/Panel/NEW PANEL/FMCG_CIG_BEER.xlsx',\n",
    "                      sheet_name = 'index + mcellname')"
   ]
  },
  {
   "cell_type": "code",
   "execution_count": 698,
   "metadata": {},
   "outputs": [],
   "source": [
    "arc = pd.read_excel('C:/Users/ScMa9004/Documents/All Russia cities 01.01.2018.xlsx',\n",
    "                    sheet_name = 'All_Russia_cities', \n",
    "                    skiprows = 1)"
   ]
  },
  {
   "cell_type": "code",
   "execution_count": 699,
   "metadata": {},
   "outputs": [],
   "source": [
    "uo200 = pd.read_excel('C:/Users/ScMa9004/Documents/Universe Over 200.xls', \n",
    "                      sheet_name = 'Towns&Villages', \n",
    "                      skiprows = 1)"
   ]
  },
  {
   "cell_type": "code",
   "execution_count": 700,
   "metadata": {},
   "outputs": [],
   "source": [
    "df = pd.read_excel('C:/Users/ScMa9004/Downloads/panel_report_00001_14.01.2020.xlsx',\n",
    "                   sheet_name = 'panel_report_00001_14.01.2020')"
   ]
  },
  {
   "cell_type": "code",
   "execution_count": 852,
   "metadata": {},
   "outputs": [],
   "source": [
    "newp = pd.read_excel('C:/Users/ScMa9004/Documents/Panel/NEW PANEL/NEW_PANEL_21-Oct_29_10_for_cost.xlsx',\n",
    "                   sheet_name = 'Panel_Urban')"
   ]
  },
  {
   "cell_type": "code",
   "execution_count": 702,
   "metadata": {
    "scrolled": true
   },
   "outputs": [],
   "source": [
    "# prepare file\n",
    "\n",
    "wrk = arc[['City Code',\n",
    "            '# of Federal Subject', \n",
    "            'pgr1']].rename(columns = {'City Code': 'ccode',\n",
    "                                                               '# of Federal Subject': 'Sub_id'})\n",
    "\n",
    "pr = pd.merge(pr, wrk, on = 'ccode', how = 'left')\n",
    "#pr = pd.merge(pr, np[['region_normalny', 'ccode']], on = 'ccode', how = 'left')\n",
    "\n",
    "pr = pr.rename(columns = {'act stand': 'AP_FMCG', \n",
    "                          'act cig ': 'AP_CIG', \n",
    "                          'act beer ': 'AP_BEER'})\n",
    "\n",
    "pr.loc[pr['hip'] == 1, 'hip'] = 'Y'\n",
    "pr.loc[pr['hip'] == 0, 'hip'] = 'N'\n",
    "\n",
    "pr = pr[['ccode', 'type', 'region_da', 'pgr1', 'ttr', 'hip', 'Sub_id', 'sub', 'AP_FMCG', 'AP_CIG', 'AP_BEER', 'ops']]\n",
    "\n",
    "pr = pd.merge(pr, newp[['region_normalny', 'ccode']].drop_duplicates(), on = 'ccode', how = 'left')\n",
    "\n",
    "pr['MCELL_ID_FMCG'] = np.nan\n",
    "pr['MCELL_ID_CIG'] = np.nan\n",
    "pr['MCELL_ID_BEER'] = np.nan\n",
    "pr['MCELL_ID_EXXON'] = np.nan"
   ]
  },
  {
   "cell_type": "code",
   "execution_count": 704,
   "metadata": {},
   "outputs": [],
   "source": [
    "def parser(mcell):\n",
    "    if mcell.split('-')[0] in ['CNT', 'FST', 'VOL', 'URL', 'NWT', 'STH', 'MSO', 'SIB']:\n",
    "        area = [mcell.split('-')[0]]\n",
    "        if 'RR' in mcell.split('-')[-1]:\n",
    "            ccodes = []\n",
    "            subreg = list(map(int, mcell.split('-')[1].split('|')))\n",
    "            types = ['OSU', 'OLA', 'OME', 'OSM', 'OPV', 'OMM', 'OMS']\n",
    "            pgr = list(mcell.split('-')[2].split('|'))\n",
    "            ds = list(mcell.split('-')[3].split('|'))\n",
    "            hip = []\n",
    "            ndx = [mcell.split('-')[-1]]\n",
    "            NO_city = []\n",
    "            ttr = ['MT|TT']\n",
    "        else:\n",
    "            ccodes = []\n",
    "            subreg = list(map(int, mcell.split('-')[1].split('|')))\n",
    "            if ('IML' in mcell.split('-')[2]) | ('IMS' in mcell.split('-')[2]):\n",
    "                types = ['OKS', 'ONS', 'OPV', 'OSM']\n",
    "                hip = [mcell.split('-')[2]]\n",
    "            else:\n",
    "                types = list(mcell.split('-')[2].split('|'))\n",
    "                hip = []\n",
    "            pgr = list(map(int, mcell.split('-')[3].split('|')))\n",
    "            ttr = list(mcell.split('-')[4].split('|'))\n",
    "            try:\n",
    "                NO_city = list(map(int, mcell.split('-')[5].replace('(', '').replace(')', '').split('&')))\n",
    "            except:\n",
    "                NO_city = []\n",
    "            ndx = [mcell.split('-')[-1]]\n",
    "            ds = []\n",
    "    else:\n",
    "        if '|' in mcell.split('-')[0]:\n",
    "            area = [mcell.split('-')[0] + ' ' + mcell.split('-')[1]]\n",
    "        else:\n",
    "            area = [mcell.split('-')[1]]\n",
    "        ccodes = list(map(int, mcell.split('-')[0].split('|')))\n",
    "        subreg = []\n",
    "        hip = []\n",
    "        if ('IML' in mcell.split('-')[2]) | ('IMS' in mcell.split('-')[2]):\n",
    "            types = ['OKS', 'ONS', 'OPV', 'OSM']\n",
    "            hip = [mcell.split('-')[2]]\n",
    "        else:\n",
    "            types = list(mcell.split('-')[2].split('|'))\n",
    "        if ('Y' in mcell.split('-')[3]) | ('N' in mcell.split('-')[3]):\n",
    "            ttr = ['TT']\n",
    "            hip = list(mcell.split('-')[3])\n",
    "        else:\n",
    "            ttr = list(mcell.split('-')[3].split('|'))\n",
    "        NO_city = []\n",
    "        pgr = []\n",
    "        ndx = [mcell.split('-')[-1]]\n",
    "        ds = []\n",
    "    return(area, ccodes, subreg, types, pgr, ttr, NO_city, hip, ds, ndx)"
   ]
  },
  {
   "cell_type": "code",
   "execution_count": 705,
   "metadata": {},
   "outputs": [],
   "source": [
    "# mcell id for panel\n",
    "for i, j in rules.iterrows():\n",
    "    conditions = parser(j['new_mcell_name'])\n",
    "    if conditions[1]:\n",
    "        c1 = pr['ccode'].isin(conditions[1])\n",
    "    else:\n",
    "        c1 = pr['ccode'].isin(pr['ccode'])\n",
    "    if conditions[2]:\n",
    "        c2 = pr['Sub_id'].isin(conditions[2])\n",
    "    else:\n",
    "        c2 = pr['Sub_id'].isin(pr['Sub_id'])\n",
    "    if conditions[3]:\n",
    "        c3 = pr['type'].isin(conditions[3])\n",
    "    else:\n",
    "        c3 = pr['type'].isin(pr['type'])\n",
    "    if conditions[4]:\n",
    "        c4 = pr['pgr1'].isin(conditions[4])\n",
    "    else:\n",
    "        c4 = pr['pgr1'].isin(pr['pgr1'])\n",
    "    if conditions[5]:\n",
    "        if '|' not in conditions[5][0]:\n",
    "            c5 = pr['ttr'].isin(conditions[5])\n",
    "        else:\n",
    "            c5 = pr['ttr'].isin(pr['ttr'])\n",
    "    else:\n",
    "        c5 = pr['ttr'].isin(pr['ttr'])\n",
    "    if conditions[6]:\n",
    "        c6 = ~pr['ccode'].isin(conditions[6])\n",
    "    else:\n",
    "        c6 = pr['ccode'].isin(pr['ccode'])\n",
    "    if conditions[7]:\n",
    "        c7 = pr['hip'].isin(conditions[7])\n",
    "    else:\n",
    "        c7 = pr['hip'].isin(pr['hip'])\n",
    "    if conditions[9][0] == 'FMCG':\n",
    "        pr.loc[c1 & c2 & c3 & c4 & c5 & c6 & c7, 'MCELL_ID_FMCG'] = j['index']\n",
    "    elif conditions[9][0] == 'CIG':\n",
    "        pr.loc[c1 & c2 & c3 & c4 & c5 & c6 & c7, 'MCELL_ID_CIG'] = j['index']\n",
    "    elif conditions[9][0] == 'BEER':\n",
    "        pr.loc[c1 & c2 & c3 & c4 & c5 & c6 & c7, 'MCELL_ID_BEER'] = j['index']\n",
    "    elif conditions[9][0] == 'EXXON':\n",
    "        pr.loc[c1 & c2 & c3 & c4 & c5 & c6 & c7, 'MCELL_ID_EXXON'] = j['index']"
   ]
  },
  {
   "cell_type": "code",
   "execution_count": 706,
   "metadata": {},
   "outputs": [],
   "source": [
    "# fine tune\n",
    "\n",
    "pr = pr[pr['MCELL_ID_FMCG'].notna() | pr['MCELL_ID_CIG'].notna() | pr['MCELL_ID_BEER'].notna() | pr['MCELL_ID_EXXON'].notna()]\n",
    "\n",
    "pr['AP_EXXON'] = pr['AP_FMCG'][pr['MCELL_ID_FMCG'].isna() & pr['MCELL_ID_EXXON'].notna()]\n",
    "pr.loc[pr['MCELL_ID_FMCG'].isna(), 'AP_FMCG'] = 0\n",
    "\n",
    "pr.loc[pr['type'].isin(['OPS', 'CDL', 'SPS']) ,'AP_EXXON'] = 0\n",
    "\n",
    "pr[['AP_FMCG', 'AP_CIG', 'AP_BEER', 'AP_EXXON']] = pr[['AP_FMCG', 'AP_CIG', 'AP_BEER', 'AP_EXXON']].fillna(0)\n",
    "\n",
    "pr.loc[pr['ccode'] == pr['ops'], 'ops_bool'] = 1\n",
    "pr['ops_bool'] = pr['ops_bool'].fillna(0)\n",
    "\n",
    "pr['OP_FMCG'] = 0\n",
    "pr['OP_CIG'] = 0\n",
    "pr['OP_BEER'] = 0\n",
    "pr['OP_EXXON'] = 0"
   ]
  },
  {
   "cell_type": "code",
   "execution_count": 707,
   "metadata": {},
   "outputs": [],
   "source": [
    "pr.to_excel('HUNTA.xlsx')"
   ]
  },
  {
   "cell_type": "code",
   "execution_count": 770,
   "metadata": {},
   "outputs": [],
   "source": [
    "pr = pd.read_excel('HUNTA.xlsx')"
   ]
  },
  {
   "cell_type": "code",
   "execution_count": null,
   "metadata": {},
   "outputs": [],
   "source": [
    "#списки для проблемных микроселлов\n",
    "notinpanel = []\n",
    "neraskidalos = []"
   ]
  },
  {
   "cell_type": "code",
   "execution_count": 793,
   "metadata": {},
   "outputs": [],
   "source": [
    "#запустить поочереди для каждого индекса\n",
    "MCELL_ID = 'MCELL_ID_EXXON'\n",
    "OP_index = 'OP_EXXON'\n",
    "AP_index = 'AP_EXXON'\n",
    "\n",
    "def OP(pr, rules, MCELL_ID, OP_index, AP_index):\n",
    "    #for i in rules['index'][rules['index'] < 4000].unique():\n",
    "    #for i in rules['index'][(rules['index'] > 3999) & (rules['index'] < 6000)].unique():\n",
    "    #for i in rules['index'][(rules['index'] > 5999) & (rules['index'] < 7000)].unique():\n",
    "    №for i in rules['index'][(rules['index'] > 6999) & (rules['index'] < 8000)].unique():\n",
    "        if len(pr[pr[MCELL_ID] == i]) != 0:\n",
    "            OP = rules['OP'][rules['index'] == i].unique().item()\n",
    "            AP = pr[AP_index][pr[MCELL_ID] == i].sum()\n",
    "            if (AP != 0) & (OP == 0):\n",
    "                pass\n",
    "            elif (AP == 0) & (OP == 0):\n",
    "                pass\n",
    "            elif (AP == 0) & (OP != 0):\n",
    "                #кидаем все в те города, которые являются опсами\n",
    "                if sum(pr['ops_bool'][pr[MCELL_ID] == i] == 1) > 0:\n",
    "                    ostatok = OP % len(pr['ops_bool'][pr[MCELL_ID] == i] == 1)\n",
    "                    OP //= len(pr['ops_bool'][pr[MCELL_ID] == i] == 1)\n",
    "                    pr.loc[(pr[MCELL_ID] == i) &  (pr['ops_bool'] == 1), OP_index] = OP\n",
    "                    pr[OP_index][(pr[MCELL_ID] == i) & \n",
    "                                  (pr['ops_bool'] == 1) & \n",
    "                                  (pr.index == pr.index[(pr[MCELL_ID] == i) & (pr['ops_bool'] == 1)][0])] += ostatok\n",
    "                #если среди городов нет опсов, распределяем равномерно по всем представленым опсам\n",
    "                else:\n",
    "                    while OP != 0:\n",
    "                        for k in list(pr['ops'][pr[MCELL_ID] == i].unique()):\n",
    "                            pr[OP_index][(pr[MCELL_ID] == i) & \n",
    "                                          (pr['ops'] == k) & \n",
    "                                          (pr.index == pr.index[(pr[MCELL_ID] == i) & (pr['ops'] == k)][0])] += 1\n",
    "                            OP -= 1\n",
    "                            if OP == 0:\n",
    "                                break\n",
    "            elif OP == AP:\n",
    "                pr.loc[pr[MCELL_ID] == i, OP_index] = pr[AP_index]\n",
    "            #распеределяем ОП туда, где есть АП, а затем точно также как с : (AP == 0) & (OP != 0)\n",
    "            elif OP > AP:\n",
    "                OP -= AP\n",
    "                pr.loc[(pr[MCELL_ID] == i), OP_index] = pr[AP_index]\n",
    "                #кидаем все в те города, которые являются опсами\n",
    "                if sum(pr['ops_bool'][pr[MCELL_ID] == i] == 1) > 0:\n",
    "                    ostatok = OP % sum(pr['ops_bool'][pr[MCELL_ID] == i] == 1)\n",
    "                    OP //= sum(pr['ops_bool'][pr[MCELL_ID] == i] == 1)\n",
    "                    pr[OP_index][(pr[MCELL_ID] == i) & (pr['ops_bool'] == 1)] += OP \n",
    "                    pr[OP_index][(pr[MCELL_ID] == i) & \n",
    "                                  (pr['ops_bool'] == 1) & \n",
    "                                  (pr.index == pr.index[(pr[MCELL_ID] == i) & (pr['ops_bool'] == 1)][0])] += ostatok\n",
    "                #если среди городов нет опсов, распределяем равномерно по всем представленым опсам\n",
    "                else:\n",
    "                    while OP != 0:\n",
    "                        for k in list(pr['ops'][pr[MCELL_ID] == i].unique()):\n",
    "                            pr[OP_index][(pr[MCELL_ID] == i) & \n",
    "                                          (pr['ops'] == k) & \n",
    "                                          (pr.index == pr.index[(pr[MCELL_ID] == i) & (pr['ops'] == k)][0])] += 1\n",
    "                            OP -= 1\n",
    "                            if OP == 0:\n",
    "                                break\n",
    "            #распеределяем максимум ОП туда, где опс\n",
    "            elif OP < AP:\n",
    "                #если АП в опсах == ОП:\n",
    "                if sum(pr[AP_index][(pr[MCELL_ID] == i) & (pr[AP_index] > 0) & (pr['ops_bool'] == 1)]) == OP:\n",
    "                    pr.loc[(pr[MCELL_ID] == i) & (pr['ops_bool'] == 1) & (pr[AP_index] > 0), OP_index] = pr[AP_index]\n",
    "                #если АП в опсах < ОП\n",
    "                elif sum(pr[AP_index][(pr[MCELL_ID] == i) & (pr[AP_index] > 0) & (pr['ops_bool'] == 1)]) < OP:\n",
    "                    #заполняем опсы\n",
    "                    if sum(pr['ops_bool'][pr[MCELL_ID] == i] == 1) > 0:\n",
    "                        pr.loc[(pr[MCELL_ID] == i) & (pr['ops_bool'] == 1) & (pr[AP_index] > 0), OP_index] = pr[AP_index]\n",
    "                    #раскидываем ОП по опсам, где есть АП\n",
    "                    OP -= sum(pr[AP_index][(pr[MCELL_ID] == i) & (pr[AP_index] > 0) & (pr['ops_bool'] == 1)])\n",
    "                    while OP != 0:\n",
    "                        for l in list(pr['ccode'][(pr[MCELL_ID] == i) & (pr[AP_index] > 0)].unique()):\n",
    "                            pr[OP_index][(pr[MCELL_ID] == i) & \n",
    "                                        (pr['ccode'] == l) & \n",
    "                                        (pr[AP_index] > 0) & \n",
    "                                        (pr.index == pr.index[(pr[MCELL_ID] == i) & (pr['ccode'] == l) & (pr[AP_index] > 0)][0])] += 1\n",
    "                            OP -= 1\n",
    "                            if OP == 0:\n",
    "                                break   \n",
    "                else:\n",
    "                    cities = list(pr['ccode'][(pr[MCELL_ID] == i) & (pr[AP_index] > 0)].unique())\n",
    "                    while OP != 0:\n",
    "                        for l in cities:\n",
    "                            pr[OP_index][(pr[MCELL_ID] == i) & \n",
    "                                          (pr['ccode'] == l) & \n",
    "                                          (pr[AP_index] > 0) &\n",
    "                                          (pr.index == pr.index[(pr[MCELL_ID] == i) & (pr['ccode'] == l) & (pr[AP_index] > 0)][0])] += 1\n",
    "                            OP -= 1\n",
    "                            if OP == 0:\n",
    "                                break\n",
    "            #микроселлы, где ОП не раскидалась корректно заносятся в этот список\n",
    "            if rules['OP'][rules['index'] == i].unique().item() != sum(pr[OP_index][pr[MCELL_ID] == i]):\n",
    "                neraskidalos.append[i]\n",
    "        #микроселлы, для которых не нашлось куда раскидываться - в этот список\n",
    "        elif ((len(pr[pr[MCELL_ID] == i]) == 0) & (rules['OP'][rules['index'] == i]) > 0).iloc[0]:\n",
    "            notinpanel.append(i)\n",
    "    \n",
    "    return(pr, notinpanel, neraskidalos)"
   ]
  },
  {
   "cell_type": "code",
   "execution_count": 794,
   "metadata": {
    "scrolled": true
   },
   "outputs": [
    {
     "name": "stderr",
     "output_type": "stream",
     "text": [
      "C:\\Users\\ScMa9004\\AppData\\Local\\Continuum\\anaconda3\\lib\\site-packages\\ipykernel_launcher.py:84: SettingWithCopyWarning: \n",
      "A value is trying to be set on a copy of a slice from a DataFrame\n",
      "\n",
      "See the caveats in the documentation: http://pandas.pydata.org/pandas-docs/stable/user_guide/indexing.html#returning-a-view-versus-a-copy\n",
      "C:\\Users\\ScMa9004\\AppData\\Local\\Continuum\\anaconda3\\lib\\site-packages\\ipykernel_launcher.py:42: SettingWithCopyWarning: \n",
      "A value is trying to be set on a copy of a slice from a DataFrame\n",
      "\n",
      "See the caveats in the documentation: http://pandas.pydata.org/pandas-docs/stable/user_guide/indexing.html#returning-a-view-versus-a-copy\n",
      "C:\\Users\\ScMa9004\\AppData\\Local\\Continuum\\anaconda3\\lib\\site-packages\\ipykernel_launcher.py:84: SettingWithCopyWarning: \n",
      "A value is trying to be set on a copy of a slice from a DataFrame\n",
      "\n",
      "See the caveats in the documentation: http://pandas.pydata.org/pandas-docs/stable/user_guide/indexing.html#returning-a-view-versus-a-copy\n",
      "C:\\Users\\ScMa9004\\AppData\\Local\\Continuum\\anaconda3\\lib\\site-packages\\ipykernel_launcher.py:42: SettingWithCopyWarning: \n",
      "A value is trying to be set on a copy of a slice from a DataFrame\n",
      "\n",
      "See the caveats in the documentation: http://pandas.pydata.org/pandas-docs/stable/user_guide/indexing.html#returning-a-view-versus-a-copy\n",
      "C:\\Users\\ScMa9004\\AppData\\Local\\Continuum\\anaconda3\\lib\\site-packages\\ipykernel_launcher.py:42: SettingWithCopyWarning: \n",
      "A value is trying to be set on a copy of a slice from a DataFrame\n",
      "\n",
      "See the caveats in the documentation: http://pandas.pydata.org/pandas-docs/stable/user_guide/indexing.html#returning-a-view-versus-a-copy\n"
     ]
    },
    {
     "data": {
      "text/plain": [
       "(       Unnamed: 0  ccode type region_da  pgr1 ttr  hip  Sub_id  \\\n",
       " 0               0      6  DKC   Central     8  TT  NaN      28   \n",
       " 1               1      6  DKM   Central     8  TT  NaN      28   \n",
       " 2               2      6  DKP   Central     8  TT  NaN      28   \n",
       " 3               3      6  FKC   Central     8  TT  NaN      28   \n",
       " 4               4      6  FKF   Central     8  TT  NaN      28   \n",
       " ...           ...    ...  ...       ...   ...  ..  ...     ...   \n",
       " 13501       13685    437  OSM      Ural     2  TT  IMS      37   \n",
       " 13502       13686    287  OKS      Ural     5  TT  IMS      40   \n",
       " 13503       13687    287  OPV      Ural     5  TT  IMS      40   \n",
       " 13504       13688    467  OSM     Volga     5  TT  IMS      51   \n",
       " 13505       13689    287  OSM      Ural     5  TT  IMS      40   \n",
       " \n",
       "                          sub  AP_FMCG  ...  CELL_ID_FMCG  CELL_ID_CIG  \\\n",
       " 0      Нижегородская область        3  ...           NaN          NaN   \n",
       " 1      Нижегородская область        2  ...           NaN          NaN   \n",
       " 2      Нижегородская область        3  ...           NaN          NaN   \n",
       " 3      Нижегородская область        3  ...           NaN          NaN   \n",
       " 4      Нижегородская область        7  ...           NaN          NaN   \n",
       " ...                      ...      ...  ...           ...          ...   \n",
       " 13501  Волгоградская область        0  ...           NaN          NaN   \n",
       " 13502    Саратовская область        0  ...           NaN          NaN   \n",
       " 13503    Саратовская область        0  ...           NaN          NaN   \n",
       " 13504     Ростовская область        0  ...           NaN          NaN   \n",
       " 13505    Саратовская область        0  ...           NaN          NaN   \n",
       " \n",
       "        CELL_ID_BEER  CELL_ID_EXXON  AP_EXXON  ops_bool  OP_FMCG  OP_CIG  \\\n",
       " 0               NaN            NaN         0         1        4       0   \n",
       " 1               NaN            NaN         0         1        0       0   \n",
       " 2               NaN            NaN         0         1        3       0   \n",
       " 3               NaN            NaN         0         1        3       0   \n",
       " 4               NaN            NaN         0         1        7       3   \n",
       " ...             ...            ...       ...       ...      ...     ...   \n",
       " 13501           NaN            NaN         0         0        0       0   \n",
       " 13502           NaN            NaN         0         1        0       0   \n",
       " 13503           NaN            NaN         0         1        0       1   \n",
       " 13504           NaN            NaN         0         0        0       0   \n",
       " 13505           NaN            NaN         0         1        0       0   \n",
       " \n",
       "        OP_BEER  OP_EXXON  \n",
       " 0            0         0  \n",
       " 1            0         0  \n",
       " 2            0         0  \n",
       " 3            0         0  \n",
       " 4            0         0  \n",
       " ...        ...       ...  \n",
       " 13501        0         0  \n",
       " 13502        0         0  \n",
       " 13503        0         0  \n",
       " 13504        0         0  \n",
       " 13505        0         0  \n",
       " \n",
       " [13506 rows x 27 columns],\n",
       " [2680,\n",
       "  2689,\n",
       "  4387,\n",
       "  4406,\n",
       "  4429,\n",
       "  4433,\n",
       "  4504,\n",
       "  4549,\n",
       "  4556,\n",
       "  4820,\n",
       "  5407,\n",
       "  5425,\n",
       "  5517],\n",
       " [])"
      ]
     },
     "execution_count": 794,
     "metadata": {},
     "output_type": "execute_result"
    }
   ],
   "source": [
    "OP(pr, rules, MCELL_ID, OP_index, AP_index)"
   ]
  },
  {
   "cell_type": "code",
   "execution_count": 822,
   "metadata": {},
   "outputs": [
    {
     "data": {
      "text/plain": [
       "[2680, 2689, 4387, 4406, 4429, 4433, 4504, 4549, 4556, 4820, 5407, 5425, 5517]"
      ]
     },
     "execution_count": 822,
     "metadata": {},
     "output_type": "execute_result"
    }
   ],
   "source": [
    "#микроселлы с ненулевой ОП, которых нет в панели - добавить строки\n",
    "notinpanel"
   ]
  },
  {
   "cell_type": "code",
   "execution_count": 803,
   "metadata": {},
   "outputs": [],
   "source": [
    "#вручную добавить строк для микроселлов которые не раскидались\n",
    "pr.to_excel('VOZMOZHNO_NE_HUNTA.xlsx')"
   ]
  },
  {
   "cell_type": "code",
   "execution_count": 846,
   "metadata": {},
   "outputs": [],
   "source": [
    "pr = pd.read_excel('VOZMOZHNO_NE_HUNTA.xlsx')"
   ]
  },
  {
   "cell_type": "code",
   "execution_count": 847,
   "metadata": {},
   "outputs": [],
   "source": [
    "rules['CELL_ID_FMCG'] = rules['CELL_ID']\n",
    "rules['CELL_ID_CIG'] = rules['CELL_ID']\n",
    "rules['CELL_ID_BEER'] = rules['CELL_ID']\n",
    "rules['CELL_ID_EXXON'] = rules['CELL_ID']\n",
    "rules['MicroCELL_NAME_FMCG'] = rules['new_mcell_name']\n",
    "rules['MicroCELL_NAME_CIG'] = rules['new_mcell_name']\n",
    "rules['MicroCELL_NAME_BEER'] = rules['new_mcell_name']\n",
    "rules['MicroCELL_NAME_EXXON'] = rules['new_mcell_name']\n",
    "rules['MCELL_ID_FMCG'] = rules['index']\n",
    "rules['MCELL_ID_CIG'] = rules['index']\n",
    "rules['MCELL_ID_BEER'] = rules['index']\n",
    "rules['MCELL_ID_EXXON'] = rules['index']"
   ]
  },
  {
   "cell_type": "code",
   "execution_count": 848,
   "metadata": {},
   "outputs": [],
   "source": [
    "pr = pd.merge(pr, rules[['MCELL_ID_FMCG', 'CELL_ID_FMCG', 'MicroCELL_NAME_FMCG']], on = 'MCELL_ID_FMCG', how = 'left')\n",
    "pr = pd.merge(pr, rules[['MCELL_ID_CIG', 'CELL_ID_CIG', 'MicroCELL_NAME_CIG']], on = 'MCELL_ID_CIG', how = 'left')\n",
    "pr = pd.merge(pr, rules[['MCELL_ID_BEER', 'CELL_ID_BEER', 'MicroCELL_NAME_BEER']], on = 'MCELL_ID_BEER', how = 'left')\n",
    "pr = pd.merge(pr, rules[['MCELL_ID_EXXON', 'CELL_ID_EXXON', 'MicroCELL_NAME_EXXON']], on = 'MCELL_ID_EXXON', how = 'left')"
   ]
  },
  {
   "cell_type": "code",
   "execution_count": 860,
   "metadata": {},
   "outputs": [],
   "source": [
    "pr = pr[['region_normalny', 'region_da', 'Sub_id', 'sub', 'ccode', 'type', 'pgr1', 'ttr', 'hip', 'ops', 'ops_bool', \n",
    "         'AP_FMCG', 'OP_FMCG', 'AP_CIG', 'OP_CIG', 'AP_BEER', 'OP_BEER', 'AP_EXXON', 'OP_EXXON', \n",
    "         'MCELL_ID_FMCG', 'MCELL_ID_CIG', 'MCELL_ID_BEER', 'MCELL_ID_EXXON', \n",
    "         'CELL_ID_FMCG', 'MicroCELL_NAME_FMCG', 'CELL_ID_CIG', 'MicroCELL_NAME_CIG', 'CELL_ID_BEER',\n",
    "         'MicroCELL_NAME_BEER', 'CELL_ID_EXXON', 'MicroCELL_NAME_EXXON']]"
   ]
  },
  {
   "cell_type": "code",
   "execution_count": 861,
   "metadata": {},
   "outputs": [],
   "source": [
    "pr.to_excel('NEW_PANEL_RUSSIA_314.xlsx', index = False)"
   ]
  },
  {
   "cell_type": "code",
   "execution_count": null,
   "metadata": {},
   "outputs": [],
   "source": []
  },
  {
   "cell_type": "code",
   "execution_count": null,
   "metadata": {},
   "outputs": [],
   "source": []
  }
 ],
 "metadata": {
  "kernelspec": {
   "display_name": "Python 3",
   "language": "python",
   "name": "python3"
  },
  "language_info": {
   "codemirror_mode": {
    "name": "ipython",
    "version": 3
   },
   "file_extension": ".py",
   "mimetype": "text/x-python",
   "name": "python",
   "nbconvert_exporter": "python",
   "pygments_lexer": "ipython3",
   "version": "3.7.4"
  }
 },
 "nbformat": 4,
 "nbformat_minor": 2
}
