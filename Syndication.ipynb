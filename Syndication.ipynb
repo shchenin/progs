{
 "cells": [
  {
   "cell_type": "code",
   "execution_count": 1,
   "metadata": {},
   "outputs": [],
   "source": [
    "import pandas as pd\n",
    "import numpy as np"
   ]
  },
  {
   "cell_type": "code",
   "execution_count": 3,
   "metadata": {},
   "outputs": [],
   "source": [
    "df = pd.read_excel('C:/Users/ScMa9004/Documents/RI/RIEXPORT_1105_SYND_M.xlsx')"
   ]
  },
  {
   "cell_type": "code",
   "execution_count": 5,
   "metadata": {},
   "outputs": [],
   "source": [
    "pr = pd.read_excel('C:/Users/ScMa9004/Documents/RI/panel_report_00001_14.01.2020.xlsx', sheet_name = 1)"
   ]
  },
  {
   "cell_type": "code",
   "execution_count": 2,
   "metadata": {},
   "outputs": [],
   "source": [
    "sf = pd.read_excel('C:/Users/ScMa9004/Documents/Справочник OPS_регион_QCT_12.2019.xlsx', sheet_name = 'данные')"
   ]
  },
  {
   "cell_type": "code",
   "execution_count": 6,
   "metadata": {},
   "outputs": [
    {
     "data": {
      "text/plain": [
       "Index(['Store_Type', 'NOT_NEED_CHA', 'NEED_CCODE', 'sms_service', 'RU_CHA',\n",
       "       'RU_CCN', 'RU_REGION', 'RU_RGN', 'CCN_BEER', 'RGN_BEER', 'CCN_CIG',\n",
       "       'RGN_CIG', 'REGION_CIG', 'Postcode', 'hl019', 'hl020', 'hl021', 'hl022',\n",
       "       'hl023', 'hl024', 'hl025', 'hl026', 'hl028', 'hl029', 'hl030',\n",
       "       'mbr_par', 'STORE_ADDRESS_DA', 'Province', 'City/Regency', 'Store Name',\n",
       "       'DA_STORE_TYPE', 'Store Chain Name', 'CityCode', 'Trade Type',\n",
       "       'Store Owner Name', 'Latitude', 'Longitude', 'Sms ID',\n",
       "       'RMS_CLUSTER_CODE', 'RU_SUBJECT', 'RU_PGR', 'DIST_STRATA', 'Sales Area',\n",
       "       'hl013', 'hl156', 'autorized', 'Period', 'Set', 'SMPSEQ', 'Index',\n",
       "       'Index Name', 'Unnamed: 51', 'Cell Name', 'DateofSample', 'StaggingID',\n",
       "       'GSRID', 'BatchID', 'Stage', 'Period Group', 'Sample Area ID', 'BO_Set',\n",
       "       'Deficit', 'LOST_SMS_ID', 'LOST_STORE_TYPE', 'SampleAreaName'],\n",
       "      dtype='object')"
      ]
     },
     "execution_count": 6,
     "metadata": {},
     "output_type": "execute_result"
    }
   ],
   "source": [
    "df.columns"
   ]
  },
  {
   "cell_type": "code",
   "execution_count": 7,
   "metadata": {},
   "outputs": [],
   "source": [
    "def syndi(df, pr, sf):\n",
    "    \n",
    "    df = df[df['Stage'] == 'SYNDICATION'].reset_index(drop = True)\n",
    "    \n",
    "    df['Cluster'] = np.nan\n",
    "    df['QCTNAME'] = np.nan\n",
    "    df['BST'] = np.nan\n",
    "    df['NEW BST'] = np.nan\n",
    "    df['CCODE'] = np.nan\n",
    "    \n",
    "    pr['outlet10'] = pr['outlet10'].astype('str')\n",
    "    \n",
    "    for i in range(len(df['Cluster'])):\n",
    "        df.loc[i, 'BST'] = pr['bst'][pr['outlet10'] == str(df['Sms ID'][i])].item()\n",
    "        df.loc[i, 'CCODE'] = pr['citycode'][pr['outlet10'] == str(df['Sms ID'][i])].item()\n",
    "        df.loc[i, 'Cluster'] = pr['ops'][pr['outlet10'] == str(df['Sms ID'][i])].item()\n",
    "        if df['Cluster'][i] == 1:\n",
    "            df.loc[i, 'Cluster'] = pr['cluster'][pr['outlet10'] == str(df['Sms ID'][i])].item()\n",
    "            if df['Cluster'][i] == 'MSC1':\n",
    "                df.loc[i, 'QCTNAME'] = 'Olga Timofeeva'\n",
    "            else:\n",
    "                df.loc[i, 'QCTNAME'] = 'Svetlana Makarova'\n",
    "        try:\n",
    "            df.loc[i, 'QCTNAME'] =  sf['qct_name_NEW'][df['Cluster'][i] == sf['ops']].dropna().unique().item()\n",
    "        except:\n",
    "            continue\n",
    "            \n",
    "    pt = pd.DataFrame()\n",
    "    \n",
    "    pt = df.pivot_table(index= 'Sms ID', columns='Index Name', values='BatchID').reset_index()\n",
    "    \n",
    "    df = df.merge(pt, how='inner')\n",
    "    \n",
    "    df = df.rename(columns={\"RU BEER AUDIT - DUPLICATE\": \"BEER\",\n",
    "                   \"RU CIG AUDIT - DUPLICATE\": \"CIG\",\n",
    "                   \"RU FMCG AUDIT - DUPLICATE\": \"FMCG\",\n",
    "                   \"RU EXXON AUDIT - DUPLICATE\": \"EXXON\"\n",
    "                   })\n",
    "    \n",
    "    df['PMU\\QCT'] = \"PMU\"\n",
    "    df['Аутлаеры'] = np.nan\n",
    "    df['Инструкции от'] = np.nan\n",
    "    df['комментарии'] = np.nan\n",
    "    \n",
    "    if 'EXXON' in df.columns:\n",
    "        df = df[['Sms ID', 'Store Name', 'STORE_ADDRESS_DA', 'DA_STORE_TYPE', 'BST', 'FMCG', 'BEER', 'CIG', 'EXXON', 'NEW BST',\n",
    "                 'CCODE', 'Cluster', 'QCTNAME', 'PMU\\QCT', 'Аутлаеры', 'Инструкции от', 'комментарии']]\n",
    "    else:\n",
    "        df = df[['Sms ID', 'Store Name', 'STORE_ADDRESS_DA', 'DA_STORE_TYPE', 'BST', 'FMCG', 'BEER', 'CIG', 'NEW BST',\n",
    "                 'CCODE', 'Cluster', 'QCTNAME', 'PMU\\QCT', 'Аутлаеры', 'Инструкции от', 'комментарии']]\n",
    "        for i in range(len(df['NEW BST'])):\n",
    "            if df['BST'][i] == 1:\n",
    "                df.loc[i, 'NEW BST'] = 1\n",
    "            if pd.notna(df['FMCG'][i]):\n",
    "                df.loc[i, 'NEW BST'] = 1\n",
    "            elif df['BST'][i] == 3 or df['BST'][i] == 4:\n",
    "                df.loc[i, 'NEW BST'] = 501\n",
    "            elif df['BST'][i] == 998 and pd.notna(df['BEER'][i]):\n",
    "                df.loc[i, 'NEW BST'] = 999\n",
    "            elif df['BST'][i] == 999:\n",
    "                df.loc[i, 'NEW BST'] = 999\n",
    "                \n",
    "    df = df.drop_duplicates(keep = 'first')\n",
    "                \n",
    "    return df"
   ]
  },
  {
   "cell_type": "code",
   "execution_count": 8,
   "metadata": {
    "scrolled": true
   },
   "outputs": [
    {
     "name": "stderr",
     "output_type": "stream",
     "text": [
      "C:\\Users\\ScMa9004\\AppData\\Local\\Continuum\\anaconda3\\lib\\site-packages\\ipykernel_launcher.py:14: FutureWarning: `item` has been deprecated and will be removed in a future version\n",
      "  \n",
      "C:\\Users\\ScMa9004\\AppData\\Local\\Continuum\\anaconda3\\lib\\site-packages\\ipykernel_launcher.py:15: FutureWarning: `item` has been deprecated and will be removed in a future version\n",
      "  from ipykernel import kernelapp as app\n",
      "C:\\Users\\ScMa9004\\AppData\\Local\\Continuum\\anaconda3\\lib\\site-packages\\ipykernel_launcher.py:16: FutureWarning: `item` has been deprecated and will be removed in a future version\n",
      "  app.launch_new_instance()\n",
      "C:\\Users\\ScMa9004\\AppData\\Local\\Continuum\\anaconda3\\lib\\site-packages\\ipykernel_launcher.py:18: FutureWarning: `item` has been deprecated and will be removed in a future version\n",
      "C:\\Users\\ScMa9004\\AppData\\Local\\Continuum\\anaconda3\\lib\\site-packages\\pandas\\core\\ops\\__init__.py:1115: FutureWarning: elementwise comparison failed; returning scalar instead, but in the future will perform elementwise comparison\n",
      "  result = method(y)\n"
     ]
    }
   ],
   "source": [
    "syndi(df, pr, sf).to_excel('syndi.xlsx', index = False)"
   ]
  },
  {
   "cell_type": "code",
   "execution_count": null,
   "metadata": {},
   "outputs": [],
   "source": []
  }
 ],
 "metadata": {
  "kernelspec": {
   "display_name": "Python 3",
   "language": "python",
   "name": "python3"
  },
  "language_info": {
   "codemirror_mode": {
    "name": "ipython",
    "version": 3
   },
   "file_extension": ".py",
   "mimetype": "text/x-python",
   "name": "python",
   "nbconvert_exporter": "python",
   "pygments_lexer": "ipython3",
   "version": "3.7.4"
  }
 },
 "nbformat": 4,
 "nbformat_minor": 2
}
