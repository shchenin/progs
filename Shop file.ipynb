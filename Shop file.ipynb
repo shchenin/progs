{
 "cells": [
  {
   "cell_type": "code",
   "execution_count": 2,
   "metadata": {},
   "outputs": [],
   "source": [
    "import pandas as pd\n",
    "import numpy as np\n",
    "import sys"
   ]
  },
  {
   "cell_type": "code",
   "execution_count": 3,
   "metadata": {},
   "outputs": [],
   "source": [
    "df = pd.DataFrame()"
   ]
  },
  {
   "cell_type": "code",
   "execution_count": 5,
   "metadata": {},
   "outputs": [],
   "source": [
    "pc = pd.read_excel('C:/Users/ScMa9004/Documents/Итоги визита/313/panelcensus_313.xlsx', sheet_name = 'panelcensus')"
   ]
  },
  {
   "cell_type": "code",
   "execution_count": 8,
   "metadata": {},
   "outputs": [],
   "source": [
    "pr = pd.read_excel('C:/Users/ScMa9004/Documents/Итоги визита/313/panel_report_00001_25.11.2019.xlsx', sheet_name = 'panel_report_00001_25.11.2019')"
   ]
  },
  {
   "cell_type": "code",
   "execution_count": 9,
   "metadata": {},
   "outputs": [],
   "source": [
    "arc = pd.read_excel('C:/Users/ScMa9004/Documents/All Russia cities 01.01.2018.xlsx', sheet_name = 'All_Russia_cities', skiprows = 1)"
   ]
  },
  {
   "cell_type": "code",
   "execution_count": 10,
   "metadata": {},
   "outputs": [],
   "source": [
    "uo200 = pd.read_excel('C:/Users/ScMa9004/Documents/Universe Over 200.xls', sheet_name = 'Towns&Villages', skiprows = 1)"
   ]
  },
  {
   "cell_type": "code",
   "execution_count": 11,
   "metadata": {},
   "outputs": [],
   "source": [
    "pr = pr[pr['allstat'] != 'P']"
   ]
  },
  {
   "cell_type": "code",
   "execution_count": 12,
   "metadata": {},
   "outputs": [],
   "source": [
    "pr.loc[pr['rux'].notna() & pr['rum'].isna(), 'rum'] = pr['rux'][pr['rux'].notna() & pr['rum'].isna()]"
   ]
  },
  {
   "cell_type": "code",
   "execution_count": 13,
   "metadata": {},
   "outputs": [],
   "source": [
    "pr['INDEX'] = np.nan"
   ]
  },
  {
   "cell_type": "code",
   "execution_count": 14,
   "metadata": {},
   "outputs": [],
   "source": [
    "pr.loc[pr['rub'].notna() & (pr['hl156'] == 0), 'hl156'] = 1"
   ]
  },
  {
   "cell_type": "code",
   "execution_count": 15,
   "metadata": {},
   "outputs": [],
   "source": [
    "pr.loc[pr['ruc'].notna() & (pr['hl013'] == 0), 'hl013'] = 1"
   ]
  },
  {
   "cell_type": "code",
   "execution_count": 16,
   "metadata": {},
   "outputs": [],
   "source": [
    "pr['SALES_AREA'] = np.nan\n",
    "pr['AUTORIZED'] = np.nan\n",
    "pr['cha'] = np.nan"
   ]
  },
  {
   "cell_type": "code",
   "execution_count": 17,
   "metadata": {},
   "outputs": [
    {
     "name": "stderr",
     "output_type": "stream",
     "text": [
      "C:\\Users\\ScMa9004\\AppData\\Local\\Continuum\\anaconda3\\lib\\site-packages\\ipykernel_launcher.py:3: FutureWarning: `item` has been deprecated and will be removed in a future version\n",
      "  This is separate from the ipykernel package so we can avoid doing imports until\n",
      "C:\\Users\\ScMa9004\\AppData\\Local\\Continuum\\anaconda3\\lib\\site-packages\\ipykernel_launcher.py:4: FutureWarning: `item` has been deprecated and will be removed in a future version\n",
      "  after removing the cwd from sys.path.\n",
      "C:\\Users\\ScMa9004\\AppData\\Local\\Continuum\\anaconda3\\lib\\site-packages\\ipykernel_launcher.py:8: FutureWarning: `item` has been deprecated and will be removed in a future version\n",
      "  \n"
     ]
    }
   ],
   "source": [
    "for i in pr.index:\n",
    "    try:\n",
    "        pr.loc[i, 'SALES_AREA'] = pc['sqrt1'][pc['ocode10'] == str(pr['outlet10'][i])].item()\n",
    "        pr.loc[i, 'cha'] = pc['cha'][pc['ocode10'] == str(pr['outlet10'][i])].item()\n",
    "    except:\n",
    "        print('все точки из pr должны быть в pc и наоборот')\n",
    "    if (pr['type'][i] == 'SRV') | (pr['type'][i] == 'CDL') | (pr['type'][i] == 'SPS') | (pr['type'][i] == 'OPS'):\n",
    "        if pc['autorized'][pc['ocode10'] == str(pr['outlet10'][i])].item() == 1:\n",
    "            pr.loc[i, 'AUTORIZED'] = 'Y'\n",
    "        else:\n",
    "            pr.loc[i, 'AUTORIZED'] = 'N'"
   ]
  },
  {
   "cell_type": "code",
   "execution_count": 18,
   "metadata": {},
   "outputs": [],
   "source": [
    "df = pr[pr['INDEX'].notna()]"
   ]
  },
  {
   "cell_type": "code",
   "execution_count": 19,
   "metadata": {},
   "outputs": [],
   "source": [
    "for i in pr.index:\n",
    "    if pd.notna(pr['rum'][i]):\n",
    "        if (pr['type'][i] == 'SRV') | (pr['type'][i] == 'CDL') | (pr['type'][i] == 'SPS') | (pr['type'][i] == 'OPS'):\n",
    "            pr.loc[i, 'INDEX'] = 1001395\n",
    "            df = df.append(pr.loc[i])\n",
    "        else:\n",
    "            pr.loc[i, 'INDEX'] = 1000296\n",
    "            df = df.append(pr.loc[i])\n",
    "    if pd.notna(pr['ruc'][i]) & (pr['type'][i][0] != 'Z'):\n",
    "        pr.loc[i, 'INDEX'] = 1000334\n",
    "        df = df.append(pr.loc[i])\n",
    "    if pd.notna(pr['rub'][i]):\n",
    "        pr.loc[i, 'INDEX'] = 1000328\n",
    "        df = df.append(pr.loc[i])"
   ]
  },
  {
   "cell_type": "code",
   "execution_count": 20,
   "metadata": {},
   "outputs": [],
   "source": [
    "df['RU_RGN'] = np.nan\n",
    "df['RU_CCN'] = np.nan\n",
    "df['RU_PGR'] = np.nan\n",
    "df['RU_SUBJECT'] = np.nan\n",
    "df['RGN_BEER'] = np.nan\n",
    "df['CCN_BEER'] = np.nan\n",
    "df['REGION_CIG'] = np.nan\n",
    "df['RGN_CIG'] = np.nan\n",
    "df['CCN_CIG'] = np.nan\n",
    "df['DIST_STRATA'] = np.nan\n",
    "df['RU_REGION'] = np.nan"
   ]
  },
  {
   "cell_type": "code",
   "execution_count": 21,
   "metadata": {
    "scrolled": true
   },
   "outputs": [
    {
     "name": "stderr",
     "output_type": "stream",
     "text": [
      "C:\\Users\\ScMa9004\\AppData\\Local\\Continuum\\anaconda3\\lib\\site-packages\\ipykernel_launcher.py:2: FutureWarning: `item` has been deprecated and will be removed in a future version\n",
      "  \n",
      "C:\\Users\\ScMa9004\\AppData\\Local\\Continuum\\anaconda3\\lib\\site-packages\\ipykernel_launcher.py:3: FutureWarning: `item` has been deprecated and will be removed in a future version\n",
      "  This is separate from the ipykernel package so we can avoid doing imports until\n",
      "C:\\Users\\ScMa9004\\AppData\\Local\\Continuum\\anaconda3\\lib\\site-packages\\ipykernel_launcher.py:4: FutureWarning: `item` has been deprecated and will be removed in a future version\n",
      "  after removing the cwd from sys.path.\n",
      "C:\\Users\\ScMa9004\\AppData\\Local\\Continuum\\anaconda3\\lib\\site-packages\\ipykernel_launcher.py:5: FutureWarning: `item` has been deprecated and will be removed in a future version\n",
      "  \"\"\"\n",
      "C:\\Users\\ScMa9004\\AppData\\Local\\Continuum\\anaconda3\\lib\\site-packages\\ipykernel_launcher.py:6: FutureWarning: `item` has been deprecated and will be removed in a future version\n",
      "  \n",
      "C:\\Users\\ScMa9004\\AppData\\Local\\Continuum\\anaconda3\\lib\\site-packages\\ipykernel_launcher.py:7: FutureWarning: `item` has been deprecated and will be removed in a future version\n",
      "  import sys\n",
      "C:\\Users\\ScMa9004\\AppData\\Local\\Continuum\\anaconda3\\lib\\site-packages\\ipykernel_launcher.py:8: FutureWarning: `item` has been deprecated and will be removed in a future version\n",
      "  \n",
      "C:\\Users\\ScMa9004\\AppData\\Local\\Continuum\\anaconda3\\lib\\site-packages\\ipykernel_launcher.py:9: FutureWarning: `item` has been deprecated and will be removed in a future version\n",
      "  if __name__ == '__main__':\n",
      "C:\\Users\\ScMa9004\\AppData\\Local\\Continuum\\anaconda3\\lib\\site-packages\\ipykernel_launcher.py:10: FutureWarning: `item` has been deprecated and will be removed in a future version\n",
      "  # Remove the CWD from sys.path while we load stuff.\n",
      "C:\\Users\\ScMa9004\\AppData\\Local\\Continuum\\anaconda3\\lib\\site-packages\\ipykernel_launcher.py:11: FutureWarning: `item` has been deprecated and will be removed in a future version\n",
      "  # This is added back by InteractiveShellApp.init_path()\n",
      "C:\\Users\\ScMa9004\\AppData\\Local\\Continuum\\anaconda3\\lib\\site-packages\\ipykernel_launcher.py:12: FutureWarning: `item` has been deprecated and will be removed in a future version\n",
      "  if sys.path[0] == '':\n"
     ]
    }
   ],
   "source": [
    "for i in df['citycode'][df['citycode'] < 10000].unique():\n",
    "    df.loc[df['citycode'] == i, 'RU_RGN'] = arc['rgn_n'][arc['City Code'] == i].item()\n",
    "    df.loc[df['citycode'] == i, 'RU_CCN'] = arc['RU_CCN '][arc['City Code'] == i].item()\n",
    "    df.loc[df['citycode'] == i, 'RU_PGR'] = arc['pgr1'][arc['City Code'] == i].item()\n",
    "    df.loc[df['citycode'] == i, 'RU_SUBJECT'] = arc['# of Federal Subject'][arc['City Code'] == i].item()\n",
    "    df.loc[df['citycode'] == i, 'RGN_BEER'] = arc['RGN_Beer'][arc['City Code'] == i].item()\n",
    "    df.loc[df['citycode'] == i, 'CCN_BEER'] = arc['ccn_bee'][arc['City Code'] == i].item()\n",
    "    df.loc[df['citycode'] == i, 'REGION_CIG'] = arc['Region_Cig'][arc['City Code'] == i].item()\n",
    "    df.loc[df['citycode'] == i, 'RGN_CIG'] = arc['RGN_CIG (by fed.sbj.)'][arc['City Code'] == i].item()\n",
    "    df.loc[df['citycode'] == i, 'CCN_CIG'] = arc['ccn_cig'][arc['City Code'] == i].item()\n",
    "    df.loc[df['citycode'] == i, 'DIST_STRATA'] = arc['Distant Strata'][arc['City Code'] == i].item()\n",
    "    df.loc[df['citycode'] == i, 'RU_REGION'] = arc['region'][arc['City Code'] == i].item()"
   ]
  },
  {
   "cell_type": "code",
   "execution_count": 22,
   "metadata": {},
   "outputs": [
    {
     "name": "stderr",
     "output_type": "stream",
     "text": [
      "C:\\Users\\ScMa9004\\AppData\\Local\\Continuum\\anaconda3\\lib\\site-packages\\ipykernel_launcher.py:3: FutureWarning: `item` has been deprecated and will be removed in a future version\n",
      "  This is separate from the ipykernel package so we can avoid doing imports until\n",
      "C:\\Users\\ScMa9004\\AppData\\Local\\Continuum\\anaconda3\\lib\\site-packages\\ipykernel_launcher.py:4: FutureWarning: `item` has been deprecated and will be removed in a future version\n",
      "  after removing the cwd from sys.path.\n",
      "C:\\Users\\ScMa9004\\AppData\\Local\\Continuum\\anaconda3\\lib\\site-packages\\ipykernel_launcher.py:5: FutureWarning: `item` has been deprecated and will be removed in a future version\n",
      "  \"\"\"\n",
      "C:\\Users\\ScMa9004\\AppData\\Local\\Continuum\\anaconda3\\lib\\site-packages\\ipykernel_launcher.py:6: FutureWarning: `item` has been deprecated and will be removed in a future version\n",
      "  \n",
      "C:\\Users\\ScMa9004\\AppData\\Local\\Continuum\\anaconda3\\lib\\site-packages\\ipykernel_launcher.py:7: FutureWarning: `item` has been deprecated and will be removed in a future version\n",
      "  import sys\n",
      "C:\\Users\\ScMa9004\\AppData\\Local\\Continuum\\anaconda3\\lib\\site-packages\\ipykernel_launcher.py:8: FutureWarning: `item` has been deprecated and will be removed in a future version\n",
      "  \n",
      "C:\\Users\\ScMa9004\\AppData\\Local\\Continuum\\anaconda3\\lib\\site-packages\\ipykernel_launcher.py:9: FutureWarning: `item` has been deprecated and will be removed in a future version\n",
      "  if __name__ == '__main__':\n",
      "C:\\Users\\ScMa9004\\AppData\\Local\\Continuum\\anaconda3\\lib\\site-packages\\ipykernel_launcher.py:10: FutureWarning: `item` has been deprecated and will be removed in a future version\n",
      "  # Remove the CWD from sys.path while we load stuff.\n",
      "C:\\Users\\ScMa9004\\AppData\\Local\\Continuum\\anaconda3\\lib\\site-packages\\ipykernel_launcher.py:11: FutureWarning: `item` has been deprecated and will be removed in a future version\n",
      "  # This is added back by InteractiveShellApp.init_path()\n",
      "C:\\Users\\ScMa9004\\AppData\\Local\\Continuum\\anaconda3\\lib\\site-packages\\ipykernel_launcher.py:12: FutureWarning: `item` has been deprecated and will be removed in a future version\n",
      "  if sys.path[0] == '':\n",
      "C:\\Users\\ScMa9004\\AppData\\Local\\Continuum\\anaconda3\\lib\\site-packages\\ipykernel_launcher.py:13: FutureWarning: `item` has been deprecated and will be removed in a future version\n",
      "  del sys.path[0]\n"
     ]
    }
   ],
   "source": [
    "for i in df['citycode'][df['citycode'] > 10000].unique():\n",
    "    try:\n",
    "        df.loc[df['citycode'] == i, 'RU_RGN'] = uo200['rgn_n'][uo200['ACN NN'] == i].item()\n",
    "        df.loc[df['citycode'] == i, 'RU_CCN'] = uo200['RU_CCN'][uo200['ACN NN'] == i].item()\n",
    "        df.loc[df['citycode'] == i, 'RU_PGR'] = uo200['pgr_MT'][uo200['ACN NN'] == i].item()\n",
    "        df.loc[df['citycode'] == i, 'RU_SUBJECT'] = uo200['Federal Subject Number'][uo200['ACN NN'] == i].item()\n",
    "        df.loc[df['citycode'] == i, 'RGN_BEER'] = uo200['RGN_Beer'][uo200['ACN NN'] == i].item()\n",
    "        df.loc[df['citycode'] == i, 'CCN_BEER'] = uo200['ccn_bee'][uo200['ACN NN'] == i].item()\n",
    "        df.loc[df['citycode'] == i, 'REGION_CIG'] = uo200['rgn_CIG'][uo200['ACN NN'] == i].item()\n",
    "        df.loc[df['citycode'] == i, 'RGN_CIG'] = uo200['RGN_CIG'][uo200['ACN NN'] == i].item()\n",
    "        df.loc[df['citycode'] == i, 'CCN_CIG'] = uo200['ccn_cig'][uo200['ACN NN'] == i].item()\n",
    "        df.loc[df['citycode'] == i, 'DIST_STRATA'] = uo200['Distance Strata'][uo200['ACN NN'] == i].item()\n",
    "        df.loc[df['citycode'] == i, 'RU_REGION'] = uo200['region'][uo200['ACN NN'] == i].item()\n",
    "    except:\n",
    "        print(i, 'этого населенного пункта нет в universe over 200. Используйте актуальный файл. Мялкина, Леденейкина, Быданова')\n",
    "        break\n",
    "#        df = df[df['citycode'] != i]"
   ]
  },
  {
   "cell_type": "code",
   "execution_count": 23,
   "metadata": {},
   "outputs": [],
   "source": [
    "df['Outlet'] = 1\n",
    "df['SMS_SERVICE'] = 1\n",
    "df['NOT_NEED_CHA'] = 1\n",
    "df['NEED_CCODE'] = 1\n",
    "df['RU_CHA'] = 'OTHER'"
   ]
  },
  {
   "cell_type": "code",
   "execution_count": 24,
   "metadata": {},
   "outputs": [],
   "source": [
    "df['SHOP'] = df['INDEX'].astype('int').astype('str') + '-' + df['outlet10'].astype('str')"
   ]
  },
  {
   "cell_type": "code",
   "execution_count": 25,
   "metadata": {},
   "outputs": [],
   "source": [
    "df = df.rename(columns = {'INDEX': 'INDEX_ID', 'outlet10': 'SMS_ID', 'type': 'STORE_TYPE', 'mt': 'TRADE_TYPE', 'region2': 'PROVINCE',\n",
    "           'hl156': 'HL156', 'hl013': 'HL013', 'citycode': 'CITYCODE'})"
   ]
  },
  {
   "cell_type": "code",
   "execution_count": 26,
   "metadata": {},
   "outputs": [],
   "source": [
    "df = df[['INDEX_ID', 'Outlet', 'SMS_ID', 'SHOP', 'STORE_TYPE', 'TRADE_TYPE', 'PROVINCE', 'SALES_AREA', 'HL156', 'HL013',\n",
    "         'AUTORIZED', 'cha', 'SMS_SERVICE', 'CITYCODE', 'RU_REGION', 'RU_RGN', 'RU_CCN', 'NOT_NEED_CHA', 'NEED_CCODE',\n",
    "         'RU_PGR', 'RU_SUBJECT','RGN_BEER', 'CCN_BEER', 'REGION_CIG', 'RGN_CIG', 'CCN_CIG', 'DIST_STRATA', 'RU_CHA']]"
   ]
  },
  {
   "cell_type": "code",
   "execution_count": 27,
   "metadata": {},
   "outputs": [],
   "source": [
    "df.loc[df['TRADE_TYPE'] == True, 'TRADE_TYPE'] = 'MT'\n",
    "df.loc[df['TRADE_TYPE'] == False, 'TRADE_TYPE'] = 'TT'"
   ]
  },
  {
   "cell_type": "code",
   "execution_count": 28,
   "metadata": {
    "scrolled": true
   },
   "outputs": [],
   "source": [
    "df = df.astype('str')\n",
    "df['INDEX_ID'] = df['INDEX_ID'].astype('float').astype('int')\n",
    "df['HL156'] = df['HL156'].astype('int')\n",
    "df['HL013'] = df['HL013'].astype('int')\n",
    "df['SALES_AREA'] = df['SALES_AREA'].astype('float').astype('int')\n",
    "df['RU_SUBJECT'] = df['RU_SUBJECT'].astype('float').astype('int')"
   ]
  },
  {
   "cell_type": "code",
   "execution_count": 29,
   "metadata": {},
   "outputs": [],
   "source": [
    "df = df.reset_index(drop = True)"
   ]
  },
  {
   "cell_type": "code",
   "execution_count": 30,
   "metadata": {},
   "outputs": [],
   "source": [
    "for i in df.index:\n",
    "    if '.0' in df['RU_CCN'][i]:\n",
    "        df.loc[i, 'RU_CCN'] = df['RU_CCN'][i].replace('.0', '')\n",
    "    if '.0' in df['RU_PGR'][i]:\n",
    "        df.loc[i, 'RU_PGR'] = df['RU_PGR'][i].replace('.0', '')\n",
    "    if '.0' in df['RGN_BEER'][i]:\n",
    "        df.loc[i, 'RGN_BEER'] = df['RGN_BEER'][i].replace('.0', '')\n",
    "    if '.0' in df['CCN_CIG'][i]:\n",
    "        df.loc[i, 'CCN_CIG'] = df['CCN_CIG'][i].replace('.0', '')\n",
    "    if '.0' in df['DIST_STRATA'][i]:\n",
    "        df.loc[i, 'DIST_STRATA'] = df['DIST_STRATA'][i].replace('.0', '')\n",
    "    if '.0' in df['CCN_BEER'][i]:\n",
    "        df.loc[i, 'CCN_BEER'] = df['CCN_BEER'][i].replace('.0', '')"
   ]
  },
  {
   "cell_type": "code",
   "execution_count": 31,
   "metadata": {},
   "outputs": [
    {
     "name": "stderr",
     "output_type": "stream",
     "text": [
      "C:\\Users\\ScMa9004\\AppData\\Local\\Continuum\\anaconda3\\lib\\site-packages\\pandas\\core\\ops\\__init__.py:1115: FutureWarning: elementwise comparison failed; returning scalar instead, but in the future will perform elementwise comparison\n",
      "  result = method(y)\n"
     ]
    }
   ],
   "source": [
    "df[df == 'nan'] = np.nan"
   ]
  },
  {
   "cell_type": "code",
   "execution_count": 32,
   "metadata": {},
   "outputs": [],
   "source": [
    "conditions = pd.read_csv('C:/Users/ScMa9004/Documents/Итоги визита/MAS_CONDITION.csv', delimiter=\";\")\n",
    "msr = pd.DataFrame(columns = df.columns.tolist() + ['MAS'])\n",
    "\n",
    "#check shops duplicated\n",
    "if len(df.duplicated(subset = 'SHOP').drop_duplicates()) > 1:\n",
    "    sys.exit('ERROR!!! REMOVE SHOP DUPLICATES')    \n",
    "\n",
    "masGroups = conditions.groupby(['MAS_ID'], sort = False)\n",
    "\n",
    "for masName, grMas in masGroups:\n",
    "    #print(masName)\n",
    "    if len(grMas.index) != 1:\n",
    "        sys.exit('ERROR!!! REMOVE MAS DUPLICATES')\n",
    "    msrT = df.query(grMas.iloc[0]['CONDITION'], engine = 'python').copy()\n",
    "    msrT['MAS'] = grMas.iloc[0]['MAS_ID']\n",
    "    msr = msr.append(msrT, ignore_index = True)\n",
    "    msrT = msrT.iloc[0:0]\n",
    "    \n",
    "msr.to_csv('.\\\\MSR.csv', index = False, sep = ';')"
   ]
  },
  {
   "cell_type": "code",
   "execution_count": null,
   "metadata": {},
   "outputs": [],
   "source": []
  },
  {
   "cell_type": "code",
   "execution_count": null,
   "metadata": {},
   "outputs": [],
   "source": []
  }
 ],
 "metadata": {
  "kernelspec": {
   "display_name": "Python 3",
   "language": "python",
   "name": "python3"
  },
  "language_info": {
   "codemirror_mode": {
    "name": "ipython",
    "version": 3
   },
   "file_extension": ".py",
   "mimetype": "text/x-python",
   "name": "python",
   "nbconvert_exporter": "python",
   "pygments_lexer": "ipython3",
   "version": "3.7.4"
  }
 },
 "nbformat": 4,
 "nbformat_minor": 2
}
