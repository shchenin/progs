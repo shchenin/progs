{
 "cells": [
  {
   "cell_type": "code",
   "execution_count": 104,
   "metadata": {},
   "outputs": [],
   "source": [
    "import pandas as pd\n",
    "import numpy as np"
   ]
  },
  {
   "cell_type": "code",
   "execution_count": 105,
   "metadata": {},
   "outputs": [],
   "source": [
    "mapping = pd.read_csv('C:/Users/ScMa9004/Downloads/AREA_CELL_MAPPING_1579159674081.csv', sep = ',', low_memory=False)"
   ]
  },
  {
   "cell_type": "code",
   "execution_count": 106,
   "metadata": {},
   "outputs": [],
   "source": [
    "mapping = mapping[['INDEX_ID', 'MICRO_CELL_RULE_NAME', 'MICRO_CELL_RULE_ID', 'CELL_AREA_RULE_ID']].drop_duplicates()"
   ]
  },
  {
   "cell_type": "code",
   "execution_count": 107,
   "metadata": {},
   "outputs": [],
   "source": [
    "df = pd.read_csv('C:/Users/ScMa9004/Downloads/RULES_1579101873184.csv', sep = ',', low_memory = False)"
   ]
  },
  {
   "cell_type": "code",
   "execution_count": 108,
   "metadata": {},
   "outputs": [],
   "source": [
    "# из выгрузки правил вырезать нужные\n",
    "df = df[df['CREATED_BY'] == 'maxim.schenin@nielsen.com']"
   ]
  },
  {
   "cell_type": "code",
   "execution_count": 110,
   "metadata": {},
   "outputs": [],
   "source": [
    "cells = pd.read_excel('C:/Users/ScMa9004/Scripts/new_panel_op_ap_314.xlsx')"
   ]
  },
  {
   "cell_type": "code",
   "execution_count": 111,
   "metadata": {},
   "outputs": [],
   "source": [
    "cells = cells[['CELL_ID', 'new_mcell_name', 'AP', 'OP']]"
   ]
  },
  {
   "cell_type": "code",
   "execution_count": 112,
   "metadata": {},
   "outputs": [],
   "source": [
    "cells = cells.rename(columns = {'new_mcell_name': 'MICRO_CELL_RULE_NAME'})"
   ]
  },
  {
   "cell_type": "code",
   "execution_count": 113,
   "metadata": {},
   "outputs": [],
   "source": [
    "res = pd.DataFrame(columns = {'CELL_STORE'})"
   ]
  },
  {
   "cell_type": "markdown",
   "metadata": {},
   "source": [
    "# CELL_STORE MAPPING"
   ]
  },
  {
   "cell_type": "code",
   "execution_count": 114,
   "metadata": {
    "scrolled": false
   },
   "outputs": [],
   "source": [
    "for i in df['RULE_ID'][df['RULE_TYPE'] == 'MICRO_CELL'].unique():\n",
    "    try:\n",
    "        a = df['RULE_ID'][(df['RULE_TYPE'] == 'CELL_STORE') &\n",
    "            (df['ATTRIBUTE_ID'] == 6) &\n",
    "              (df['VALUE'] == df['VALUE'][(df['RULE_ID'] == i) & (df['ATTRIBUTE_ID'] == 6)].iloc[0]) &\n",
    "              (df['OPERATOR'] == df['OPERATOR'][(df['RULE_ID'] == i) & (df['ATTRIBUTE_ID'] == 6)].iloc[0])]\n",
    "    except:\n",
    "        a = df['RULE_ID'][df['RULE_TYPE'] == 'CELL_STORE'].unique()\n",
    "    try:\n",
    "        b = df['RULE_ID'][(df['RULE_TYPE'] == 'CELL_STORE') &\n",
    "                    (df['ATTRIBUTE_ID'] == 24) &      \n",
    "              (df['VALUE'] == df['VALUE'][(df['RULE_ID'] == i) & (df['ATTRIBUTE_ID'] == 24)].iloc[0]) &\n",
    "              (df['OPERATOR'] == df['OPERATOR'][(df['RULE_ID'] == i) & (df['ATTRIBUTE_ID'] == 24)].iloc[0])]\n",
    "    except:\n",
    "        b = df['RULE_ID'][df['RULE_TYPE'] == 'CELL_STORE'].unique()\n",
    "    try:\n",
    "        c = df['RULE_ID'][(df['RULE_TYPE'] == 'CELL_STORE') &\n",
    "                        (df['ATTRIBUTE_ID'] == 15) &  \n",
    "              (df['VALUE'] == df['VALUE'][(df['RULE_ID'] == i) & (df['ATTRIBUTE_ID'] == 15)].iloc[0]) &\n",
    "              (df['OPERATOR'] == df['OPERATOR'][(df['RULE_ID'] == i) & (df['ATTRIBUTE_ID'] == 15)].iloc[0])]\n",
    "    except:\n",
    "        c = df['RULE_ID'][df['RULE_TYPE'] == 'CELL_STORE'].unique()\n",
    "    try:\n",
    "        d = df['RULE_ID'][(df['RULE_TYPE'] == 'CELL_STORE') &\n",
    "                          (df['ATTRIBUTE_ID'] == 9227) &\n",
    "              (df['VALUE'] == df['VALUE'][(df['RULE_ID'] == i) & (df['ATTRIBUTE_ID'] == 9227)].iloc[0]) &\n",
    "              (df['OPERATOR'] == df['OPERATOR'][(df['RULE_ID'] == i) & (df['ATTRIBUTE_ID'] == 9227)].iloc[0])]\n",
    "    except:\n",
    "        d = df['RULE_ID'][df['RULE_TYPE'] == 'CELL_STORE'].unique()\n",
    "        \n",
    "    e = set(a) & set(b) & set(c) & set(d)\n",
    "    \n",
    "    res.loc[i, 'CELL_STORE'] = e\n",
    "    \n",
    "res = res.reset_index(drop = False)\n",
    "    \n",
    "res['CELL_STORE'] = res['CELL_STORE'].astype('str')\n",
    "    \n",
    "res['CELL_STORE'] = res['CELL_STORE'].str.replace('{', '')\n",
    "res['CELL_STORE'] = res['CELL_STORE'].str.replace('}', '')\n",
    "\n",
    "for i, j in res.iterrows():\n",
    "    if len(j['CELL_STORE'].split(',')) > 1:\n",
    "        if len(df[df['RULE_ID'] == int(j['CELL_STORE'].split(',')[0])]) ==\\\n",
    "        len(df[(df['RULE_ID'] == j['index']) &\\\n",
    "                (df['ATTRIBUTE_NAME'].isin(df['ATTRIBUTE_NAME'][df['RULE_ID'] == int(j['CELL_STORE'].split(',')[0])]))]):\n",
    "            res.loc[i, 'CELL_STORE'] = int(j['CELL_STORE'].split(',')[0])\n",
    "        else:\n",
    "            res.loc[i, 'CELL_STORE'] = int(j['CELL_STORE'].split(',')[1])\n",
    "            \n",
    "res = res.astype('int')"
   ]
  },
  {
   "cell_type": "code",
   "execution_count": 115,
   "metadata": {
    "scrolled": false
   },
   "outputs": [],
   "source": [
    "res = res.rename(columns = {'index': 'MICRO_CELL_RULE_ID'})"
   ]
  },
  {
   "cell_type": "code",
   "execution_count": 116,
   "metadata": {},
   "outputs": [],
   "source": [
    "res = pd.merge(res, mapping, on = 'MICRO_CELL_RULE_ID', how = 'inner')"
   ]
  },
  {
   "cell_type": "code",
   "execution_count": 117,
   "metadata": {},
   "outputs": [],
   "source": [
    "res = pd.merge(res, cells, on = 'MICRO_CELL_RULE_NAME', how = 'inner')"
   ]
  },
  {
   "cell_type": "code",
   "execution_count": 118,
   "metadata": {},
   "outputs": [],
   "source": [
    "res = res.rename(columns = {'INDEX_ID': 'INDEX',\n",
    "                            'CELL_ID': 'CELL',\n",
    "                            'MICRO_CELL_RULE_ID': 'MICRO_CELL_ID', \n",
    "                            'OP': 'TARGET_SAMPLE_SIZE', \n",
    "                            'AP': 'MAX_SAMPLE_SIZE', \n",
    "                            'CELL_STORE': 'CELL_STORE_RULE_ID', \n",
    "                            })"
   ]
  },
  {
   "cell_type": "code",
   "execution_count": 119,
   "metadata": {},
   "outputs": [],
   "source": [
    "res.loc[res['INDEX'] != 1001395, 'PERIOD'] = 'MONT_1101'\n",
    "res.loc[res['INDEX'] == 1001395, 'PERIOD'] = 'RMEX_1101'\n",
    "res['IDEAL_SAMPLE_SIZE'] = 0\n",
    "res['OWNERSHIP'] = 'IO'\n",
    "res['CENSUS'] = 'N'\n",
    "res['IS_ACTIVE'] = 'Y'"
   ]
  },
  {
   "cell_type": "code",
   "execution_count": 120,
   "metadata": {},
   "outputs": [],
   "source": [
    "res = res[['PERIOD', 'INDEX', 'CELL', 'MICRO_CELL_ID', 'IDEAL_SAMPLE_SIZE', 'TARGET_SAMPLE_SIZE', \n",
    "           'MAX_SAMPLE_SIZE', 'CELL_STORE_RULE_ID', 'CELL_AREA_RULE_ID', 'OWNERSHIP', 'CENSUS', 'IS_ACTIVE']]"
   ]
  },
  {
   "cell_type": "code",
   "execution_count": 121,
   "metadata": {},
   "outputs": [],
   "source": [
    "res_fmcg = res[res['INDEX'] == 1000296]\n",
    "res_cig = res[res['INDEX'] == 1000334]\n",
    "res_beer = res[res['INDEX'] == 1000328]\n",
    "res_exxon = res[res['INDEX'] == 1001395]"
   ]
  },
  {
   "cell_type": "code",
   "execution_count": 122,
   "metadata": {},
   "outputs": [],
   "source": [
    "res_fmcg.to_csv('Pandel_design_fmcg.csv', index = False, sep = ',', encoding = 'utf8')\n",
    "res_cig.to_csv('Pandel_design_cig.csv', index = False, sep = ',', encoding = 'utf8')\n",
    "res_beer.to_csv('Pandel_design_beer.csv', index = False, sep = ',', encoding = 'utf8')\n",
    "res_exxon.to_csv('Pandel_design_exxon.csv', index = False, sep = ',', encoding = 'utf8')"
   ]
  },
  {
   "cell_type": "code",
   "execution_count": null,
   "metadata": {},
   "outputs": [],
   "source": []
  },
  {
   "cell_type": "code",
   "execution_count": null,
   "metadata": {},
   "outputs": [],
   "source": []
  }
 ],
 "metadata": {
  "kernelspec": {
   "display_name": "Python 3",
   "language": "python",
   "name": "python3"
  },
  "language_info": {
   "codemirror_mode": {
    "name": "ipython",
    "version": 3
   },
   "file_extension": ".py",
   "mimetype": "text/x-python",
   "name": "python",
   "nbconvert_exporter": "python",
   "pygments_lexer": "ipython3",
   "version": "3.7.4"
  }
 },
 "nbformat": 4,
 "nbformat_minor": 2
}
