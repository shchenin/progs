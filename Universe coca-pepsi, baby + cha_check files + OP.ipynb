{
 "cells": [
  {
   "cell_type": "code",
   "execution_count": 4,
   "metadata": {},
   "outputs": [],
   "source": [
    "import pandas as pd\n",
    "import numpy as np"
   ]
  },
  {
   "cell_type": "code",
   "execution_count": 2,
   "metadata": {},
   "outputs": [],
   "source": [
    "#Artur\n",
    "df = pd.read_excel('C:/Users/ScMa9004/Downloads/final DB final Factor_W2.xlsx', sheet_name = 'non LSC', low_mempry = False)"
   ]
  },
  {
   "cell_type": "code",
   "execution_count": 3,
   "metadata": {},
   "outputs": [],
   "source": [
    "#df.loc[df['type_pnl'].isna(), 'type_pnl'] = df['Otype Code']"
   ]
  },
  {
   "cell_type": "code",
   "execution_count": 4,
   "metadata": {},
   "outputs": [],
   "source": [
    "arc = pd.read_excel('C:/Users/ScMa9004/Documents/All Russia cities 01.01.2018.xlsx', sheet_name = 'All_Russia_cities', skiprows = 1)"
   ]
  },
  {
   "cell_type": "code",
   "execution_count": 5,
   "metadata": {},
   "outputs": [],
   "source": [
    "arc = arc[['City Code', 'region', 'pgr']]"
   ]
  },
  {
   "cell_type": "code",
   "execution_count": 6,
   "metadata": {},
   "outputs": [],
   "source": [
    "arc = arc.rename(columns = {'City Code': 'ccode_'})"
   ]
  },
  {
   "cell_type": "markdown",
   "metadata": {},
   "source": [
    "# UNIVERSE COCA PEPSI"
   ]
  },
  {
   "cell_type": "code",
   "execution_count": 7,
   "metadata": {},
   "outputs": [],
   "source": [
    "wrk = df[(df['type_pnl'].isin(['OKS','OLA','OME','OMM', 'OMS', 'OPV', 'OSM', 'OSU', 'OWS'])) &\n",
    "         (df['coop'].isin([0]))]"
   ]
  },
  {
   "cell_type": "code",
   "execution_count": 136,
   "metadata": {},
   "outputs": [],
   "source": [
    "wrk = pd.merge(wrk, arc, how = 'left')"
   ]
  },
  {
   "cell_type": "code",
   "execution_count": 137,
   "metadata": {},
   "outputs": [],
   "source": [
    "wrk.loc[(wrk['ccode_'].isin([1, 2])) &\n",
    "        (wrk['type_pnl'].isin(['OKS', 'OPV'])), 'm1'] = wrk['ccode_'].astype('str') + '-Impulse stores'\n",
    "wrk.loc[(wrk['ccode_'].isin([1, 2])) &\n",
    "        (wrk['type_pnl'].isin(['OSU'])), 'm1'] = wrk['ccode_'].astype('str') + '-Supermarkets'\n",
    "wrk.loc[(wrk['ccode_'].isin([1, 2])) &\n",
    "        (wrk['type_pnl'].isin(['OLA', 'OME', 'OMM', 'OMS'])) &\n",
    "        (wrk['TTR'] == 'MT'), 'm1'] = wrk['ccode_'].astype('str') + '-Supperettes'\n",
    "wrk.loc[(wrk['ccode_'].isin([1, 2])) &\n",
    "        (wrk['type_pnl'].isin(['OLA', 'OME', 'OMM', 'OMS', 'OSM', 'OWS'])) &\n",
    "        (wrk['TTR'] == 'TT'), 'm1'] = wrk['ccode_'].astype('str') + '-Traditional Food'"
   ]
  },
  {
   "cell_type": "code",
   "execution_count": 138,
   "metadata": {},
   "outputs": [],
   "source": [
    "wrk.loc[(wrk['ccode_'] > 2) &\n",
    "        (wrk['ccode_'] < 25), 'm1'] = wrk['ccode_'].astype('str') + '-' + wrk['TTR'].astype('str')"
   ]
  },
  {
   "cell_type": "code",
   "execution_count": 139,
   "metadata": {},
   "outputs": [],
   "source": [
    "wrk.loc[wrk['m1'].isna(), 'm1'] = wrk['region'] + '-' + wrk['pgr'].astype('int').astype('str') + '-' + wrk['TTR']"
   ]
  },
  {
   "cell_type": "code",
   "execution_count": 140,
   "metadata": {},
   "outputs": [],
   "source": [
    "wrk.loc[(((wrk['coca'] == 0) & (wrk['pepsi'] == 0)) | ((wrk['coca'] == 1) & (wrk['pepsi'] == 1))), 'shmoka'] = 'blank'\n",
    "wrk.loc[(wrk['coca'] == 1) & (wrk['pepsi'] == 0), 'shmoka'] = 'coca'\n",
    "wrk.loc[(wrk['coca'] == 0) & (wrk['pepsi'] == 1), 'shmoka'] = 'pepsi'"
   ]
  },
  {
   "cell_type": "code",
   "execution_count": 141,
   "metadata": {},
   "outputs": [],
   "source": [
    "wrk['coca'] = np.nan\n",
    "wrk['pepsi'] = np.nan\n",
    "wrk['blank'] = np.nan"
   ]
  },
  {
   "cell_type": "code",
   "execution_count": 142,
   "metadata": {},
   "outputs": [],
   "source": [
    "wrk.loc[wrk['shmoka'] == 'coca', 'coca'] = wrk['NUHTRP Final']\n",
    "wrk.loc[wrk['shmoka'] == 'pepsi', 'pepsi'] = wrk['NUHTRP Final']\n",
    "wrk.loc[wrk['shmoka'] == 'blank', 'blank'] = wrk['NUHTRP Final']"
   ]
  },
  {
   "cell_type": "code",
   "execution_count": 143,
   "metadata": {},
   "outputs": [],
   "source": [
    "universe = pd.pivot_table(wrk, index = 'm1', values = ['coca', 'pepsi', 'blank', 'NUHTRP Final'], aggfunc = np.sum)"
   ]
  },
  {
   "cell_type": "code",
   "execution_count": 144,
   "metadata": {},
   "outputs": [],
   "source": [
    "universe['coca_universe'] = universe['coca'] / universe['NUHTRP Final']\n",
    "universe['pepsi_universe'] = universe['pepsi'] / universe['NUHTRP Final']\n",
    "universe['blank_universe'] = universe['blank'] / universe['NUHTRP Final']"
   ]
  },
  {
   "cell_type": "code",
   "execution_count": 145,
   "metadata": {},
   "outputs": [],
   "source": [
    "universe = universe.reset_index(drop = False)\n",
    "universe = universe[['m1', 'coca_universe', 'pepsi_universe', 'blank_universe']]"
   ]
  },
  {
   "cell_type": "code",
   "execution_count": 146,
   "metadata": {},
   "outputs": [],
   "source": [
    "universe.to_excel('universe_coca_pepsi.xlsx', index = False)"
   ]
  },
  {
   "cell_type": "markdown",
   "metadata": {},
   "source": [
    "# UNIVERSE BABY"
   ]
  },
  {
   "cell_type": "code",
   "execution_count": 147,
   "metadata": {},
   "outputs": [],
   "source": [
    "wrk = df[(df['type_pnl'].isin(['OBS'])) & (df['coop'].isin([0]))]"
   ]
  },
  {
   "cell_type": "code",
   "execution_count": 148,
   "metadata": {},
   "outputs": [],
   "source": [
    "wrk = pd.merge(wrk, arc, how = 'left')"
   ]
  },
  {
   "cell_type": "code",
   "execution_count": 149,
   "metadata": {},
   "outputs": [],
   "source": [
    "wrk.loc[wrk['ccode_'] < 25, 'merge'] = wrk['ccode_'].astype('str')"
   ]
  },
  {
   "cell_type": "code",
   "execution_count": 150,
   "metadata": {},
   "outputs": [],
   "source": [
    "wrk.loc[wrk['ccode_'] > 24, 'merge'] = wrk['region'] + '-' + wrk['pgr'].astype('int').astype('str')"
   ]
  },
  {
   "cell_type": "code",
   "execution_count": 151,
   "metadata": {},
   "outputs": [],
   "source": [
    "wrk.loc[wrk['hl141'] == 1, 'hl141'] = wrk['NUHTRP Final']\n",
    "wrk.loc[wrk['hl088'] == 1, 'hl088'] = wrk['NUHTRP Final']"
   ]
  },
  {
   "cell_type": "code",
   "execution_count": 154,
   "metadata": {},
   "outputs": [],
   "source": [
    "universe = pd.pivot_table(wrk, index = 'merge', values = ['hl141', 'hl088', 'NUHTRP Final'], aggfunc = np.sum).reset_index()"
   ]
  },
  {
   "cell_type": "code",
   "execution_count": 155,
   "metadata": {},
   "outputs": [],
   "source": [
    "universe['universe_baby_f'] = universe['hl141'] / universe['NUHTRP Final']\n",
    "universe['universe_baby_d'] = universe['hl088'] / universe['NUHTRP Final']"
   ]
  },
  {
   "cell_type": "code",
   "execution_count": 156,
   "metadata": {},
   "outputs": [],
   "source": [
    "universe = universe[['merge', 'universe_baby_f', 'universe_baby_d']]"
   ]
  },
  {
   "cell_type": "code",
   "execution_count": 274,
   "metadata": {},
   "outputs": [],
   "source": [
    "universe.to_excel('universe_baby.xlsx', index = False)"
   ]
  },
  {
   "cell_type": "markdown",
   "metadata": {},
   "source": [
    "# CHA CHECK"
   ]
  },
  {
   "cell_type": "code",
   "execution_count": 32,
   "metadata": {
    "scrolled": true
   },
   "outputs": [],
   "source": [
    "df['key'] = df['ccode_'].astype('str') + '-' + df['type_pnl'].astype('str') + '-' + df['TTR'].astype('str')"
   ]
  },
  {
   "cell_type": "code",
   "execution_count": 33,
   "metadata": {},
   "outputs": [],
   "source": [
    "wrk = df[['key', 'cha', 'NUHTRP Final']][df['coop'].isin([0])]"
   ]
  },
  {
   "cell_type": "code",
   "execution_count": 34,
   "metadata": {},
   "outputs": [],
   "source": [
    "fmcg = pd.read_excel('C:/Users/ScMa9004/Documents/RRES/FMCG_Urban_RES_db_Community_File_cut.xlsx')\n",
    "cig = pd.read_excel('C:/Users/ScMa9004/Documents/RRES/CIG_Zuniverse allocation_Community_File.xlsx', sheet_name = 'CIG_Urban_RES_db')\n",
    "beer = pd.read_excel('C:/Users/ScMa9004/Documents/RRES/BEER_Urban_RES_db_Community_File.xlsx', sheet_name = 'BEER_Urban_RES_db')"
   ]
  },
  {
   "cell_type": "code",
   "execution_count": 35,
   "metadata": {},
   "outputs": [],
   "source": [
    "fmcg['key'] = fmcg['CCODE'].astype('str') + '-' + fmcg['RMS_TYPE'].astype('str') + '-' + fmcg['TTR'].astype('str')\n",
    "cha_check_fmcg = fmcg[['key', 'Final Cell ID', 'CELL_NAME']]\n",
    "cha_check_fmcg = cha_check_fmcg[cha_check_fmcg['Final Cell ID'] != 0]\n",
    "cha_check_fmcg = cha_check_fmcg.drop_duplicates()\n",
    "cha_check_fmcg = pd.merge(cha_check_fmcg, wrk, how = 'right', on = 'key')\n",
    "cha_check_fmcg.loc[cha_check_fmcg['cha'].isna(), 'cha'] = 'Standalone'\n",
    "cha_check_fmcg = pd.pivot_table(cha_check_fmcg, index = ['Final Cell ID', 'key', 'cha', 'CELL_NAME'],\n",
    "                                values = 'NUHTRP Final',\n",
    "                                aggfunc = np.sum).reset_index(drop = False)"
   ]
  },
  {
   "cell_type": "code",
   "execution_count": 36,
   "metadata": {
    "scrolled": true
   },
   "outputs": [],
   "source": [
    "cig['key'] = cig['CCODE'].astype('str') + '-' + cig['RMS_TYPE'].astype('str') + '-' + cig['TTR'].astype('str')\n",
    "cha_check_cig = cig[['key', 'Final cell id', 'CELL_NAME']]\n",
    "cha_check_cig = cha_check_cig.rename(columns = {'Final cell id': 'Final Cell ID'})\n",
    "cha_check_cig = cha_check_cig[cha_check_cig['Final Cell ID'] != 0]\n",
    "cha_check_cig = cha_check_cig.drop_duplicates()\n",
    "cha_check_cig = pd.merge(cha_check_cig, wrk, how = 'right', on = 'key')\n",
    "cha_check_cig.loc[cha_check_cig['cha'].isna(), 'cha'] = 'Standalone'\n",
    "cha_check_cig = pd.pivot_table(cha_check_cig, index = ['Final Cell ID', 'key', 'cha', 'CELL_NAME'],\n",
    "                                values = 'NUHTRP Final',\n",
    "                                aggfunc = np.sum).reset_index(drop = False)"
   ]
  },
  {
   "cell_type": "code",
   "execution_count": 37,
   "metadata": {},
   "outputs": [],
   "source": [
    "beer['key'] = beer['CCODE'].astype('str') + '-' + beer['RMS_TYPE'].astype('str') + '-' + beer['TTR'].astype('str')\n",
    "cha_check_beer = beer[['key', 'CELLID', 'CELL_NAME']]\n",
    "cha_check_beer = cha_check_beer.rename(columns = {'CELLID': 'Final Cell ID'})\n",
    "cha_check_beer = cha_check_beer[cha_check_beer['Final Cell ID'] != 0]\n",
    "cha_check_beer = cha_check_beer.drop_duplicates()\n",
    "cha_check_beer = pd.merge(cha_check_beer, wrk, how = 'right', on = 'key')\n",
    "cha_check_beer.loc[cha_check_beer['cha'].isna(), 'cha'] = 'Standalone'\n",
    "cha_check_beer = pd.pivot_table(cha_check_beer, index = ['Final Cell ID', 'key', 'cha', 'CELL_NAME'],\n",
    "                                values = 'NUHTRP Final',\n",
    "                                aggfunc = np.sum).reset_index(drop = False)"
   ]
  },
  {
   "cell_type": "code",
   "execution_count": 38,
   "metadata": {},
   "outputs": [],
   "source": [
    "with pd.ExcelWriter('cha_check_universe.xlsx') as writer:\n",
    "    cha_check_fmcg.to_excel(writer, sheet_name = 'fmcg')\n",
    "    cha_check_cig.to_excel(writer, sheet_name = 'cig')\n",
    "    cha_check_beer.to_excel(writer, sheet_name = 'beer')"
   ]
  },
  {
   "cell_type": "markdown",
   "metadata": {},
   "source": [
    "# AP_OP"
   ]
  },
  {
   "cell_type": "code",
   "execution_count": 2,
   "metadata": {},
   "outputs": [],
   "source": [
    "path = 'C:/Users/ScMa9004/Documents/Итоги визита/313/'"
   ]
  },
  {
   "cell_type": "code",
   "execution_count": 5,
   "metadata": {},
   "outputs": [],
   "source": [
    "pr = pd.read_excel(path + 'Panel Russia_for 313.xlsx', sheet_name = 'Panel', skiprows = 2)"
   ]
  },
  {
   "cell_type": "code",
   "execution_count": 6,
   "metadata": {},
   "outputs": [],
   "source": [
    "AP_OP_fmcg = pd.pivot_table(pr, index = 'MAS', values = ['stand', 'act stand'], aggfunc = np.sum).reset_index()\n",
    "AP_OP_fmcg = AP_OP_fmcg.rename(columns = {'MAS': 'cell', 'stand': 'OP_fmcg', 'act stand': 'AP_fmcg'})"
   ]
  },
  {
   "cell_type": "code",
   "execution_count": 7,
   "metadata": {},
   "outputs": [],
   "source": [
    "AP_OP_cig = pd.pivot_table(pr, index = 'MAS.1', values = ['cig', 'act cig '], aggfunc = np.sum).reset_index()\n",
    "AP_OP_cig = AP_OP_cig.rename(columns = {'MAS.1': 'cell', 'cig': 'OP_cig', 'act cig ': 'AP_cig'})"
   ]
  },
  {
   "cell_type": "code",
   "execution_count": 8,
   "metadata": {},
   "outputs": [],
   "source": [
    "AP_OP_beer = pd.pivot_table(pr, index = 'MAS.2', values = ['beer ', 'act beer '], aggfunc = np.sum).reset_index()\n",
    "AP_OP_beer = AP_OP_beer.rename(columns = {'MAS.2': 'cell', 'beer ': 'OP_beer', 'act beer ': 'AP_beer'})"
   ]
  },
  {
   "cell_type": "code",
   "execution_count": 9,
   "metadata": {},
   "outputs": [],
   "source": [
    "AP_OP = AP_OP_fmcg.append(AP_OP_cig, sort = False).append(AP_OP_beer, sort = False)"
   ]
  },
  {
   "cell_type": "code",
   "execution_count": 10,
   "metadata": {},
   "outputs": [],
   "source": [
    "AP_OP = AP_OP.reset_index(drop = True)"
   ]
  },
  {
   "cell_type": "code",
   "execution_count": 11,
   "metadata": {},
   "outputs": [],
   "source": [
    "AP_OP.to_excel('OP.xlsx')"
   ]
  },
  {
   "cell_type": "code",
   "execution_count": null,
   "metadata": {},
   "outputs": [],
   "source": []
  }
 ],
 "metadata": {
  "kernelspec": {
   "display_name": "Python 3",
   "language": "python",
   "name": "python3"
  },
  "language_info": {
   "codemirror_mode": {
    "name": "ipython",
    "version": 3
   },
   "file_extension": ".py",
   "mimetype": "text/x-python",
   "name": "python",
   "nbconvert_exporter": "python",
   "pygments_lexer": "ipython3",
   "version": "3.7.4"
  }
 },
 "nbformat": 4,
 "nbformat_minor": 2
}
