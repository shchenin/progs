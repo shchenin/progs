{
 "cells": [
  {
   "cell_type": "markdown",
   "metadata": {},
   "source": [
    "файлы с осадками для каждой станции из списка k_v2prcp + список"
   ]
  },
  {
   "cell_type": "code",
   "execution_count": 1,
   "metadata": {},
   "outputs": [],
   "source": [
    "import shutil, os"
   ]
  },
  {
   "cell_type": "code",
   "execution_count": 2,
   "metadata": {},
   "outputs": [],
   "source": [
    "cat1 = open('C:/Maxim/!Precipitation/source/k_v2prcp.txt', 'r')\n",
    "c1 = cat1.readlines()\n",
    "cat1.close()"
   ]
  },
  {
   "cell_type": "code",
   "execution_count": 4,
   "metadata": {},
   "outputs": [],
   "source": [
    "cat2 = open('E:/Maxim/Осадки/ghcnd/ghcnd-stations.txt', 'r')\n",
    "c2 = cat2.readlines()\n",
    "cat2.close()"
   ]
  },
  {
   "cell_type": "code",
   "execution_count": 13,
   "metadata": {},
   "outputs": [],
   "source": [
    "lst = open('catalog_dd', 'w')"
   ]
  },
  {
   "cell_type": "code",
   "execution_count": 14,
   "metadata": {},
   "outputs": [],
   "source": [
    "for i in range(len(c1)):\n",
    "    k = c1[i].split()[0]\n",
    "    n = k\n",
    "    if len(n) < 5:\n",
    "        n = '0' + n\n",
    "    for j in range(len(c2)):\n",
    "        if n == c2[j].split()[-1]:\n",
    "            res = open(k, 'w')\n",
    "            a = open('E:/ghcnd_all/' + c2[j].split()[0] + '.dly', 'r')\n",
    "            aa = a.readlines()\n",
    "            a.close()\n",
    "            for h in range(len(aa)):\n",
    "                if aa[h][17:21] == 'PRCP' or aa[h][17:21] == 'SNOW':\n",
    "                    res.write(aa[h])          \n",
    "            res.close()\n",
    "            flag = True\n",
    "            z = 0\n",
    "            if os.path.isfile('C:/Maxim/!Precipitation/1709prcp_dd/' + k) == False:\n",
    "                shutil.move('C:/Users/igce/progs/' + k, 'C:/Maxim/!Precipitation/1709prcp_dd')\n",
    "                lst.write(k + '\\n')\n",
    "            else:\n",
    "                z += 1\n",
    "                r = k + '_' + str(z)\n",
    "                os.rename(k, r)\n",
    "                if os.path.isfile('C:/Maxim/!Precipitation/1709prcp_dd/' + r) == False:\n",
    "                    shutil.move('C:/Users/igce/progs/' + r, 'C:/Maxim/!Precipitation/1709prcp_dd')\n",
    "                    lst.write(r + '\\n')\n",
    "                else:\n",
    "                    while flag:\n",
    "                        z += 1\n",
    "                        r = k + '_' + str(z)\n",
    "                        os.rename(k + '_' + str(z - 1), r)\n",
    "                        if os.path.isfile('C:/Maxim/!Precipitation/1709prcp_dd/' + r) == False:\n",
    "                            shutil.move('C:/Users/igce/progs/' + r, 'C:/Maxim/!Precipitation/1709prcp_dd')\n",
    "                            lst.write(r + '\\n')\n",
    "                            flag = False\n",
    "lst.close()"
   ]
  },
  {
   "cell_type": "markdown",
   "metadata": {},
   "source": [
    "файл для всех станций из архива 1709prcp_dd с месячными суммами"
   ]
  },
  {
   "cell_type": "code",
   "execution_count": 51,
   "metadata": {},
   "outputs": [],
   "source": [
    "catalog = open('C:/Maxim/!Precipitation/1709prcp_dd/catalog_dd', 'r')\n",
    "cc = catalog.readlines()\n",
    "catalog.close()"
   ]
  },
  {
   "cell_type": "code",
   "execution_count": 25,
   "metadata": {},
   "outputs": [],
   "source": [
    "def N_day(x, y):\n",
    "    if x == '01' or x == '03' or x == '05' or x == '07' or x == '08' or x == '10' or x == '12':\n",
    "        dm = 31\n",
    "    elif x == '04' or x == '06' or x == '09' or x == '11':\n",
    "        dm = 30\n",
    "    else:\n",
    "        if y % 4 != 0 or (y % 100 == 0 and y % 400 != 0):\n",
    "            dm = 28\n",
    "        else:\n",
    "            dm = 29\n",
    "    return dm   "
   ]
  },
  {
   "cell_type": "code",
   "execution_count": 48,
   "metadata": {},
   "outputs": [],
   "source": [
    "def space(x):\n",
    "    space = ' '\n",
    "    if len(str(x)) == 5:\n",
    "        space *= 2\n",
    "    elif len(str(x)) == 4:\n",
    "        space *= 3\n",
    "    elif len(str(x)) == 3:\n",
    "        space *= 4\n",
    "    elif len(str(x)) == 2:\n",
    "        space *= 5\n",
    "    elif len(str(x)) == 1:\n",
    "        space *= 6\n",
    "    return space"
   ]
  },
  {
   "cell_type": "code",
   "execution_count": 50,
   "metadata": {},
   "outputs": [],
   "source": [
    "for i in range(len(cc)):\n",
    "    file = open('C:/Maxim/!Precipitation/1709prcp_dd/' + cc[i][:-1], 'r')\n",
    "    f = file.readlines()\n",
    "    file.close()\n",
    "    res = open('C:/Maxim/!Precipitation/df/' + 'df_' + cc[i][:-1], 'w')\n",
    "    res.write('YYYY  MM  PRCP   ND     PAZ' + '\\n')\n",
    "    for j in range(len(f)):\n",
    "        if f[j][17:21] == 'PRCP':\n",
    "            dm = N_day(f[j][15:17], int(f[j][15:17]))\n",
    "            c1 = 21\n",
    "            c2 = 26\n",
    "            c3 = 27\n",
    "            c4 = 28\n",
    "            g = 0\n",
    "            s = 0\n",
    "            t = 0\n",
    "            zero = 0\n",
    "            while g != 31:\n",
    "                mm = c1 + g * 8\n",
    "                mf = c2 + g * 8\n",
    "                qf = c3 + g * 8\n",
    "                sf = c4 + g * 8\n",
    "                summ = int(f[j][mm:mf])\n",
    "                if summ == -9999:\n",
    "                    t += 1\n",
    "                    summ = 0\n",
    "                if summ > 0:\n",
    "                    zero += 1\n",
    "                g += 1\n",
    "                s += summ\n",
    "                qflag = f[j][qf:qf + 1]\n",
    "                if qflag != ' ':\n",
    "                    t += 1\n",
    "                sflag = f[j][sf:sf + 1]\n",
    "                if sflag == 'Q' or sflag == 'S':\n",
    "                    t += 1\n",
    "            if t - (31 - dm) > 3:\n",
    "                s = -9999\n",
    "            ND = dm - (t - (31 - dm))\n",
    "            res.write(f[j][11:15] + '  ' + f[j][15:17] + '  ' + str(s) + space(s) + str(ND) + space(ND) + str(zero) + '\\n')\n",
    "    res.close()    "
   ]
  }
 ],
 "metadata": {
  "kernelspec": {
   "display_name": "Python 3",
   "language": "python",
   "name": "python3"
  },
  "language_info": {
   "codemirror_mode": {
    "name": "ipython",
    "version": 3
   },
   "file_extension": ".py",
   "mimetype": "text/x-python",
   "name": "python",
   "nbconvert_exporter": "python",
   "pygments_lexer": "ipython3",
   "version": "3.7.1"
  }
 },
 "nbformat": 4,
 "nbformat_minor": 2
}
