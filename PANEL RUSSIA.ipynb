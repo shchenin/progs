{
 "cells": [
  {
   "cell_type": "code",
   "execution_count": 46,
   "metadata": {},
   "outputs": [],
   "source": [
    "import pandas as pd\n",
    "import numpy as np"
   ]
  },
  {
   "cell_type": "code",
   "execution_count": 47,
   "metadata": {},
   "outputs": [],
   "source": [
    "df = pd.read_excel('C:/Users/ScMa9004/Documents/Panel/NEW PANEL/NEW_PANEL_RUSSIA_314.xlsx')"
   ]
  },
  {
   "cell_type": "code",
   "execution_count": 48,
   "metadata": {},
   "outputs": [],
   "source": [
    "arc = pd.read_excel('C:/Users/ScMa9004/Documents/All Russia cities 01.01.2019_ for_2020.xlsx',\n",
    "                    sheet_name = 'All_Russia_cities', \n",
    "                    skiprows = 1)"
   ]
  },
  {
   "cell_type": "code",
   "execution_count": 49,
   "metadata": {},
   "outputs": [],
   "source": [
    "panrep = pd.read_excel('C:/Users/ScMa9004/Documents/Итоги визита/315/panel_report_00001_30.01.2020.xlsx', \n",
    "                       sheet_name = 'panel_report_00001_30.01.2020')"
   ]
  },
  {
   "cell_type": "code",
   "execution_count": 50,
   "metadata": {},
   "outputs": [],
   "source": [
    "uo200 = pd.read_excel('C:/Users/ScMa9004/Documents/Universe Over 200.xls', sheet_name = 'Towns&Villages', skiprows = 1)"
   ]
  },
  {
   "cell_type": "code",
   "execution_count": 51,
   "metadata": {},
   "outputs": [],
   "source": [
    "rules = pd.read_excel('C:/Users/ScMa9004/Documents/Panel/NEW PANEL/FMCG_CIG_BEER.xlsx',\n",
    "                      sheet_name = 'index + mcellname')"
   ]
  },
  {
   "cell_type": "code",
   "execution_count": 52,
   "metadata": {},
   "outputs": [],
   "source": [
    "# нужно было один раз\n",
    "#merge L20 & M20\n",
    "for i in df['ccode'][(df.hip == 'L20') | (df.hip == 'M20')].unique():\n",
    "    df.loc[(df.ccode == i) & ((df.hip == 'L20') | (df.hip == 'M20')), 'AP_FMCG'] = df['AP_FMCG'][(df.ccode == i) & ((df.hip == 'L20') | (df.hip == 'M20'))].sum()\n",
    "    df.loc[(df.ccode == i) & ((df.hip == 'L20') | (df.hip == 'M20')), 'OP_FMCG'] = df['OP_FMCG'][(df.ccode == i) & ((df.hip == 'L20') | (df.hip == 'M20'))].sum()\n",
    "    df.loc[(df.ccode == i) & ((df.hip == 'L20') | (df.hip == 'M20')), 'hip'] = np.nan\n",
    "    \n",
    "#тоже нужно один раз\n",
    "lst = ['FMCG', 'CIG', 'BEER']\n",
    "for k in lst:\n",
    "    for i in df['ccode'][(df.hip == 'L') | (df.hip == 'M') | (df.hip == 'S')].unique():\n",
    "        df.loc[(df.ccode == i) & ((df.hip == 'L') | (df.hip == 'M') | (df.hip == 'S')), 'AP_' + k] = df['AP_' + k][(df.ccode == i) & ((df.hip == 'L') | (df.hip == 'M') | (df.hip == 'S'))].sum()\n",
    "        df.loc[(df.ccode == i) & ((df.hip == 'L') | (df.hip == 'M') | (df.hip == 'S')), 'OP_' + k] = df['OP_' + k][(df.ccode == i) & ((df.hip == 'L') | (df.hip == 'M') | (df.hip == 'S'))].sum()\n",
    "        df.loc[(df.ccode == i) & ((df.hip == 'L') | (df.hip == 'M') | (df.hip == 'S')), 'hip'] = 'L'\n",
    "        \n",
    "df = df.drop_duplicates()\n",
    "df.loc[df['hip'] == 'L', 'hip'] = np.nan\n",
    "\n",
    "#нужно было один раз\n",
    "df = pd.merge(df, arc[['City Code', 'City Name']].rename(columns = {'City Code': 'ccode'}), on = 'ccode', how = 'left')"
   ]
  },
  {
   "cell_type": "code",
   "execution_count": 53,
   "metadata": {},
   "outputs": [],
   "source": [
    "def parser(mcell):\n",
    "    if mcell.split('-')[0] in ['CNT', 'FST', 'VOL', 'URL', 'NWT', 'STH', 'MSO', 'SIB']:\n",
    "        area = [mcell.split('-')[0]]\n",
    "        if 'RR' in mcell.split('-')[-1]:\n",
    "            ccodes = []\n",
    "            subreg = list(map(int, mcell.split('-')[1].split('|')))\n",
    "            types = ['OSU', 'OLA', 'OME', 'OSM', 'OPV', 'OMM', 'OMS']\n",
    "            pgr = list(mcell.split('-')[2].split('|'))\n",
    "            ds = list(mcell.split('-')[3].split('|'))\n",
    "            hip = []\n",
    "            ndx = [mcell.split('-')[-1]]\n",
    "            NO_city = []\n",
    "            ttr = ['MT|TT']\n",
    "        else:\n",
    "            ccodes = []\n",
    "            subreg = list(map(int, mcell.split('-')[1].split('|')))\n",
    "            if ('IML' in mcell.split('-')[2]) | ('IMS' in mcell.split('-')[2]):\n",
    "                types = ['OKS', 'ONS', 'OPV', 'OSM']\n",
    "                hip = [mcell.split('-')[2]]\n",
    "            else:\n",
    "                types = list(mcell.split('-')[2].split('|'))\n",
    "                hip = []\n",
    "            pgr = list(map(int, mcell.split('-')[3].split('|')))\n",
    "            ttr = list(mcell.split('-')[4].split('|'))\n",
    "            try:\n",
    "                NO_city = list(map(int, mcell.split('-')[5].replace('(', '').replace(')', '').split('&')))\n",
    "            except:\n",
    "                NO_city = []\n",
    "            ndx = [mcell.split('-')[-1]]\n",
    "            ds = []\n",
    "    else:\n",
    "        if '|' in mcell.split('-')[0]:\n",
    "            area = [mcell.split('-')[0] + ' ' + mcell.split('-')[1]]\n",
    "        else:\n",
    "            area = [mcell.split('-')[1]]\n",
    "        ccodes = list(map(int, mcell.split('-')[0].split('|')))\n",
    "        subreg = []\n",
    "        hip = []\n",
    "        if ('IML' in mcell.split('-')[2]) | ('IMS' in mcell.split('-')[2]):\n",
    "            types = ['OKS', 'ONS', 'OPV', 'OSM']\n",
    "            hip = [mcell.split('-')[2]]\n",
    "        else:\n",
    "            types = list(mcell.split('-')[2].split('|'))\n",
    "        if ('Y' in mcell.split('-')[3]) | ('N' in mcell.split('-')[3]):\n",
    "            ttr = ['TT']\n",
    "            hip = list(mcell.split('-')[3])\n",
    "        else:\n",
    "            ttr = list(mcell.split('-')[3].split('|'))\n",
    "        NO_city = []\n",
    "        pgr = []\n",
    "        ndx = [mcell.split('-')[-1]]\n",
    "        ds = []\n",
    "    return(area, ccodes, subreg, types, pgr, ttr, NO_city, hip, ds, ndx)"
   ]
  },
  {
   "cell_type": "markdown",
   "metadata": {},
   "source": [
    "# panel report new mcells"
   ]
  },
  {
   "cell_type": "code",
   "execution_count": 54,
   "metadata": {},
   "outputs": [],
   "source": [
    "def add_mcells_to_panrep(df, rules, arc, uo200):\n",
    "    # prepare file\n",
    "\n",
    "    wrk1 = arc[['City Code',\n",
    "                '# of Federal Subject', \n",
    "                'pgr1']].rename(columns = {'City Code': 'citycode',\n",
    "                                                                   '# of Federal Subject': 'sub'})\n",
    "\n",
    "\n",
    "    wrk2 = uo200[['ACN NN',\n",
    "                  'Federal Subject Number',\n",
    "                  'pgr_MT', \n",
    "                  'Distance Strata']][uo200['ACN NN'].notna() &\\\n",
    "                                      (uo200['ACN NN'] != 'Не использовать')].rename(columns = {'ACN NN': 'citycode',\n",
    "                                                                                                'Federal Subject Number': 'sub', \n",
    "                                                                                                'pgr_MT': 'pgr1'})\n",
    "    wrk2 = wrk2[wrk2['citycode'] >= 10000]\n",
    "\n",
    "    wrk = wrk1.append(wrk2, sort = False).drop_duplicates()\n",
    "\n",
    "    df = df[df['allstat'] != 'P']\n",
    "    df.loc[df['rum'].isna() & df['rux'].notna(), 'rum'] = df['rux']\n",
    "\n",
    "    df = pd.merge(df, wrk, on = 'citycode', how = 'left')\n",
    "\n",
    "    df.loc[df['mt'] == False, 'mt'] = 'TT'\n",
    "    df.loc[df['mt'] == True, 'mt'] = 'MT'\n",
    "\n",
    "    df.loc[df['hip'] == '1', 'hip'] = 'Y'\n",
    "    df.loc[df['hip'] == '0', 'hip'] = 'N'\n",
    "\n",
    "    df = df[['outlet10', 'rub', 'ruc', 'rum', 'type', 'bst', 'citycode', 'mt', 'hip', 'sub', 'pgr1', 'Distance Strata', 'ops']]\n",
    "\n",
    "\n",
    "    df['fmcg'] = np.nan\n",
    "    df['cig'] = np.nan\n",
    "    df['beer'] = np.nan\n",
    "    df['exxon'] = np.nan\n",
    "    df['rrc'] = np.nan\n",
    "    df['rrb'] = np.nan\n",
    "    \n",
    "    # mcell id for panel stores\n",
    "    for i, j in rules.iterrows():\n",
    "        conditions = parser(j['new_mcell_name'])\n",
    "        if conditions[1]:\n",
    "            c1 = df['citycode'].isin(conditions[1])\n",
    "        else:\n",
    "            c1 = df['citycode'].isin(df['citycode'])\n",
    "        if conditions[2]:\n",
    "            c2 = df['sub'].isin(conditions[2])\n",
    "        else:\n",
    "            c2 = df['sub'].isin(df['sub'])\n",
    "        if conditions[3]:\n",
    "            c3 = df['type'].isin(conditions[3])\n",
    "        else:\n",
    "            c3 = df['type'].isin(df['type'])\n",
    "        if conditions[4]:\n",
    "            c4 = df['pgr1'].isin(conditions[4])\n",
    "        else:\n",
    "            c4 = df['pgr1'].isin(df['pgr1'])\n",
    "        if conditions[5]:\n",
    "            if '|' not in conditions[5][0]:\n",
    "                c5 = df['mt'].isin(conditions[5])\n",
    "            else:\n",
    "                c5 = df['mt'].isin(df['mt'])\n",
    "        else:\n",
    "            c5 = df['mt'].isin(df['mt'])\n",
    "        if conditions[6]:\n",
    "            c6 = ~df['citycode'].isin(conditions[6])\n",
    "        else:\n",
    "            c6 = df['citycode'].isin(df['citycode'])\n",
    "        if conditions[7]:\n",
    "            c7 = df['hip'].isin(conditions[7])\n",
    "        else:\n",
    "            c7 = df['hip'].isin(df['hip'])\n",
    "        if conditions[8]:\n",
    "            c8 = df['Distance Strata'].isin(conditions[8])\n",
    "        else:\n",
    "            c8 = df['Distance Strata'].isin(df['Distance Strata'])\n",
    "        if conditions[9][0] == 'FMCG':\n",
    "            c9 = df['rum'].notna()\n",
    "            c10 = (df['citycode'] < 10000)\n",
    "            df.loc[c1 & c2 & c3 & c4 & c5 & c6 & c7 & c8 & c9 & c10, 'fmcg'] = j['index']\n",
    "        elif conditions[9][0] == 'CIG':\n",
    "            c9 = df['ruc'].notna()\n",
    "            c10 = (df['citycode'] < 10000)\n",
    "            df.loc[c1 & c2 & c3 & c4 & c5 & c6 & c7 & c8 & c9 & c10, 'cig'] = j['index']\n",
    "        elif conditions[9][0] == 'BEER':\n",
    "            c9 = df['rub'].notna()\n",
    "            c10 = (df['citycode'] < 10000)\n",
    "            df.loc[c1 & c2 & c3 & c4 & c5 & c6 & c7 & c8 & c9 & c10, 'beer'] = j['index']\n",
    "        elif conditions[9][0] == 'EXXON':\n",
    "            c9 = df['rum'].notna()\n",
    "            c10 = (df['citycode'] < 10000)\n",
    "            df.loc[c1 & c2 & c3 & c4 & c5 & c6 & c7 & c8 & c9 & c10, 'exxon'] = j['index']\n",
    "        elif conditions[9][0] == 'RRC':\n",
    "            c9 = df['ruc'].notna()\n",
    "            c10 = (df['citycode'] >= 10000)\n",
    "            df.loc[c1 & c2 & c3 & c4 & c5 & c6 & c7 & c8 & c9 & c10, 'rrc'] = j['index']\n",
    "        elif conditions[9][0] == 'RRB':\n",
    "            c9 = df['rub'].notna()\n",
    "            c10 = (df['citycode'] >= 10000)\n",
    "            df.loc[c1 & c2 & c3 & c4 & c5 & c6 & c7 & c8 & c9 & c10, 'rrb'] = j['index']\n",
    "    \n",
    "    #df.loc[(df.hip == 'L20') | (df.hip == 'M20') | (df.hip == 'L') | (df.hip == 'M') | (df.hip == 'S'), 'hip'] = np.nan\n",
    "    \n",
    "    if len(df[df.fmcg.isna() & df.cig.isna() & df.beer.isna() & df.rrc.isna() & df.rrb.isna() & df.exxon.isna()]) > 0:\n",
    "        print('Эти тт не попали ни в один микроселл:')\n",
    "        print(df['outlet10'][df.fmcg.isna() & df.cig.isna() & df.beer.isna() & df.rrc.isna() & df.rrb.isna() & df.exxon.isna()])\n",
    "    \n",
    "    \n",
    "    return df"
   ]
  },
  {
   "cell_type": "code",
   "execution_count": 55,
   "metadata": {
    "scrolled": true
   },
   "outputs": [
    {
     "name": "stdout",
     "output_type": "stream",
     "text": [
      "Эти тт не попали ни в один микроселл:\n",
      "1603    2010001854\n",
      "1929    2010002183\n",
      "8788    2000MC7148\n",
      "Name: outlet10, dtype: object\n"
     ]
    }
   ],
   "source": [
    "panrep = add_mcells_to_panrep(panrep, rules, arc, uo200)"
   ]
  },
  {
   "cell_type": "code",
   "execution_count": 56,
   "metadata": {},
   "outputs": [],
   "source": [
    "panrep.loc[panrep['hip'].isin(['S', 'M', 'L', 'M20', 'L20']), 'hip'] = np.nan"
   ]
  },
  {
   "cell_type": "code",
   "execution_count": 60,
   "metadata": {},
   "outputs": [
    {
     "data": {
      "text/html": [
       "<div>\n",
       "<style scoped>\n",
       "    .dataframe tbody tr th:only-of-type {\n",
       "        vertical-align: middle;\n",
       "    }\n",
       "\n",
       "    .dataframe tbody tr th {\n",
       "        vertical-align: top;\n",
       "    }\n",
       "\n",
       "    .dataframe thead th {\n",
       "        text-align: right;\n",
       "    }\n",
       "</style>\n",
       "<table border=\"1\" class=\"dataframe\">\n",
       "  <thead>\n",
       "    <tr style=\"text-align: right;\">\n",
       "      <th></th>\n",
       "      <th>outlet10</th>\n",
       "      <th>rub</th>\n",
       "      <th>ruc</th>\n",
       "      <th>rum</th>\n",
       "      <th>type</th>\n",
       "      <th>bst</th>\n",
       "      <th>citycode</th>\n",
       "      <th>mt</th>\n",
       "      <th>hip</th>\n",
       "      <th>sub</th>\n",
       "      <th>pgr1</th>\n",
       "      <th>Distance Strata</th>\n",
       "      <th>ops</th>\n",
       "      <th>fmcg</th>\n",
       "      <th>cig</th>\n",
       "      <th>beer</th>\n",
       "      <th>exxon</th>\n",
       "      <th>rrc</th>\n",
       "      <th>rrb</th>\n",
       "    </tr>\n",
       "  </thead>\n",
       "  <tbody>\n",
       "    <tr>\n",
       "      <td>8788</td>\n",
       "      <td>2000MC7148</td>\n",
       "      <td>NaN</td>\n",
       "      <td>NaN</td>\n",
       "      <td>A</td>\n",
       "      <td>OOP</td>\n",
       "      <td>1</td>\n",
       "      <td>589</td>\n",
       "      <td>TT</td>\n",
       "      <td>NaN</td>\n",
       "      <td>NaN</td>\n",
       "      <td>NaN</td>\n",
       "      <td>NaN</td>\n",
       "      <td>1</td>\n",
       "      <td>NaN</td>\n",
       "      <td>NaN</td>\n",
       "      <td>NaN</td>\n",
       "      <td>NaN</td>\n",
       "      <td>NaN</td>\n",
       "      <td>NaN</td>\n",
       "    </tr>\n",
       "  </tbody>\n",
       "</table>\n",
       "</div>"
      ],
      "text/plain": [
       "        outlet10  rub  ruc rum type  bst  citycode  mt  hip  sub pgr1  \\\n",
       "8788  2000MC7148  NaN  NaN   A  OOP    1       589  TT  NaN  NaN  NaN   \n",
       "\n",
       "      Distance Strata  ops  fmcg  cig  beer  exxon  rrc  rrb  \n",
       "8788              NaN    1   NaN  NaN   NaN    NaN  NaN  NaN  "
      ]
     },
     "execution_count": 60,
     "metadata": {},
     "output_type": "execute_result"
    }
   ],
   "source": [
    "# see stores without mcells\n",
    "panrep[panrep['outlet10'] == '2000MC7148']"
   ]
  },
  {
   "cell_type": "code",
   "execution_count": 61,
   "metadata": {},
   "outputs": [],
   "source": [
    "#если необходимо - определить микроселл для нераскидавшихся тт\n",
    "panrep.loc[panrep['outlet10'] == '2010001854', 'cig'] = 5543\n",
    "panrep.loc[panrep['outlet10'] == '2010002183', 'fmcg'] = 1334"
   ]
  },
  {
   "cell_type": "code",
   "execution_count": 367,
   "metadata": {},
   "outputs": [],
   "source": [
    "panrep.to_excel('panel_report-new_mcells.xlsx')"
   ]
  },
  {
   "cell_type": "markdown",
   "metadata": {},
   "source": [
    "# NDX"
   ]
  },
  {
   "cell_type": "code",
   "execution_count": 80,
   "metadata": {},
   "outputs": [],
   "source": [
    "ndx = pd.DataFrame(columns = {'outlet10', 'index'})\n",
    "for i in ['fmcg', 'cig', 'beer', 'exxon', 'rrc', 'rrb']:\n",
    "    ndx = ndx.append(panrep[['outlet10', i]].rename(columns = {i: 'index'}).dropna())\n",
    "\n",
    "ndx = pd.merge(ndx, rules[['index', 'CELL_ID']], on = 'index', how = 'left')\n",
    "\n",
    "ndx.to_excel('ndx.xlsx', index = False)"
   ]
  },
  {
   "cell_type": "markdown",
   "metadata": {},
   "source": [
    "# new_panel_op_ap"
   ]
  },
  {
   "cell_type": "code",
   "execution_count": 368,
   "metadata": {},
   "outputs": [],
   "source": [
    "a = pd.pivot_table(panrep, index = 'fmcg', values = 'outlet10', aggfunc = 'count').reset_index().rename(columns = {'fmcg': 'index'})\n",
    "b = pd.pivot_table(panrep, index = 'cig', values = 'outlet10', aggfunc = 'count').reset_index().rename(columns = {'cig': 'index'})\n",
    "c = pd.pivot_table(panrep, index = 'beer', values = 'outlet10', aggfunc = 'count').reset_index().rename(columns = {'beer': 'index'})\n",
    "d = pd.pivot_table(panrep, index = 'exxon', values = 'outlet10', aggfunc = 'count').reset_index().rename(columns = {'exxon': 'index'})\n",
    "e = pd.pivot_table(panrep, index = 'rrc', values = 'outlet10', aggfunc = 'count').reset_index().rename(columns = {'rrc': 'index'})\n",
    "f = pd.pivot_table(panrep, index = 'rrb', values = 'outlet10', aggfunc = 'count').reset_index().rename(columns = {'rrb': 'index'})\n",
    "res = a.append(b).append(c).append(c).append(d).append(e).append(f).rename(columns = {'outlet10': 'AP'})\n",
    "\n",
    "res = pd.merge(rules, res, on = 'index', how = 'left').drop_duplicates()\n",
    "\n",
    "res['AP'] = res['AP'].fillna(0)\n",
    "\n",
    "res['ndx'] = ''\n",
    "res.loc[res['index'] < 4000, 'ndx'] = 'fmcg'\n",
    "res.loc[(res['index'] >= 4000) & (res['index'] < 6000), 'ndx'] = 'cig'\n",
    "res.loc[(res['index'] >= 6000) & (res['index'] < 7000), 'ndx'] = 'beer'\n",
    "res.loc[(res['index'] >= 7000) & (res['index'] < 8000), 'ndx'] = 'exxon'\n",
    "res.loc[(res['index'] >= 10000) & (res['index'] < 11000), 'ndx'] = 'rrc'\n",
    "res.loc[res['index'] >= 11000, 'ndx'] = 'rrb'\n",
    "\n",
    "res.to_excel('new_panel_op_ap.xlsx')"
   ]
  },
  {
   "cell_type": "markdown",
   "metadata": {},
   "source": [
    "# panel russia"
   ]
  },
  {
   "cell_type": "code",
   "execution_count": 369,
   "metadata": {},
   "outputs": [
    {
     "name": "stdout",
     "output_type": "stream",
     "text": [
      "1717 OMS 555 TT 1922.0 fmcg\n",
      "1767 OPR 583 TT 1840.0 fmcg\n",
      "1771 FKT 541 TT 3111.0 fmcg\n",
      "1802 OBS 1463 MT 1207.0 fmcg\n",
      "1808 FKF 1004 TT 3148.0 fmcg\n",
      "1851 OWS 1014 TT 1285.0 fmcg\n",
      "1924 OPV 1473 TT 2683.0 fmcg\n",
      "1929 OHS 1040 MT 1334.0 fmcg\n",
      "1603 FKT 973 TT 5543.0 cig\n",
      "1758 OME 940 TT 4835.0 cig\n",
      "1775 OKT 193 TT 4311.0 cig\n",
      "1796 OTK 348 TT 5545.0 cig\n",
      "1878 OMM 345 MT 4245.0 cig\n",
      "1900 OWS 963 TT 4839.0 cig\n",
      "1948 OME 467 TT 4313.0 cig\n",
      "1989 OME 1605 TT 4805.0 cig\n",
      "1867 OSM 1516 TT 6390.0 beer\n"
     ]
    }
   ],
   "source": [
    "#create columns for new AP and fill\n",
    "\n",
    "df['fmcg'] = 0\n",
    "df['cig'] = 0\n",
    "df['beer'] = 0\n",
    "df['exxon'] = 0\n",
    "\n",
    "for k in ['fmcg', 'cig', 'beer', 'exxon']:\n",
    "    for i, j in panrep[panrep[k].notna()].iterrows():\n",
    "        ccode = df['ccode'] == j['citycode']\n",
    "        stype = df['type'] == j['type']\n",
    "        ttr = df['ttr'] == j['mt']\n",
    "        mcell = df['MCELL_ID_' + k.upper()] == j[k]\n",
    "        if isinstance(j['hip'], str):\n",
    "            hip = df['hip'] == j['hip']\n",
    "        else:\n",
    "            hip = df['hip'].isna()\n",
    "            \n",
    "        if len(df[k][mcell & ccode & stype & ttr & hip]) > 1:\n",
    "            print('Эти строки дублируют друг друга',df[mcell & ccode & stype & ttr & hip])\n",
    "            \n",
    "        elif len(df[k][mcell & ccode & stype & ttr & hip]) == 0:\n",
    "            if len(df[k][ccode & stype & ttr & hip]) == 1:\n",
    "                #if row has wrong mcell (after new panel russia implementation)\n",
    "                df.loc[df.index[ccode & stype & ttr & hip], 'MCELL_ID_' + k.upper()] = j[k]\n",
    "                ccode = df['ccode'] == j['citycode']\n",
    "                stype = df['type'] == j['type']\n",
    "                ttr = df['ttr'] == j['mt']\n",
    "                mcell = df['MCELL_ID_' + k.upper()] == j[k]\n",
    "                if isinstance(j['hip'], str):\n",
    "                    hip = df['hip'] == j['hip']\n",
    "                else:\n",
    "                    hip = df['hip'].isna()\n",
    "            else:\n",
    "                #show store which can not find row in panel russia\n",
    "                n = len(df) + 1\n",
    "                df.loc[n, 'ccode'] = j['citycode']\n",
    "                df.loc[n, 'type'] = j['type']\n",
    "                df.loc[n, 'ttr'] = j['mt']\n",
    "                df.loc[n, 'MCELL_ID_' + k.upper()] = j[k]\n",
    "                df.loc[n, 'hip'] = j['hip']\n",
    "                df.loc[n, 'Sub_id'] = j['sub']\n",
    "                df.loc[n, 'pgr1'] = j['pgr1']\n",
    "                df.loc[n, 'ops'] = j['ops']\n",
    "                df.loc[n, 'fmcg'] = 0\n",
    "                df.loc[n, 'cig'] = 0\n",
    "                df.loc[n, 'beer'] = 0\n",
    "                df.loc[n, 'exxon'] = 0\n",
    "                ccode = df['ccode'] == j['citycode']\n",
    "                stype = df['type'] == j['type']\n",
    "                ttr = df['ttr'] == j['mt']\n",
    "                mcell = df['MCELL_ID_' + k.upper()] == j[k]\n",
    "                if isinstance(j['hip'], str):\n",
    "                    hip = df['hip'] == j['hip']\n",
    "                else:\n",
    "                    hip = df['hip'].isna()\n",
    "                print(i, j['type'], j['citycode'], j['mt'], j[k], k)\n",
    "        df.loc[mcell & ccode & stype & ttr & hip, k] = df[k][mcell & ccode & stype & ttr & hip] + 1"
   ]
  },
  {
   "cell_type": "code",
   "execution_count": 374,
   "metadata": {},
   "outputs": [
    {
     "data": {
      "text/plain": [
       "fmcg        7159.0\n",
       "AP_FMCG     7235.0\n",
       "cig         9214.0\n",
       "AP_CIG      9272.0\n",
       "beer        4591.0\n",
       "AP_BEER     4605.0\n",
       "exxon        278.0\n",
       "AP_EXXON     277.0\n",
       "dtype: float64"
      ]
     },
     "execution_count": 374,
     "metadata": {},
     "output_type": "execute_result"
    }
   ],
   "source": [
    "#сравнение старой  и новой АП\n",
    "df[['fmcg', 'AP_FMCG', 'cig', 'AP_CIG', 'beer', 'AP_BEER', 'exxon', 'AP_EXXON']].sum()"
   ]
  },
  {
   "cell_type": "code",
   "execution_count": 375,
   "metadata": {
    "scrolled": true
   },
   "outputs": [
    {
     "name": "stdout",
     "output_type": "stream",
     "text": [
      "7159 9214 4591 278\n"
     ]
    }
   ],
   "source": [
    "#stores in indexes in panel report\n",
    "print(len(panrep[panrep.fmcg.notna()]),\n",
    "len(panrep[panrep.cig.notna()]),\n",
    "len(panrep[panrep.beer.notna()]),\n",
    "len(panrep[panrep.exxon.notna()]))"
   ]
  },
  {
   "cell_type": "code",
   "execution_count": 372,
   "metadata": {
    "scrolled": true
   },
   "outputs": [],
   "source": [
    "#перераспределение внутри микроселлов\n",
    "for k in ['fmcg', 'cig', 'beer', 'exxon']:\n",
    "    for i, j in df[df['MCELL_ID_' + k.upper()].notna() & (df[k] > df['OP_' + k.upper()])].iterrows():\n",
    "        #если в некоторой строке ап увеличилась и есть оверсэмпл и ОП всего микроселла >= АП всего микроселла\n",
    "        if (j[k] > j['AP_' + k.upper()]) &\\\n",
    "        (j[k] > j['OP_' + k.upper()]) &\\\n",
    "        (df['OP_' + k.upper()][df['MCELL_ID_' + k.upper()] == j['MCELL_ID_' + k.upper()]].sum() >=\\\n",
    "        df[k][df['MCELL_ID_' + k.upper()] == j['MCELL_ID_' + k.upper()]].sum()):\n",
    "            while (df[k][i] - df['OP_' + k.upper()][i]) > 0:\n",
    "                for l in df.index[df['MCELL_ID_' + k.upper()] == j['MCELL_ID_' + k.upper()]]:\n",
    "                    if df['OP_' + k.upper()][l] > df[k][l]:\n",
    "                        df.loc[l, 'OP_' + k.upper()] = df['OP_' + k.upper()][l] - 1\n",
    "                        df.loc[i, 'OP_' + k.upper()] = df['OP_' + k.upper()][i] + 1\n",
    "                        if (df[k][i] - df['OP_' + k.upper()][i]) == 0:\n",
    "                            break"
   ]
  },
  {
   "cell_type": "code",
   "execution_count": 376,
   "metadata": {},
   "outputs": [],
   "source": [
    "df['AP_FMCG'] = df['fmcg']\n",
    "df['AP_CIG'] = df['cig']\n",
    "df['AP_BEER'] = df['beer']\n",
    "df['AP_EXXON'] = df['exxon']"
   ]
  },
  {
   "cell_type": "code",
   "execution_count": 377,
   "metadata": {},
   "outputs": [],
   "source": [
    "df = df.drop(columns = ['fmcg', 'cig', 'beer', 'exxon'])"
   ]
  },
  {
   "cell_type": "code",
   "execution_count": 378,
   "metadata": {},
   "outputs": [],
   "source": [
    "df.to_excel('Panel_russia_315.xlsx')"
   ]
  },
  {
   "cell_type": "code",
   "execution_count": null,
   "metadata": {},
   "outputs": [],
   "source": []
  }
 ],
 "metadata": {
  "kernelspec": {
   "display_name": "Python 3",
   "language": "python",
   "name": "python3"
  },
  "language_info": {
   "codemirror_mode": {
    "name": "ipython",
    "version": 3
   },
   "file_extension": ".py",
   "mimetype": "text/x-python",
   "name": "python",
   "nbconvert_exporter": "python",
   "pygments_lexer": "ipython3",
   "version": "3.7.4"
  }
 },
 "nbformat": 4,
 "nbformat_minor": 2
}
