{
 "cells": [
  {
   "cell_type": "code",
   "execution_count": 3,
   "metadata": {},
   "outputs": [],
   "source": [
    "import os, shutil"
   ]
  },
  {
   "cell_type": "code",
   "execution_count": 4,
   "metadata": {},
   "outputs": [],
   "source": [
    "cat155 = open('C:/Maxim/!Precipitation/155.txt', 'r')\n",
    "c155 = cat155.readlines()\n",
    "cat155.close()"
   ]
  },
  {
   "cell_type": "code",
   "execution_count": 5,
   "metadata": {},
   "outputs": [],
   "source": [
    "cat1456 = open('C:/Maxim/!Precipitation/1456.txt', 'r')\n",
    "c1456 = cat1456.readlines()\n",
    "cat1456.close()"
   ]
  },
  {
   "cell_type": "code",
   "execution_count": 4,
   "metadata": {},
   "outputs": [],
   "source": [
    "def dd(cat):\n",
    "    try:\n",
    "        os.mkdir('C:/Maxim/!Precipitation/dd_' + str(len(cat)))\n",
    "    except:\n",
    "        shutil.rmtree('C:/Maxim/!Precipitation/dd_' + str(len(cat)), ignore_errors=True)\n",
    "        os.mkdir('C:/Maxim/!Precipitation/dd_' + str(len(cat)))\n",
    "    for i in range(len(cat)):\n",
    "        if not str:\n",
    "            break\n",
    "        k = cat[i].split()[1]\n",
    "        n = k\n",
    "        if len(n) < 5:\n",
    "            n = '0' + n\n",
    "        res = open('C:/Maxim/!Precipitation/dd_' + str(len(cat)) + '/'  + k, 'w')\n",
    "        a = open('E:/ghcnd_all/' + cat[i].split()[0] + '.dly', 'r')\n",
    "        aa = a.readlines()\n",
    "        a.close()\n",
    "        for j in range(len(aa)):\n",
    "            if not str:\n",
    "                break\n",
    "            if aa[j][17:21] == 'PRCP':\n",
    "                res.write(aa[j])          \n",
    "        res.close()"
   ]
  },
  {
   "cell_type": "code",
   "execution_count": 27,
   "metadata": {},
   "outputs": [],
   "source": [
    "dd(c155)"
   ]
  },
  {
   "cell_type": "code",
   "execution_count": 34,
   "metadata": {},
   "outputs": [],
   "source": [
    "dd(c1456)"
   ]
  },
  {
   "cell_type": "code",
   "execution_count": 6,
   "metadata": {},
   "outputs": [],
   "source": [
    "def N_day(x, y):\n",
    "    if x == '01' or x == '03' or x == '05' or x == '07' or x == '08' or x == '10' or x == '12':\n",
    "        dm = 31\n",
    "    elif x == '04' or x == '06' or x == '09' or x == '11':\n",
    "        dm = 30\n",
    "    else:\n",
    "        if y % 4 != 0 or (y % 100 == 0 and y % 400 != 0):\n",
    "            dm = 28\n",
    "        else:\n",
    "            dm = 29\n",
    "    return dm   "
   ]
  },
  {
   "cell_type": "code",
   "execution_count": 29,
   "metadata": {},
   "outputs": [],
   "source": [
    "def df(cat):\n",
    "    try:\n",
    "        os.mkdir('C:/Maxim/!Precipitation/df_' + str(len(cat)))\n",
    "    except:\n",
    "        shutil.rmtree('C:/Maxim/!Precipitation/df_' + str(len(cat)), ignore_errors=True)\n",
    "        os.mkdir('C:/Maxim/!Precipitation/df_' + str(len(cat)))\n",
    "    for i in range(len(cat)):\n",
    "        file = open('C:/Maxim/!Precipitation/dd_' + str(len(cat)) + '/' + cat[i].split()[1], 'r')\n",
    "        f = file.readlines()\n",
    "        file.close()\n",
    "        res = open('C:/Maxim/!Precipitation/df_' + str(len(cat)) + '/' + cat[i].split()[1], 'w')\n",
    "        res.write('iREC _iWMO YYYY MM _PRCP _ND ND0 NDТ ND1 MFLAG SFLAG QFLAG' + '\\n')\n",
    "        iREC = 0\n",
    "        for j in range(len(f)):\n",
    "            dm = N_day(f[j][15:17], int(f[j][15:17]))          #подсчет количества дней в месяце\n",
    "            c1 = 21                                            #константы для позиций\n",
    "            c2 = 26\n",
    "            c3 = 27\n",
    "            c4 = 28\n",
    "            g = 0                                               \n",
    "            PRCP = 0\n",
    "            t = 0                                              #количество случаев с: -9999 + QFLAG + SFLAG[Q/S]\n",
    "            tcheck = True\n",
    "            NDT = 0\n",
    "            ND1 = 0\n",
    "            ND0 = 0\n",
    "            M = []\n",
    "            S = []   \n",
    "            Q = []\n",
    "            while g != dm:\n",
    "                mm = c1 + g * 8\n",
    "                mf = c2 + g * 8\n",
    "                qf = c3 + g * 8\n",
    "                sf = c4 + g * 8\n",
    "                summ = int(f[j][mm:mf])\n",
    "                if summ == 0:\n",
    "                    ND0 += 1\n",
    "                elif summ == -9999:\n",
    "                    t += 1\n",
    "                    tcheck = False\n",
    "                    summ = 0\n",
    "                mflag = f[j][mf:mf + 1]\n",
    "                if mflag == 'T':\n",
    "                    NDT += 1\n",
    "                else:\n",
    "                    if mflag == ' ':\n",
    "                        mflag = 'S'\n",
    "                    M.append(mflag)\n",
    "                sflag = f[j][sf:sf + 1]\n",
    "                if sflag == 'Q' or sflag == 'S':\n",
    "                    S.append(sflag)\n",
    "                    summ = 0\n",
    "                    if tcheck:\n",
    "                        t += 1\n",
    "                        tcheck = False\n",
    "                qflag = f[j][qf:qf + 1]\n",
    "                if qflag != ' ':\n",
    "                    Q.append(qflag)\n",
    "                    summ = 0\n",
    "                    if tcheck:\n",
    "                        t += 1 \n",
    "                        tcheck = False\n",
    "                if summ > 0:\n",
    "                    ND1 += 1\n",
    "                g += 1\n",
    "                PRCP += summ\n",
    "                tcheck = True\n",
    "            iREC += 1\n",
    "            ND0 -= NDT\n",
    "            M = set(M)\n",
    "            MMM = ''\n",
    "            for v in M:\n",
    "                MMM += v\n",
    "            S = set(S)\n",
    "            SSS = ''\n",
    "            for o in S:\n",
    "                SSS += o\n",
    "            Q = set(Q)\n",
    "            QQQ = ''\n",
    "            for z in Q:\n",
    "                QQQ += z\n",
    "            if t > 3:\n",
    "                PRCP = -9999\n",
    "            ND = dm - t\n",
    "            res.write('{:>4}'.format(iREC) + '{:>6}'.format(cat[i].split()[1]) + '{:>5}'.format(f[j][11:15]) + '{:>3}'.format(f[j][15:17])\\\n",
    "                      + '{:>6}'.format(PRCP) + '{:>4}'.format(ND) +'{:>4}'.format(ND0) + '{:>4}'.format(NDT) + '{:>4}'.format(ND1)\\\n",
    "                      + '{:>6}'.format(SSS) + '{:>6}'.format(MMM) + '{:>6}'.format(QQQ) + '\\n')\n",
    "        res.close()    "
   ]
  },
  {
   "cell_type": "code",
   "execution_count": 30,
   "metadata": {
    "scrolled": true
   },
   "outputs": [],
   "source": [
    "df(c155)"
   ]
  },
  {
   "cell_type": "code",
   "execution_count": 31,
   "metadata": {
    "scrolled": false
   },
   "outputs": [],
   "source": [
    "df(c1456)"
   ]
  }
 ],
 "metadata": {
  "kernelspec": {
   "display_name": "Python 3",
   "language": "python",
   "name": "python3"
  },
  "language_info": {
   "codemirror_mode": {
    "name": "ipython",
    "version": 3
   },
   "file_extension": ".py",
   "mimetype": "text/x-python",
   "name": "python",
   "nbconvert_exporter": "python",
   "pygments_lexer": "ipython3",
   "version": "3.7.1"
  }
 },
 "nbformat": 4,
 "nbformat_minor": 2
}
